{
 "cells": [
  {
   "cell_type": "code",
   "execution_count": 10,
   "metadata": {},
   "outputs": [],
   "source": [
    "import pandas as pd\n",
    "import json"
   ]
  },
  {
   "cell_type": "code",
   "execution_count": 24,
   "metadata": {},
   "outputs": [],
   "source": [
    "def get_threshold(\n",
    "    path_to_xlsx: str,\n",
    "    path_to_json: str\n",
    "):\n",
    "    df = pd.read_excel(\n",
    "        path_to_xlsx,\n",
    "        index_col=[0, ],\n",
    "        header=[0, 1]\n",
    "    )\n",
    "    model_name = df['Model_Information']['Classifier_Name']\n",
    "    threshold = df['Best_Performance']['pro_cutoff']\n",
    "    with open(path_to_json, \"w+\", encoding=\"UTF-8\") as f:\n",
    "        json.dump(\n",
    "            obj=pd.DataFrame({\n",
    "                \"threshold\": threshold.to_list()\n",
    "            }, index=model_name).to_dict(),\n",
    "            fp=f,\n",
    "        )"
   ]
  },
  {
   "cell_type": "code",
   "execution_count": 25,
   "metadata": {},
   "outputs": [],
   "source": [
    "get_threshold(\n",
    "    path_to_xlsx=f\"model/T1/searched_result.xlsx\",\n",
    "    path_to_json=f\"model/T1/threshold.json\",\n",
    ")"
   ]
  },
  {
   "cell_type": "code",
   "execution_count": 26,
   "metadata": {},
   "outputs": [],
   "source": [
    "get_threshold(\n",
    "    path_to_xlsx=f\"model/T2/155100983136298/searched_result.xlsx\",\n",
    "    path_to_json=f\"model/T2/threshold.json\",\n",
    ")"
   ]
  },
  {
   "cell_type": "code",
   "execution_count": 27,
   "metadata": {},
   "outputs": [],
   "source": [
    "get_threshold(\n",
    "    path_to_xlsx=f\"model/T6/1698039127349260/model/searched_result.xlsx\",\n",
    "    path_to_json=f\"model/T6/threshold.json\",\n",
    ")"
   ]
  },
  {
   "cell_type": "code",
   "execution_count": null,
   "metadata": {},
   "outputs": [],
   "source": []
  }
 ],
 "metadata": {
  "kernelspec": {
   "display_name": "TxSEml_Backend",
   "language": "python",
   "name": "python3"
  },
  "language_info": {
   "codemirror_mode": {
    "name": "ipython",
    "version": 3
   },
   "file_extension": ".py",
   "mimetype": "text/x-python",
   "name": "python",
   "nbconvert_exporter": "python",
   "pygments_lexer": "ipython3",
   "version": "3.10.12"
  },
  "orig_nbformat": 4
 },
 "nbformat": 4,
 "nbformat_minor": 2
}

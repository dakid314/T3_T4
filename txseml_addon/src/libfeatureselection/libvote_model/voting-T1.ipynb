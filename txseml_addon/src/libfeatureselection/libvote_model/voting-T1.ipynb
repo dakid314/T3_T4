{
 "cells": [
  {
   "attachments": {},
   "cell_type": "markdown",
   "metadata": {},
   "source": [
    "# T1 Voting"
   ]
  },
  {
   "attachments": {},
   "cell_type": "markdown",
   "metadata": {},
   "source": [
    "> 要不要看看T1SPs的那个AAC各模型，除去LPA、MLP、ERT以及DT四个，剩下来11个模型集成一下，看看性能如何？"
   ]
  },
  {
   "cell_type": "code",
   "execution_count": 1,
   "metadata": {},
   "outputs": [],
   "source": [
    "# rT1-TT-AAC\n",
    "prot_type = 1\n",
    "job_name = \"rT1-TT-AAC_Voting\"\n",
    "path_to_score_dir = \"model/T1/model/\"\n",
    "path_to_model_score_path = f\"model/T1/tmp/\""
   ]
  },
  {
   "attachments": {},
   "cell_type": "markdown",
   "metadata": {},
   "source": [
    "## 按模型顺序加载预测分数"
   ]
  },
  {
   "cell_type": "code",
   "execution_count": 2,
   "metadata": {},
   "outputs": [
    {
     "name": "stderr",
     "output_type": "stream",
     "text": [
      "2023-08-02 13:44:38.236835: I tensorflow/core/util/util.cc:169] oneDNN custom operations are on. You may see slightly different numerical results due to floating-point round-off errors from different computation orders. To turn them off, set the environment variable `TF_ENABLE_ONEDNN_OPTS=0`.\n",
      "2023-08-02 13:44:38.239744: W tensorflow/stream_executor/platform/default/dso_loader.cc:64] Could not load dynamic library 'libcudart.so.11.0'; dlerror: libcudart.so.11.0: cannot open shared object file: No such file or directory\n",
      "2023-08-02 13:44:38.239753: I tensorflow/stream_executor/cuda/cudart_stub.cc:29] Ignore above cudart dlerror if you do not have a GPU set up on your machine.\n",
      "2023-08-02 13:44:38.990266: W tensorflow/stream_executor/platform/default/dso_loader.cc:64] Could not load dynamic library 'libcuda.so.1'; dlerror: libcuda.so.1: cannot open shared object file: No such file or directory\n",
      "2023-08-02 13:44:38.990284: W tensorflow/stream_executor/cuda/cuda_driver.cc:269] failed call to cuInit: UNKNOWN ERROR (303)\n",
      "2023-08-02 13:44:38.990299: I tensorflow/stream_executor/cuda/cuda_diagnostics.cc:156] kernel driver does not appear to be running on this host (A7LAB): /proc/driver/nvidia/version does not exist\n"
     ]
    }
   ],
   "source": [
    "import os\n",
    "import sys\n",
    "sys.path.append(\"src\")\n",
    "os.environ['CUDA_VISIBLE_DEVICES'] = '-1'\n",
    "\n",
    "import warnings\n",
    "warnings.filterwarnings('ignore')\n",
    "\n",
    "from libfeatureselection import model_space"
   ]
  },
  {
   "cell_type": "code",
   "execution_count": 3,
   "metadata": {},
   "outputs": [],
   "source": [
    "model_allname_list = [\n",
    "    item['name']\n",
    "    for item in model_space.find_space\n",
    "]\n",
    "model_list_dict = { item['name']:item for item in model_space.find_space }"
   ]
  },
  {
   "cell_type": "code",
   "execution_count": 4,
   "metadata": {},
   "outputs": [],
   "source": [
    "import gzip\n",
    "import pickle\n",
    "import numpy as np"
   ]
  },
  {
   "cell_type": "code",
   "execution_count": 5,
   "metadata": {},
   "outputs": [],
   "source": [
    "from sklearn.metrics import roc_curve\n",
    "def get_optimal_threshold(target: np.ndarray, predict: np.ndarray):\n",
    "\n",
    "    predict = np.nan_to_num(\n",
    "        predict, copy=True, nan=0.0\n",
    "    )\n",
    "    fpr, tpr, thresholds = roc_curve(target, predict)\n",
    "    best_one_optimal_idx = np.argmax(tpr - fpr)\n",
    "    pro_cutoff = thresholds[best_one_optimal_idx]\n",
    "    predict_l = [1 if i >= pro_cutoff else 0 for i in predict]\n",
    "\n",
    "    return pro_cutoff\n",
    "\n",
    "def get_threshold_for_dict(_score_dict: dict):\n",
    "    # best_predicted_pair\n",
    "    _score_dict['best_predicted_pair_pro_cutoff'] = get_optimal_threshold(\n",
    "        target=_score_dict['best_predicted_pair'][1],\n",
    "        predict=_score_dict['best_predicted_pair'][0][:, 1]\n",
    "    )\n",
    "    _score_dict['best_predicted_binary'] = (\n",
    "        _score_dict['best_predicted_pair'][0] >= _score_dict['best_predicted_pair_pro_cutoff']\n",
    "    ).astype(int)\n",
    "\n",
    "    # best_5C_predicted_pair\n",
    "    _score_dict['best_5C_predicted_pair_pro_cutoff'] = [\n",
    "        get_optimal_threshold(\n",
    "            target=fold_item[1],\n",
    "            predict=fold_item[0][:, 1]\n",
    "        )\n",
    "        for fold_item in _score_dict['best_5C_predicted_pair']\n",
    "    ]\n",
    "    _score_dict['best_5C_predicted_binary'] = [\n",
    "        (\n",
    "            _score_dict['best_5C_predicted_pair'][fold_id][0] >= _score_dict['best_5C_predicted_pair_pro_cutoff'][fold_id]\n",
    "        ).astype(int) for fold_id in range(len(_score_dict['best_5C_predicted_pair']))\n",
    "    ]\n",
    "\n",
    "    return _score_dict"
   ]
  },
  {
   "cell_type": "code",
   "execution_count": 6,
   "metadata": {},
   "outputs": [],
   "source": [
    "score_dict = {\n",
    "    model_name: get_threshold_for_dict(\n",
    "        pickle.load(\n",
    "            gzip.open(f\"{path_to_score_dir}/{model_name}_score.pkl\", \"rb\")\n",
    "        )\n",
    "    )\n",
    "    for model_name in model_allname_list\n",
    "}"
   ]
  },
  {
   "attachments": {},
   "cell_type": "markdown",
   "metadata": {},
   "source": [
    "Voting"
   ]
  },
  {
   "cell_type": "code",
   "execution_count": 7,
   "metadata": {},
   "outputs": [],
   "source": [
    "voting_model_name_list = [\n",
    "    'XGBClassifier',\n",
    "    'LGBMClassifier',\n",
    "    'SVC',\n",
    "    'LogisticRegression',\n",
    "    'SGDClassifier',\n",
    "    'ExtraTreesClassifier',\n",
    "    'GradientBoostingClassifier',\n",
    "    'GaussianNB',\n",
    "    'GaussianProcessClassifier',\n",
    "    'KNeighborsClassifier',\n",
    "    'RandomForestClassifier'\n",
    "]\n",
    "\n",
    "tt_voting_score_pair = [\n",
    "    np.stack([\n",
    "        score_dict[model_name]['best_predicted_binary'][:, 1] for model_name in voting_model_name_list\n",
    "    ], axis=1).mean(axis=1),\n",
    "    next(iter(score_dict.items()))[1]['best_predicted_pair'][1],\n",
    "]\n",
    "\n",
    "cv_voting_score_pair_list = [\n",
    "    [\n",
    "        np.stack([\n",
    "            score_dict[model_name]['best_5C_predicted_binary'][fold_id][:, 1] for model_name in voting_model_name_list\n",
    "        ], axis=1).mean(axis=1),\n",
    "        next(iter(score_dict.items()))[1]['best_5C_predicted_pair'][fold_id][1],\n",
    "    ]\n",
    "    for fold_id in range(len(next(iter(score_dict.items()))[1]['best_5C_predicted_pair']))\n",
    "]\n",
    "\n",
    "os.makedirs(path_to_model_score_path, exist_ok=True)\n",
    "with gzip.open(f\"{path_to_model_score_path}/{job_name}_score.pkl\", \"wb\") as f:\n",
    "    pickle.dump(\n",
    "        {\n",
    "            \"best_predicted_pair\": tt_voting_score_pair,\n",
    "            \"best_5C_predicted_pair\": cv_voting_score_pair_list,\n",
    "        }, f\n",
    "    )"
   ]
  },
  {
   "cell_type": "code",
   "execution_count": 14,
   "metadata": {},
   "outputs": [],
   "source": [
    "from sklearn.metrics import roc_curve\n",
    "import pandas as pd\n",
    "\n",
    "def get_threshold(target: np.ndarray, pred: np.ndarray, spe_rto:float):\n",
    "    fpr, tpr, thresholds = roc_curve(\n",
    "        target, pred\n",
    "    )\n",
    "    if spe_rto is None:\n",
    "        optimal_idx = np.argmax(tpr - fpr)\n",
    "        optimal_threshold = thresholds[optimal_idx]\n",
    "    else:\n",
    "        rocdf = pd.DataFrame({\n",
    "            \"fpr\": fpr,\n",
    "            \"tpr\": tpr,\n",
    "            \"thresholds\": thresholds,\n",
    "            \"nfpr\": np.abs(fpr - 1 + spe_rto)\n",
    "        }).sort_values(\n",
    "            [\"nfpr\", \"tpr\"], ascending=[True, False]\n",
    "        )\n",
    "        optimal_threshold = rocdf.iloc[0, :].at[\"thresholds\"]\n",
    "    return optimal_threshold\n",
    "\n",
    "def get_threshold2(target: np.ndarray, pred: np.ndarray, spe_rto:float):\n",
    "    fpr, tpr, thresholds = roc_curve(\n",
    "        target, pred\n",
    "    )\n",
    "    if spe_rto is None:\n",
    "        optimal_idx = np.argmax(tpr - fpr)\n",
    "        optimal_threshold = thresholds[optimal_idx]\n",
    "    else:\n",
    "        rocdf = pd.DataFrame({\n",
    "            \"fpr\": fpr,\n",
    "            \"tpr\": tpr,\n",
    "            \"thresholds\": thresholds,\n",
    "            \"nfpr\": np.abs(fpr - 1 + spe_rto)\n",
    "        }).sort_values(\n",
    "            [\"nfpr\", \"tpr\"], ascending=[True, False]\n",
    "        )\n",
    "        optimal_threshold = rocdf.iloc[0, :].at[\"thresholds\"]\n",
    "    return rocdf"
   ]
  },
  {
   "cell_type": "code",
   "execution_count": 13,
   "metadata": {},
   "outputs": [
    {
     "data": {
      "text/plain": [
       "{'Prot_Type': 1,\n",
       " '0.95': 0.18181818181818182,\n",
       " '0.99': 0.6363636363636364,\n",
       " '0.995': 0.6363636363636364,\n",
       " '0.999': 0.6363636363636364,\n",
       " '0.9999': 0.6363636363636364,\n",
       " '0.99999': 0.6363636363636364,\n",
       " '0.99999999999': 0.6363636363636364}"
      ]
     },
     "execution_count": 13,
     "metadata": {},
     "output_type": "execute_result"
    }
   ],
   "source": [
    "{\n",
    "    \"Prot_Type\": 1,\n",
    "    \"0.95\": get_threshold(\n",
    "        target=tt_voting_score_pair[1],\n",
    "        pred=tt_voting_score_pair[0],\n",
    "        spe_rto=0.95\n",
    "    ),\n",
    "    \"0.99\": get_threshold(\n",
    "        target=tt_voting_score_pair[1],\n",
    "        pred=tt_voting_score_pair[0],\n",
    "        spe_rto=0.99\n",
    "    ),\n",
    "    \"0.995\": get_threshold(\n",
    "        target=tt_voting_score_pair[1],\n",
    "        pred=tt_voting_score_pair[0],\n",
    "        spe_rto=0.99\n",
    "    ),\n",
    "    \"0.999\": get_threshold(\n",
    "        target=tt_voting_score_pair[1],\n",
    "        pred=tt_voting_score_pair[0],\n",
    "        spe_rto=0.99\n",
    "    ),\n",
    "    \"0.9999\": get_threshold(\n",
    "        target=tt_voting_score_pair[1],\n",
    "        pred=tt_voting_score_pair[0],\n",
    "        spe_rto=0.99\n",
    "    ),\n",
    "    \"0.99999\": get_threshold(\n",
    "        target=tt_voting_score_pair[1],\n",
    "        pred=tt_voting_score_pair[0],\n",
    "        spe_rto=0.99\n",
    "    ),\n",
    "    \"0.99999999999\": get_threshold(\n",
    "        target=tt_voting_score_pair[1],\n",
    "        pred=tt_voting_score_pair[0],\n",
    "        spe_rto=0.99\n",
    "    ),\n",
    "}"
   ]
  },
  {
   "cell_type": "code",
   "execution_count": 16,
   "metadata": {},
   "outputs": [
    {
     "data": {
      "text/html": [
       "<div>\n",
       "<style scoped>\n",
       "    .dataframe tbody tr th:only-of-type {\n",
       "        vertical-align: middle;\n",
       "    }\n",
       "\n",
       "    .dataframe tbody tr th {\n",
       "        vertical-align: top;\n",
       "    }\n",
       "\n",
       "    .dataframe thead th {\n",
       "        text-align: right;\n",
       "    }\n",
       "</style>\n",
       "<table border=\"1\" class=\"dataframe\">\n",
       "  <thead>\n",
       "    <tr style=\"text-align: right;\">\n",
       "      <th></th>\n",
       "      <th>fpr</th>\n",
       "      <th>tpr</th>\n",
       "      <th>thresholds</th>\n",
       "      <th>nfpr</th>\n",
       "    </tr>\n",
       "  </thead>\n",
       "  <tbody>\n",
       "    <tr>\n",
       "      <th>4</th>\n",
       "      <td>0.0</td>\n",
       "      <td>0.95</td>\n",
       "      <td>0.636364</td>\n",
       "      <td>0.01</td>\n",
       "    </tr>\n",
       "    <tr>\n",
       "      <th>3</th>\n",
       "      <td>0.0</td>\n",
       "      <td>0.90</td>\n",
       "      <td>0.818182</td>\n",
       "      <td>0.01</td>\n",
       "    </tr>\n",
       "    <tr>\n",
       "      <th>2</th>\n",
       "      <td>0.0</td>\n",
       "      <td>0.80</td>\n",
       "      <td>0.909091</td>\n",
       "      <td>0.01</td>\n",
       "    </tr>\n",
       "    <tr>\n",
       "      <th>1</th>\n",
       "      <td>0.0</td>\n",
       "      <td>0.75</td>\n",
       "      <td>1.000000</td>\n",
       "      <td>0.01</td>\n",
       "    </tr>\n",
       "    <tr>\n",
       "      <th>0</th>\n",
       "      <td>0.0</td>\n",
       "      <td>0.00</td>\n",
       "      <td>2.000000</td>\n",
       "      <td>0.01</td>\n",
       "    </tr>\n",
       "    <tr>\n",
       "      <th>5</th>\n",
       "      <td>0.1</td>\n",
       "      <td>0.95</td>\n",
       "      <td>0.181818</td>\n",
       "      <td>0.09</td>\n",
       "    </tr>\n",
       "    <tr>\n",
       "      <th>6</th>\n",
       "      <td>0.2</td>\n",
       "      <td>0.95</td>\n",
       "      <td>0.090909</td>\n",
       "      <td>0.19</td>\n",
       "    </tr>\n",
       "    <tr>\n",
       "      <th>7</th>\n",
       "      <td>1.0</td>\n",
       "      <td>1.00</td>\n",
       "      <td>0.000000</td>\n",
       "      <td>0.99</td>\n",
       "    </tr>\n",
       "  </tbody>\n",
       "</table>\n",
       "</div>"
      ],
      "text/plain": [
       "   fpr   tpr  thresholds  nfpr\n",
       "4  0.0  0.95    0.636364  0.01\n",
       "3  0.0  0.90    0.818182  0.01\n",
       "2  0.0  0.80    0.909091  0.01\n",
       "1  0.0  0.75    1.000000  0.01\n",
       "0  0.0  0.00    2.000000  0.01\n",
       "5  0.1  0.95    0.181818  0.09\n",
       "6  0.2  0.95    0.090909  0.19\n",
       "7  1.0  1.00    0.000000  0.99"
      ]
     },
     "execution_count": 16,
     "metadata": {},
     "output_type": "execute_result"
    }
   ],
   "source": [
    "get_threshold2(\n",
    "    target=tt_voting_score_pair[1],\n",
    "    pred=tt_voting_score_pair[0],\n",
    "    spe_rto=0.99\n",
    ")"
   ]
  },
  {
   "cell_type": "code",
   "execution_count": null,
   "metadata": {},
   "outputs": [],
   "source": []
  }
 ],
 "metadata": {
  "kernelspec": {
   "display_name": "TxSEml_Backend",
   "language": "python",
   "name": "python3"
  },
  "language_info": {
   "codemirror_mode": {
    "name": "ipython",
    "version": 3
   },
   "file_extension": ".py",
   "mimetype": "text/x-python",
   "name": "python",
   "nbconvert_exporter": "python",
   "pygments_lexer": "ipython3",
   "version": "3.10.12"
  },
  "orig_nbformat": 4
 },
 "nbformat": 4,
 "nbformat_minor": 2
}

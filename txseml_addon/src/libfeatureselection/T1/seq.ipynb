{
 "cells": [
  {
   "cell_type": "code",
   "execution_count": 1,
   "metadata": {},
   "outputs": [],
   "source": [
    "import numpy as np"
   ]
  },
  {
   "cell_type": "code",
   "execution_count": 5,
   "metadata": {},
   "outputs": [],
   "source": [
    "from Bio import SeqIO\n",
    "\n",
    "seq_list = list(SeqIO.parse(\"data/T1SE/noT1SE_GDB.fasta\", \"fasta\"))\n",
    "with open(f\"data/T1SE/n_non-RTX_filted_prot.fasta\", \"w+\", encoding=\"UTF-8\") as f:\n",
    "    SeqIO.write(\n",
    "        sequences=[seq_list[i] for i in np.random.choice(\n",
    "            np.arange(len(seq_list)),\n",
    "            size=25,\n",
    "            replace=False\n",
    "        )],\n",
    "        handle=f,\n",
    "        format=\"fasta\"\n",
    "    )"
   ]
  },
  {
   "cell_type": "code",
   "execution_count": 3,
   "metadata": {},
   "outputs": [],
   "source": [
    "import json\n",
    "from Bio import SeqIO"
   ]
  },
  {
   "cell_type": "code",
   "execution_count": 4,
   "metadata": {},
   "outputs": [],
   "source": [
    "with open(f\"data/T1SE/seq_id.json\", \"w+\", encoding=\"UTF-8\") as f:\n",
    "    json.dump(\n",
    "        obj={\n",
    "            't': {\n",
    "                'p': [seq.id for seq in SeqIO.parse(\"data/T1SE/RTX_filted_prot.fasta\", \"fasta\")],\n",
    "                'n': [seq.id for seq in SeqIO.parse(\"data/T1SE/n_RTX_filted_prot.fasta\", \"fasta\")],\n",
    "            },\n",
    "            'v': {\n",
    "                'p': [seq.id for seq in SeqIO.parse(\"data/T1SE/non-RTX_filted_prot.fasta\", \"fasta\")],\n",
    "                'n': [seq.id for seq in SeqIO.parse(\"data/T1SE/n_non-RTX_filted_prot.fasta\", \"fasta\")],\n",
    "            },\n",
    "        },\n",
    "        fp=f,\n",
    "    )"
   ]
  },
  {
   "cell_type": "code",
   "execution_count": null,
   "metadata": {},
   "outputs": [],
   "source": []
  }
 ],
 "metadata": {
  "kernelspec": {
   "display_name": "TxSEml_Backend",
   "language": "python",
   "name": "python3"
  },
  "language_info": {
   "codemirror_mode": {
    "name": "ipython",
    "version": 3
   },
   "file_extension": ".py",
   "mimetype": "text/x-python",
   "name": "python",
   "nbconvert_exporter": "python",
   "pygments_lexer": "ipython3",
   "version": "3.10.12"
  },
  "orig_nbformat": 4
 },
 "nbformat": 4,
 "nbformat_minor": 2
}

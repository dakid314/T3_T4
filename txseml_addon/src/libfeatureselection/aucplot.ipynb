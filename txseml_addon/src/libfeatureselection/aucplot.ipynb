{
 "cells": [
  {
   "attachments": {},
   "cell_type": "markdown",
   "metadata": {},
   "source": [
    "# AUC画图工具箱"
   ]
  },
  {
   "cell_type": "code",
   "execution_count": 2,
   "metadata": {},
   "outputs": [],
   "source": [
    "import pickle\n",
    "import numpy as np\n",
    "import gzip\n",
    "import json\n",
    "from sklearn.metrics import roc_curve, auc"
   ]
  },
  {
   "cell_type": "code",
   "execution_count": 3,
   "metadata": {},
   "outputs": [],
   "source": [
    "import matplotlib as mpl\n",
    "\n",
    "mpl.rcParams['pdf.fonttype'] = 42\n",
    "mpl.rcParams['ps.fonttype'] = 42\n",
    "mpl.rcParams['svg.fonttype'] = 'none'\n",
    "mpl.rcParams['pdf.use14corefonts'] = False\n",
    "# mpl.rcParams['pdf.usecorefonts'] = True\n",
    "mpl.rcParams['pdf.compression'] = 9\n",
    "\n",
    "import matplotlib.pyplot as plt\n",
    "import scienceplots\n",
    "\n",
    "plt.style.use(['science', 'nature'])"
   ]
  },
  {
   "cell_type": "code",
   "execution_count": 4,
   "metadata": {},
   "outputs": [],
   "source": [
    "def plot_average_roc_curve(\n",
    "    predict_result_list:list,\n",
    "    path_to_: str = None,\n",
    "    multi_dim: int = None\n",
    "):\n",
    "    plt.figure(figsize=(19.2 / 4, 10.8 / 4))\n",
    "    plt.axis('square')\n",
    "\n",
    "    tprs = []\n",
    "    base_fpr = np.linspace(0, 1, 101)\n",
    "\n",
    "    for item, color in zip(predict_result_list, [\"#3e312230\", \"#f1d14e30\", \"#4fa65930\", \"#bc465930\", \"#854eb930\"]):\n",
    "        pred = item[0]\n",
    "        target = item[1]\n",
    "        if multi_dim is not None:\n",
    "            pred = item[0][:, multi_dim]\n",
    "\n",
    "        fpr, tpr, thresholds = roc_curve(target, pred)\n",
    "        roc_auc = auc(fpr, tpr)\n",
    "\n",
    "        tprs.append(np.interp(base_fpr, fpr, tpr))\n",
    "        tprs[-1][0] = 0.0\n",
    "        # plt.plot(\n",
    "        #     fpr, tpr, color=color, lw=1,\n",
    "        #     # label='ROC curve (area = %0.2f)' % roc_auc\n",
    "        # )\n",
    "        tpr = np.interp(base_fpr, fpr, tpr)\n",
    "        tpr[0] = 0.0\n",
    "        tprs.append(tpr)\n",
    "\n",
    "    tprs = np.array(tprs)\n",
    "    mean_tprs = tprs.mean(axis=0)\n",
    "    std = tprs.std(axis=0)\n",
    "\n",
    "    tprs_upper = np.minimum(mean_tprs + std, 1)\n",
    "    tprs_lower = mean_tprs - std\n",
    "\n",
    "    plt.plot(\n",
    "        base_fpr, mean_tprs, color='red', lw=2,\n",
    "        label='ROC curve (area = %0.2f)' % auc(base_fpr, mean_tprs)\n",
    "    )\n",
    "\n",
    "    # plt.fill_between(base_fpr, tprs_lower, tprs_upper, color='grey', alpha=0.3)\n",
    "\n",
    "    # plt.plot([0, 1], [0, 1], color='#3f8bc4', lw=1, linestyle='--')\n",
    "    plt.xlim([0.0, 1.0])\n",
    "    plt.ylim([0.0, 1.0])\n",
    "    plt.xlabel('False Positive Rate')\n",
    "    plt.ylabel('True Positive Rate')\n",
    "    plt.title('Receiver operating characteristic (ROC) curve')\n",
    "    plt.legend(loc=\"lower right\")\n",
    "\n",
    "    if path_to_ is not None:\n",
    "        plt.savefig(f\"{path_to_}\", transparent=True)\n",
    "    plt.clf()\n",
    "\n",
    "    return {\"fpr\": base_fpr, \"tpr\": mean_tprs}"
   ]
  },
  {
   "cell_type": "code",
   "execution_count": 5,
   "metadata": {},
   "outputs": [],
   "source": [
    "def plot_normal_roc_curve(\n",
    "    target: np.ndarray,\n",
    "    pred: np.ndarray,\n",
    "    path_to_: str = None,\n",
    "    multi_dim: int = None\n",
    "):\n",
    "    if multi_dim is not None:\n",
    "        pred = pred[:, multi_dim]\n",
    "\n",
    "    fpr, tpr, thresholds = roc_curve(target, pred)\n",
    "    roc_auc = auc(fpr, tpr)\n",
    "\n",
    "    plt.figure(figsize=(19.2 / 4, 10.8 / 4))\n",
    "    plt.axis('square')\n",
    "    plt.plot(\n",
    "        fpr, tpr, color='red', lw=2,\n",
    "        label='ROC curve (area = %0.2f)' % roc_auc\n",
    "    )\n",
    "    # plt.plot([0, 1], [0, 1], color='blue', lw=2, linestyle='--')\n",
    "    plt.xlim([0.0, 1.0])\n",
    "    plt.ylim([0.0, 1.0])\n",
    "    plt.xlabel('False Positive Rate')\n",
    "    plt.ylabel('True Positive Rate')\n",
    "    plt.title('Receiver operating characteristic (ROC) curve')\n",
    "    plt.legend(loc=\"lower right\")\n",
    "\n",
    "    if path_to_ is not None:\n",
    "        plt.savefig(f\"{path_to_}\", transparent=True)\n",
    "    plt.clf()\n",
    "\n",
    "    return {\"fpr\": fpr, \"tpr\": tpr}"
   ]
  },
  {
   "cell_type": "code",
   "execution_count": 13,
   "metadata": {},
   "outputs": [],
   "source": [
    "def plot_multi_roc_curve(\n",
    "    fpr_tpr_pair: list, # fpr, tpr, color\n",
    "    path_to_: str,\n",
    "):\n",
    "\n",
    "    plt.figure(figsize=(19.2 / 4, 10.8 / 4))\n",
    "    plt.axis('square')\n",
    "\n",
    "    for pair in fpr_tpr_pair:\n",
    "        pair = {\"color\": \"red\", \"label\": \"\", \"linestyle\": '-'} | pair\n",
    "        fpr = pair['fpr']\n",
    "        tpr = pair['tpr']\n",
    "        roc_auc = auc(fpr, tpr)\n",
    "        plt.plot(\n",
    "            fpr, tpr, color=pair['color'], lw=2, linestyle=pair['linestyle'],\n",
    "            label=pair['label'] + ' (AUC = %0.2f)' % roc_auc\n",
    "        )\n",
    "\n",
    "    # plt.plot([0, 1], [0, 1], color='black', lw=2, linestyle='--')\n",
    "    plt.xlim([0.0, 1.0])\n",
    "    plt.ylim([0.0, 1.0])\n",
    "    plt.xlabel('False Positive Rate')\n",
    "    plt.ylabel('True Positive Rate')\n",
    "    plt.title('Receiver operating characteristic (ROC) curve')\n",
    "    plt.legend(loc=\"lower right\")\n",
    "\n",
    "    plt.savefig(f\"{path_to_}\", transparent=True)\n",
    "    plt.clf()\n",
    "\n",
    "    return None"
   ]
  },
  {
   "attachments": {},
   "cell_type": "markdown",
   "metadata": {},
   "source": [
    "# 单图"
   ]
  },
  {
   "attachments": {},
   "cell_type": "markdown",
   "metadata": {},
   "source": [
    "### T1 Voting"
   ]
  },
  {
   "cell_type": "code",
   "execution_count": 8,
   "metadata": {},
   "outputs": [
    {
     "data": {
      "text/plain": [
       "<Figure size 480x270 with 0 Axes>"
      ]
     },
     "metadata": {},
     "output_type": "display_data"
    },
    {
     "data": {
      "text/plain": [
       "<Figure size 480x270 with 0 Axes>"
      ]
     },
     "metadata": {},
     "output_type": "display_data"
    },
    {
     "data": {
      "text/plain": [
       "<Figure size 480x270 with 0 Axes>"
      ]
     },
     "metadata": {},
     "output_type": "display_data"
    },
    {
     "data": {
      "text/plain": [
       "<Figure size 480x270 with 0 Axes>"
      ]
     },
     "metadata": {},
     "output_type": "display_data"
    },
    {
     "data": {
      "text/plain": [
       "<Figure size 480x270 with 0 Axes>"
      ]
     },
     "metadata": {},
     "output_type": "display_data"
    }
   ],
   "source": [
    "S_score_pkl_path = \"out/libfeatureselection/T1/model/Onehot/1125899906842624/LogisticRegression_score.pkl\"\n",
    "score_pkl_path = \"out/libfeatureselection/voting/T1/T1-TT-AAC_Voting_score.pkl\"\n",
    "stacker_score_pkl_path = \"out/libfeatureselection/T1/T1SEstacker/T1-TT-rStacker_score.pkl\"\n",
    "\n",
    "plot_output_pdf_CV_path = \"out/libfeatureselection/voting/T1/T1-TT-AAC_Voting_CV.pdf\"\n",
    "plot_output_pdf_multi_path = \"out/libfeatureselection/voting/T1/T1-TT-AAC_Voting_CT.pdf\"\n",
    "\n",
    "stacker_score = pickle.load(gzip.open(stacker_score_pkl_path, \"rb\"))\n",
    "S_loaded_score = pickle.load(gzip.open(S_score_pkl_path, \"rb\"))\n",
    "loaded_score = pickle.load(gzip.open(score_pkl_path, \"rb\"))\n",
    "\n",
    "voting_data_CV = plot_average_roc_curve(\n",
    "    predict_result_list=loaded_score['best_5C_predicted_pair'],\n",
    "    path_to_=plot_output_pdf_CV_path\n",
    ")\n",
    "voting_data_TT = plot_normal_roc_curve(\n",
    "    target=loaded_score['best_predicted_pair'][1],\n",
    "    pred=loaded_score['best_predicted_pair'][0],\n",
    "    path_to_=None\n",
    ")\n",
    "stacker_data_TT = plot_normal_roc_curve(\n",
    "    target=stacker_score['best_predicted_pair'][1],\n",
    "    pred=stacker_score['best_predicted_pair'][0][:, 1],\n",
    "    path_to_=None\n",
    ")\n",
    "S_data_TT = plot_normal_roc_curve(\n",
    "    target=S_loaded_score['best_predicted_pair'][1],\n",
    "    pred=S_loaded_score['best_predicted_pair'][0][:, 1],\n",
    "    path_to_=None\n",
    ")\n",
    "\n",
    "plot_multi_roc_curve(\n",
    "    fpr_tpr_pair=[\n",
    "        voting_data_CV | {\"color\": \"#dd1940\", \"label\": \"AAC-Voting, CV\"},\n",
    "        voting_data_TT | {\"color\": \"#1f4aec\", \"label\": \"AAC-Voting, TT\"},\n",
    "        S_data_TT | {\"color\": \"#2c5618\", \"label\": \"AAC-LR, TT\"},\n",
    "        stacker_data_TT | {\"color\": \"#7514f5\", \"label\": \"T1SEstacker, TT\"},\n",
    "    ],\n",
    "    path_to_=plot_output_pdf_multi_path\n",
    ")"
   ]
  },
  {
   "attachments": {},
   "cell_type": "markdown",
   "metadata": {},
   "source": [
    "### T1-Voting & T1SEstacker in RTX"
   ]
  },
  {
   "cell_type": "code",
   "execution_count": 9,
   "metadata": {},
   "outputs": [
    {
     "data": {
      "text/plain": [
       "<Figure size 480x270 with 0 Axes>"
      ]
     },
     "metadata": {},
     "output_type": "display_data"
    },
    {
     "data": {
      "text/plain": [
       "<Figure size 480x270 with 0 Axes>"
      ]
     },
     "metadata": {},
     "output_type": "display_data"
    },
    {
     "data": {
      "text/plain": [
       "<Figure size 480x270 with 0 Axes>"
      ]
     },
     "metadata": {},
     "output_type": "display_data"
    },
    {
     "data": {
      "text/plain": [
       "<Figure size 480x270 with 0 Axes>"
      ]
     },
     "metadata": {},
     "output_type": "display_data"
    }
   ],
   "source": [
    "score_pkl_path = \"out/libfeatureselection/voting/T1/T1-RTX-AAC_Voting_score.pkl\"\n",
    "stacker_score_pkl_path = \"out/libfeatureselection/T1/T1SEstacker-RTX/T1-RTX-rStacker_score.pkl\"\n",
    "\n",
    "plot_output_pdf_CV_path = \"out/libfeatureselection/voting/T1/T1-RTX-AAC_Voting_CV.pdf\"\n",
    "plot_output_pdf_multi_path = \"out/libfeatureselection/voting/T1/T1-RTX-AAC_Voting_CT.pdf\"\n",
    "\n",
    "stacker_score = pickle.load(gzip.open(stacker_score_pkl_path, \"rb\"))\n",
    "loaded_score = pickle.load(gzip.open(score_pkl_path, \"rb\"))\n",
    "\n",
    "voting_data_CV = plot_average_roc_curve(\n",
    "    predict_result_list=loaded_score['best_5C_predicted_pair'],\n",
    "    path_to_=plot_output_pdf_CV_path\n",
    ")\n",
    "voting_data_TT = plot_normal_roc_curve(\n",
    "    target=loaded_score['best_predicted_pair'][1],\n",
    "    pred=loaded_score['best_predicted_pair'][0],\n",
    "    path_to_=None\n",
    ")\n",
    "stacker_data_TT = plot_normal_roc_curve(\n",
    "    target=stacker_score['best_predicted_pair'][1],\n",
    "    pred=stacker_score['best_predicted_pair'][0][:, 1],\n",
    "    path_to_=None\n",
    ")\n",
    "\n",
    "plot_multi_roc_curve(\n",
    "    fpr_tpr_pair=[\n",
    "        voting_data_CV | {\"color\": \"#dd1940\", \"label\": \"AAC-Voting, RTX: non-RTX\"},\n",
    "        stacker_data_TT | {\"color\": \"#1f4aec\", \"label\": \"T1SEstacker, RTX: non-RTX\"},\n",
    "    ],\n",
    "    path_to_=plot_output_pdf_multi_path\n",
    ")"
   ]
  },
  {
   "attachments": {},
   "cell_type": "markdown",
   "metadata": {},
   "source": [
    "### T2 Voting QSO"
   ]
  },
  {
   "cell_type": "code",
   "execution_count": 14,
   "metadata": {},
   "outputs": [
    {
     "data": {
      "text/plain": [
       "<Figure size 480x270 with 0 Axes>"
      ]
     },
     "metadata": {},
     "output_type": "display_data"
    },
    {
     "data": {
      "text/plain": [
       "<Figure size 480x270 with 0 Axes>"
      ]
     },
     "metadata": {},
     "output_type": "display_data"
    },
    {
     "data": {
      "text/plain": [
       "<Figure size 480x270 with 0 Axes>"
      ]
     },
     "metadata": {},
     "output_type": "display_data"
    },
    {
     "data": {
      "text/plain": [
       "<Figure size 480x270 with 0 Axes>"
      ]
     },
     "metadata": {},
     "output_type": "display_data"
    }
   ],
   "source": [
    "S_score_pkl_path = \"out/libfeatureselection/T2/model/Onehot/2/GaussianProcessClassifier_score.pkl\"\n",
    "score_pkl_path = \"out/libfeatureselection/voting/T2/T2-TT-QSO_Voting_score.pkl\"\n",
    "plot_output_pdf_CV_path = \"out/libfeatureselection/voting/T2/T2-TT-QSO_Voting_CV.pdf\"\n",
    "plot_output_pdf_multi_path = \"out/libfeatureselection/voting/T2/T2-TT-QSO_Voting_CT.pdf\"\n",
    "S_loaded_score = pickle.load(gzip.open(S_score_pkl_path, \"rb\"))\n",
    "loaded_score = pickle.load(gzip.open(score_pkl_path, \"rb\"))\n",
    "\n",
    "voting_data_CV = plot_average_roc_curve(\n",
    "    predict_result_list=loaded_score['best_5C_predicted_pair'],\n",
    "    path_to_=plot_output_pdf_CV_path\n",
    ")\n",
    "voting_data_TT = plot_normal_roc_curve(\n",
    "    target=loaded_score['best_predicted_pair'][1],\n",
    "    pred=loaded_score['best_predicted_pair'][0],\n",
    "    path_to_=None\n",
    ")\n",
    "S_data_TT = plot_normal_roc_curve(\n",
    "    target=S_loaded_score['best_predicted_pair'][1],\n",
    "    pred=S_loaded_score['best_predicted_pair'][0][:, 1],\n",
    "    path_to_=None\n",
    ")\n",
    "plot_multi_roc_curve(\n",
    "    fpr_tpr_pair=[\n",
    "        voting_data_CV | {\"color\": \"#dd1940\", \"label\": \"QSO-Voting, CV\"},\n",
    "        voting_data_TT | {\"color\": \"#1f4aec\", \"label\": \"QSO-Voting, TT\"},\n",
    "        S_data_TT | {\"color\": \"#71c6b1\", \"label\": \"QSO-GP, TT\"},\n",
    "    ],\n",
    "    path_to_=plot_output_pdf_multi_path\n",
    ")"
   ]
  },
  {
   "attachments": {},
   "cell_type": "markdown",
   "metadata": {},
   "source": [
    "### T2 Voting 13G"
   ]
  },
  {
   "cell_type": "code",
   "execution_count": 15,
   "metadata": {},
   "outputs": [
    {
     "data": {
      "text/plain": [
       "<Figure size 480x270 with 0 Axes>"
      ]
     },
     "metadata": {},
     "output_type": "display_data"
    },
    {
     "data": {
      "text/plain": [
       "<Figure size 480x270 with 0 Axes>"
      ]
     },
     "metadata": {},
     "output_type": "display_data"
    },
    {
     "data": {
      "text/plain": [
       "<Figure size 480x270 with 0 Axes>"
      ]
     },
     "metadata": {},
     "output_type": "display_data"
    },
    {
     "data": {
      "text/plain": [
       "<Figure size 480x270 with 0 Axes>"
      ]
     },
     "metadata": {},
     "output_type": "display_data"
    },
    {
     "data": {
      "text/plain": [
       "<Figure size 480x270 with 0 Axes>"
      ]
     },
     "metadata": {},
     "output_type": "display_data"
    },
    {
     "data": {
      "text/plain": [
       "<Figure size 480x270 with 0 Axes>"
      ]
     },
     "metadata": {},
     "output_type": "display_data"
    },
    {
     "data": {
      "text/plain": [
       "<Figure size 480x270 with 0 Axes>"
      ]
     },
     "metadata": {},
     "output_type": "display_data"
    }
   ],
   "source": [
    "S_score_pkl_path = \"out/libfeatureselection/T2/model/Bayes/155100983136298/SVC_score.pkl\"\n",
    "score_pkl_path = \"out/libfeatureselection/voting/T2/T2-TT-13G_Voting_score.pkl\"\n",
    "\n",
    "plot_output_pdf_CV_path = \"out/libfeatureselection/voting/T2/T2-TT-13G_Voting_CV.pdf\"\n",
    "plot_output_pdf_multi_path = \"out/libfeatureselection/voting/T2/T2-TT-13G_Voting_CT.pdf\"\n",
    "\n",
    "xgb_tt_json_path = \"/home/georgezhao/Source/From_XiaoXin/TxSEpp_report/out/T2/model/T4SEXGB/tt_model.json\"\n",
    "t4ef_tt_json_path = \"/home/georgezhao/Source/From_XiaoXin/TxSEpp_report/out/T2/model/T4EffPred/tt_model.json\"\n",
    "bas6_tt_json_path = \"/home/georgezhao/Source/From_XiaoXin/TxSEpp_report/out/T2/model/Bastion6/tt_model.json\"\n",
    "\n",
    "S_loaded_score = pickle.load(gzip.open(S_score_pkl_path, \"rb\"))\n",
    "loaded_score = pickle.load(gzip.open(score_pkl_path, \"rb\"))\n",
    "xgb_score = json.load(open(xgb_tt_json_path, \"r\", encoding=\"UTF-8\"))\n",
    "t4ef_score = json.load(open(t4ef_tt_json_path, \"r\", encoding=\"UTF-8\"))\n",
    "bas6_score = json.load(open(bas6_tt_json_path, \"r\", encoding=\"UTF-8\"))\n",
    "\n",
    "voting_data_CV = plot_average_roc_curve(\n",
    "    predict_result_list=loaded_score['best_5C_predicted_pair'],\n",
    "    path_to_=plot_output_pdf_CV_path\n",
    ")\n",
    "voting_data_TT = plot_normal_roc_curve(\n",
    "    target=loaded_score['best_predicted_pair'][1],\n",
    "    pred=loaded_score['best_predicted_pair'][0],\n",
    "    path_to_=None\n",
    ")\n",
    "S_data_TT = plot_normal_roc_curve(\n",
    "    target=S_loaded_score['best_predicted_pair'][1],\n",
    "    pred=S_loaded_score['best_predicted_pair'][0][:, 1],\n",
    "    path_to_=None\n",
    ")\n",
    "xgb_data_TT = plot_normal_roc_curve(\n",
    "    target=xgb_score[0]['testing']['origin']['label'],\n",
    "    pred=xgb_score[0]['testing']['origin']['pred'],\n",
    "    path_to_=None\n",
    ")\n",
    "bas6_data_TT = plot_normal_roc_curve(\n",
    "    target=bas6_score[0]['testing']['origin']['label'],\n",
    "    pred=bas6_score[0]['testing']['origin']['pred'],\n",
    "    path_to_=None\n",
    ")\n",
    "t4ef_data_TT = plot_normal_roc_curve(\n",
    "    target=t4ef_score[0]['testing']['origin']['label'],\n",
    "    pred=t4ef_score[0]['testing']['origin']['pred'],\n",
    "    path_to_=None\n",
    ")\n",
    "plot_multi_roc_curve(\n",
    "    fpr_tpr_pair=[\n",
    "        voting_data_CV | {\"color\": \"#dd1940\", \"label\": \"13Groups-Voting, CV\"},\n",
    "        voting_data_TT | {\"color\": \"#1f4aec\", \"label\": \"13Groups-Voting, TT\"},\n",
    "        S_data_TT | {\"color\": \"#ed702d\", \"label\": \"13Groups-SVM, TT\"},\n",
    "        xgb_data_TT | {\"color\": \"#2c5618\", \"label\": \"T4SEXGB, TT\"},\n",
    "        t4ef_data_TT | {\"color\": \"#e9f44f\", \"label\": \"T4EffPred, TT\"},\n",
    "        bas6_data_TT | {\"color\": \"#7514f5\", \"label\": \"Bastion6, TT\"},\n",
    "    ],\n",
    "    path_to_=plot_output_pdf_multi_path\n",
    ")"
   ]
  },
  {
   "attachments": {},
   "cell_type": "markdown",
   "metadata": {},
   "source": [
    "### T2-13G-Voting & Other in SP"
   ]
  },
  {
   "cell_type": "code",
   "execution_count": 6,
   "metadata": {},
   "outputs": [
    {
     "data": {
      "text/plain": [
       "<Figure size 480x270 with 0 Axes>"
      ]
     },
     "metadata": {},
     "output_type": "display_data"
    },
    {
     "data": {
      "text/plain": [
       "<Figure size 480x270 with 0 Axes>"
      ]
     },
     "metadata": {},
     "output_type": "display_data"
    },
    {
     "data": {
      "text/plain": [
       "<Figure size 480x270 with 0 Axes>"
      ]
     },
     "metadata": {},
     "output_type": "display_data"
    },
    {
     "data": {
      "text/plain": [
       "<Figure size 480x270 with 0 Axes>"
      ]
     },
     "metadata": {},
     "output_type": "display_data"
    },
    {
     "data": {
      "text/plain": [
       "<Figure size 480x270 with 0 Axes>"
      ]
     },
     "metadata": {},
     "output_type": "display_data"
    }
   ],
   "source": [
    "plot_output_pdf_CV_path = \"out/libfeatureselection/voting/T2/T2-SP-13G_Voting_CV.pdf\"\n",
    "plot_output_pdf_multi_path = \"out/libfeatureselection/voting/T2/T2-SP-13G_Voting_CT.pdf\"\n",
    "\n",
    "score_pkl_path = \"out/libfeatureselection/voting/T2/T2-SP-13G_Voting_score.pkl\"\n",
    "xgb_tt_path = \"out/libfeatureselection/T2/T4SEXGB_SP/T4SEXGB_score.pkl\"\n",
    "t4ef_tt_path = \"out/libfeatureselection/T2/T4EffPred_SP/T4EffPred_score.pkl\"\n",
    "bas6_tt_path = \"out/libfeatureselection/T2/Bastion6_SP/Bastion6_score.pkl\"\n",
    "\n",
    "loaded_score = pickle.load(gzip.open(score_pkl_path, \"rb\"))\n",
    "xgbloaded_score = pickle.load(gzip.open(xgb_tt_path, \"rb\"))\n",
    "t4efloaded_score = pickle.load(gzip.open(t4ef_tt_path, \"rb\"))\n",
    "bas6loaded_score = pickle.load(gzip.open(bas6_tt_path, \"rb\"))\n",
    "\n",
    "voting_data_TT = plot_normal_roc_curve(\n",
    "    target=loaded_score['best_predicted_pair'][1],\n",
    "    pred=loaded_score['best_predicted_pair'][0],\n",
    "    path_to_=None\n",
    ")\n",
    "xgb_data_TT = plot_normal_roc_curve(\n",
    "    target=xgbloaded_score['best_predicted_pair'][1],\n",
    "    pred=xgbloaded_score['best_predicted_pair'][0],\n",
    "    path_to_=None\n",
    ")\n",
    "t4ef_data_TT = plot_normal_roc_curve(\n",
    "    target=t4efloaded_score['best_predicted_pair'][1],\n",
    "    pred=t4efloaded_score['best_predicted_pair'][0],\n",
    "    path_to_=None\n",
    ")\n",
    "bas6_data_TT = plot_normal_roc_curve(\n",
    "    target=bas6loaded_score['best_predicted_pair'][1],\n",
    "    pred=bas6loaded_score['best_predicted_pair'][0],\n",
    "    path_to_=None\n",
    ")\n",
    "\n",
    "plot_multi_roc_curve(\n",
    "    fpr_tpr_pair=[\n",
    "        voting_data_TT | {\"color\": \"#dd1940\", \"label\": \"13Groups-Voting, SP: non-SP\"},\n",
    "        t4ef_data_TT | {\"color\": \"#1f4aec\", \"label\": \"T4EffPred, SP: non-SP\"},\n",
    "        xgb_data_TT | {\"color\": \"#2c5618\", \"label\": \"T4SEXGB, SP: non-SP\"},\n",
    "        bas6_data_TT | {\"color\": \"#7514f5\", \"label\": \"Bastion6, SP: non-SP\"},\n",
    "    ],\n",
    "    path_to_=plot_output_pdf_multi_path\n",
    ")"
   ]
  },
  {
   "attachments": {},
   "cell_type": "markdown",
   "metadata": {},
   "source": [
    "### T6 Voting AAC"
   ]
  },
  {
   "cell_type": "code",
   "execution_count": 16,
   "metadata": {},
   "outputs": [
    {
     "data": {
      "text/plain": [
       "<Figure size 480x270 with 0 Axes>"
      ]
     },
     "metadata": {},
     "output_type": "display_data"
    },
    {
     "data": {
      "text/plain": [
       "<Figure size 480x270 with 0 Axes>"
      ]
     },
     "metadata": {},
     "output_type": "display_data"
    },
    {
     "data": {
      "text/plain": [
       "<Figure size 480x270 with 0 Axes>"
      ]
     },
     "metadata": {},
     "output_type": "display_data"
    },
    {
     "data": {
      "text/plain": [
       "<Figure size 480x270 with 0 Axes>"
      ]
     },
     "metadata": {},
     "output_type": "display_data"
    }
   ],
   "source": [
    "S_score_pkl_path = \"out/libfeatureselection/T6/model/Onehot/1125899906842624/KNeighborsClassifier_score.pkl\"\n",
    "score_pkl_path = \"out/libfeatureselection/voting/T6/T6-TT-AAC_Voting_score.pkl\"\n",
    "plot_output_pdf_CV_path = \"out/libfeatureselection/voting/T6/T6-TT-AAC_Voting_CV.pdf\"\n",
    "plot_output_pdf_multi_path = \"out/libfeatureselection/voting/T6/T6-TT-AAC_Voting_CT.pdf\"\n",
    "S_loaded_score = pickle.load(gzip.open(S_score_pkl_path, \"rb\"))\n",
    "loaded_score = pickle.load(gzip.open(score_pkl_path, \"rb\"))\n",
    "\n",
    "voting_data_CV = plot_average_roc_curve(\n",
    "    predict_result_list=loaded_score['best_5C_predicted_pair'],\n",
    "    path_to_=plot_output_pdf_CV_path\n",
    ")\n",
    "voting_data_TT = plot_normal_roc_curve(\n",
    "    target=loaded_score['best_predicted_pair'][1],\n",
    "    pred=loaded_score['best_predicted_pair'][0],\n",
    "    path_to_=None\n",
    ")\n",
    "S_data_TT = plot_normal_roc_curve(\n",
    "    target=S_loaded_score['best_predicted_pair'][1],\n",
    "    pred=S_loaded_score['best_predicted_pair'][0][:, 1],\n",
    "    path_to_=None\n",
    ")\n",
    "plot_multi_roc_curve(\n",
    "    fpr_tpr_pair=[\n",
    "        voting_data_CV | {\"color\": \"#dd1940\", \"label\": \"AAC-Voting, CV\"},\n",
    "        voting_data_TT | {\"color\": \"#1f4aec\", \"label\": \"AAC-Voting, TT\"},\n",
    "        S_data_TT | {\"color\": \"#71c6b1\", \"label\": \"AAC-KNN, TT\"},\n",
    "    ],\n",
    "    path_to_=plot_output_pdf_multi_path\n",
    ")"
   ]
  },
  {
   "attachments": {},
   "cell_type": "markdown",
   "metadata": {},
   "source": [
    "### T6 Voting 15G"
   ]
  },
  {
   "cell_type": "code",
   "execution_count": 17,
   "metadata": {},
   "outputs": [
    {
     "data": {
      "text/plain": [
       "<Figure size 480x270 with 0 Axes>"
      ]
     },
     "metadata": {},
     "output_type": "display_data"
    },
    {
     "data": {
      "text/plain": [
       "<Figure size 480x270 with 0 Axes>"
      ]
     },
     "metadata": {},
     "output_type": "display_data"
    },
    {
     "data": {
      "text/plain": [
       "<Figure size 480x270 with 0 Axes>"
      ]
     },
     "metadata": {},
     "output_type": "display_data"
    },
    {
     "data": {
      "text/plain": [
       "<Figure size 480x270 with 0 Axes>"
      ]
     },
     "metadata": {},
     "output_type": "display_data"
    },
    {
     "data": {
      "text/plain": [
       "<Figure size 480x270 with 0 Axes>"
      ]
     },
     "metadata": {},
     "output_type": "display_data"
    },
    {
     "data": {
      "text/plain": [
       "<Figure size 480x270 with 0 Axes>"
      ]
     },
     "metadata": {},
     "output_type": "display_data"
    }
   ],
   "source": [
    "S_score_pkl_path = \"out/libfeatureselection/T6/model/Bayes/1698039127349256/KNeighborsClassifier_score.pkl\"\n",
    "score_pkl_path = \"out/libfeatureselection/voting/T6/T6-TT-15G_Voting_score.pkl\"\n",
    "\n",
    "plot_output_pdf_CV_path = \"out/libfeatureselection/voting/T6/T6-TT-15G_Voting_CV.pdf\"\n",
    "plot_output_pdf_multi_path = \"out/libfeatureselection/voting/T6/T6-TT-15G_Voting_CT.pdf\"\n",
    "\n",
    "bas6_tt_json_path = \"/home/georgezhao/Source/From_XiaoXin/TxSEpp_report/out/T6/model/Bastion6/tt_model.json\"\n",
    "Pyt6_tt_json_path = \"/home/georgezhao/Source/From_XiaoXin/TxSEpp_report/out/T6/model/PyPredT6/tt_model.json\"\n",
    "\n",
    "S_loaded_score = pickle.load(gzip.open(S_score_pkl_path, \"rb\"))\n",
    "loaded_score = pickle.load(gzip.open(score_pkl_path, \"rb\"))\n",
    "\n",
    "pyt6_score = json.load(open(Pyt6_tt_json_path, \"r\", encoding=\"UTF-8\"))\n",
    "bas6_score = json.load(open(bas6_tt_json_path, \"r\", encoding=\"UTF-8\"))\n",
    "\n",
    "voting_data_CV = plot_average_roc_curve(\n",
    "    predict_result_list=loaded_score['best_5C_predicted_pair'],\n",
    "    path_to_=plot_output_pdf_CV_path\n",
    ")\n",
    "voting_data_TT = plot_normal_roc_curve(\n",
    "    target=loaded_score['best_predicted_pair'][1],\n",
    "    pred=loaded_score['best_predicted_pair'][0],\n",
    "    path_to_=None\n",
    ")\n",
    "S_data_TT = plot_normal_roc_curve(\n",
    "    target=S_loaded_score['best_predicted_pair'][1],\n",
    "    pred=S_loaded_score['best_predicted_pair'][0][:, 1],\n",
    "    path_to_=None\n",
    ")\n",
    "bas6_data_TT = plot_normal_roc_curve(\n",
    "    target=bas6_score[0]['testing']['origin']['label'],\n",
    "    pred=bas6_score[0]['testing']['origin']['pred'],\n",
    "    path_to_=None\n",
    ")\n",
    "pyt6_data_TT = plot_normal_roc_curve(\n",
    "    target=pyt6_score[0]['testing']['origin']['label'],\n",
    "    pred=pyt6_score[0]['testing']['origin']['pred'],\n",
    "    path_to_=None\n",
    ")\n",
    "plot_multi_roc_curve(\n",
    "    fpr_tpr_pair=[\n",
    "        voting_data_CV | { \"color\": \"#dd1940\", \"label\": \"15Groups-Voting, CV\" },\n",
    "        voting_data_TT | { \"color\": \"#1f4aec\", \"label\": \"15Groups-Voting, TT\" },\n",
    "        S_data_TT | { \"color\": \"#ed702d\", \"label\": \"15Groups-KNN, TT\" },\n",
    "        bas6_data_TT | { \"color\": \"#2c5618\", \"label\": \"Bastion6, TT\" },\n",
    "        pyt6_data_TT | { \"color\": \"#e9f44f\", \"label\": \"PyPredT6, TT\" },\n",
    "    ],\n",
    "    path_to_=plot_output_pdf_multi_path\n",
    ")"
   ]
  },
  {
   "attachments": {},
   "cell_type": "markdown",
   "metadata": {},
   "source": [
    "### T6 Voting 15G in AB"
   ]
  },
  {
   "cell_type": "code",
   "execution_count": 17,
   "metadata": {},
   "outputs": [
    {
     "data": {
      "text/plain": [
       "<Figure size 480x270 with 0 Axes>"
      ]
     },
     "metadata": {},
     "output_type": "display_data"
    },
    {
     "data": {
      "text/plain": [
       "<Figure size 480x270 with 0 Axes>"
      ]
     },
     "metadata": {},
     "output_type": "display_data"
    },
    {
     "data": {
      "text/plain": [
       "<Figure size 480x270 with 0 Axes>"
      ]
     },
     "metadata": {},
     "output_type": "display_data"
    },
    {
     "data": {
      "text/plain": [
       "<Figure size 480x270 with 0 Axes>"
      ]
     },
     "metadata": {},
     "output_type": "display_data"
    },
    {
     "data": {
      "text/plain": [
       "<Figure size 480x270 with 0 Axes>"
      ]
     },
     "metadata": {},
     "output_type": "display_data"
    },
    {
     "data": {
      "text/plain": [
       "<Figure size 480x270 with 0 Axes>"
      ]
     },
     "metadata": {},
     "output_type": "display_data"
    },
    {
     "data": {
      "text/plain": [
       "<Figure size 480x270 with 0 Axes>"
      ]
     },
     "metadata": {},
     "output_type": "display_data"
    }
   ],
   "source": [
    "plot_output_pdf_CV_path = \"out/libfeatureselection/voting/T6/T6-15G_Voting_CV.pdf\"\n",
    "plot_output_pdf_multi_path = \"out/libfeatureselection/voting/T6/T6-15G_Voting_CT.pdf\"\n",
    "\n",
    "ab_score_pkl_path = \"out/libfeatureselection/voting/T6/T6-AB-15G_Voting_score.pkl\"\n",
    "ab_bas6_tt_path = \"out/libfeatureselection/T6/Bastion6_AB/Bastion6_score.pkl\"\n",
    "ab_pyt6_tt_path = \"out/libfeatureselection/T6/PyPredT6_AB/PyPredT6_score.pkl\"\n",
    "ae_score_pkl_path = \"out/libfeatureselection/voting/T6/T6-AE-15G_Voting_score.pkl\"\n",
    "ae_bas6_tt_path = \"out/libfeatureselection/T6/Bastion6_AE/Bastion6_score.pkl\"\n",
    "ae_pyt6_tt_path = \"out/libfeatureselection/T6/PyPredT6_AE/PyPredT6_score.pkl\"\n",
    "\n",
    "ab_score_score = pickle.load(gzip.open(ab_score_pkl_path, \"rb\"))\n",
    "ab_bas6_score = pickle.load(gzip.open(ab_bas6_tt_path, \"rb\"))\n",
    "ab_pyt6_score = pickle.load(gzip.open(ab_pyt6_tt_path, \"rb\"))\n",
    "ae_score_score = pickle.load(gzip.open(ae_score_pkl_path, \"rb\"))\n",
    "ae_bas6_score = pickle.load(gzip.open(ae_bas6_tt_path, \"rb\"))\n",
    "ae_pyt6_score = pickle.load(gzip.open(ae_pyt6_tt_path, \"rb\"))\n",
    "\n",
    "ab_score_score_data = plot_normal_roc_curve(\n",
    "    target=ab_score_score['best_predicted_pair'][1],\n",
    "    pred=ab_score_score['best_predicted_pair'][0],\n",
    "    path_to_=None\n",
    ")\n",
    "ab_bas6_score_data = plot_normal_roc_curve(\n",
    "    target=ab_bas6_score['best_predicted_pair'][1],\n",
    "    pred=ab_bas6_score['best_predicted_pair'][0],\n",
    "    path_to_=None\n",
    ")\n",
    "ab_pyt6_score_data = plot_normal_roc_curve(\n",
    "    target=ab_pyt6_score['best_predicted_pair'][1],\n",
    "    pred=ab_pyt6_score['best_predicted_pair'][0],\n",
    "    path_to_=None\n",
    ")\n",
    "ae_score_score_data = plot_normal_roc_curve(\n",
    "    target=ae_score_score['best_predicted_pair'][1],\n",
    "    pred=ae_score_score['best_predicted_pair'][0],\n",
    "    path_to_=None\n",
    ")\n",
    "ae_bas6_score_data = plot_normal_roc_curve(\n",
    "    target=ae_bas6_score['best_predicted_pair'][1],\n",
    "    pred=ae_bas6_score['best_predicted_pair'][0],\n",
    "    path_to_=None\n",
    ")\n",
    "ae_pyt6_score_data = plot_normal_roc_curve(\n",
    "    target=ae_pyt6_score['best_predicted_pair'][1],\n",
    "    pred=ae_pyt6_score['best_predicted_pair'][0],\n",
    "    path_to_=None\n",
    ")\n",
    "\n",
    "plot_multi_roc_curve(\n",
    "    fpr_tpr_pair=[\n",
    "        ab_score_score_data | {\"color\": \"#dd1940\", \"label\": \"15Groups-Voting, AB: AE\"},\n",
    "        ab_bas6_score_data | {\"color\": \"#1f4aec\", \"label\": \"Bastion6, AB: AE\"},\n",
    "        ab_pyt6_score_data | {\"color\": \"#2c5618\", \"label\": \"PyPredT6, AB: AE\"},\n",
    "        ae_score_score_data | {\"color\": \"#dd1940\", \"label\": \"15Groups-Voting, AE: AB\", \"linestyle\": '--' },\n",
    "        ae_bas6_score_data | {\"color\": \"#1f4aec\", \"label\": \"Bastion6, AE: AB\", \"linestyle\": '--' },\n",
    "        ae_pyt6_score_data | {\"color\": \"#2c5618\", \"label\": \"PyPredT6, AE: AB\", \"linestyle\": '--' },\n",
    "    ],\n",
    "    path_to_=plot_output_pdf_multi_path\n",
    ")"
   ]
  },
  {
   "cell_type": "code",
   "execution_count": null,
   "metadata": {},
   "outputs": [],
   "source": []
  }
 ],
 "metadata": {
  "kernelspec": {
   "display_name": "TxSEml_Backend",
   "language": "python",
   "name": "python3"
  },
  "language_info": {
   "codemirror_mode": {
    "name": "ipython",
    "version": 3
   },
   "file_extension": ".py",
   "mimetype": "text/x-python",
   "name": "python",
   "nbconvert_exporter": "python",
   "pygments_lexer": "ipython3",
   "version": "3.10.12"
  },
  "orig_nbformat": 4
 },
 "nbformat": 4,
 "nbformat_minor": 2
}

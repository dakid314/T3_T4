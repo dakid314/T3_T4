{
 "cells": [
  {
   "cell_type": "code",
   "execution_count": 1,
   "metadata": {},
   "outputs": [
    {
     "name": "stderr",
     "output_type": "stream",
     "text": [
      "2023-07-18 14:40:18.168204: W tensorflow/stream_executor/platform/default/dso_loader.cc:64] Could not load dynamic library 'libcudart.so.11.0'; dlerror: libcudart.so.11.0: cannot open shared object file: No such file or directory\n",
      "2023-07-18 14:40:18.168218: I tensorflow/stream_executor/cuda/cudart_stub.cc:29] Ignore above cudart dlerror if you do not have a GPU set up on your machine.\n"
     ]
    }
   ],
   "source": [
    "import os\n",
    "os.environ[\"TF_ENABLE_ONEDNN_OPTS\"] = \"0\"\n",
    "import pandas as pd\n",
    "import numpy as np\n",
    "import matplotlib as mpl\n",
    "\n",
    "mpl.rcParams['pdf.fonttype'] = 42\n",
    "mpl.rcParams['ps.fonttype'] = 42\n",
    "mpl.rcParams['svg.fonttype'] = 'none'\n",
    "mpl.rcParams['pdf.use14corefonts'] = False\n",
    "# mpl.rcParams['pdf.usecorefonts'] = True\n",
    "mpl.rcParams['pdf.compression'] = 9\n",
    "\n",
    "from IPython.display import display, HTML\n",
    "\n",
    "import matplotlib.pyplot as plt\n",
    "import scienceplots\n",
    "\n",
    "plt.style.use(['science', 'nature'])\n",
    "\n",
    "from sklearn.manifold import TSNE\n",
    "import umap.umap_ as umap\n",
    "from sklearn.preprocessing import MinMaxScaler\n",
    "\n",
    "class AttrDict(dict):\n",
    "    def __init__(self, *args, **kwargs):\n",
    "        super(AttrDict, self).__init__(*args, **kwargs)\n",
    "        self.__dict__ = self"
   ]
  },
  {
   "cell_type": "code",
   "execution_count": 2,
   "metadata": {},
   "outputs": [],
   "source": [
    "def decode_total_df(result_df: pd.DataFrame):\n",
    "    model_name_list = result_df.loc[result_df.index.levels[0][0], :][\"Model_Information\"]['Classifier_Name'].to_list()\n",
    "    feature_model_df = result_df['Feature_Selected']\n",
    "    feature_model_df.reset_index(level=1, inplace=True)\n",
    "    feature_df = feature_model_df.iloc[:, 1:].reset_index(drop=True)\n",
    "    model_df = pd.DataFrame(np.eye(feature_model_df['Model_Type'].max()+1)[feature_model_df['Model_Type']], columns=[\n",
    "        f\"model-{i}\"\n",
    "        for i in range(feature_model_df['Model_Type'].max()+1)\n",
    "    ]).reset_index(drop=True)\n",
    "    auc_df = result_df['Best_Performance']['rocAUC'].to_frame().reset_index(drop=True)\n",
    "    mcc_df = result_df['Best_Performance']['mmc'].to_frame().reset_index(drop=True)\n",
    "    model_cata_df = feature_model_df['Model_Type'].to_frame().reset_index(drop=True)\n",
    "    return {\n",
    "        \"feature_df\": feature_df,\n",
    "        \"model_df\": model_df,\n",
    "        \"auc_df\": auc_df,\n",
    "        \"mcc_df\": mcc_df,\n",
    "        \"model_cata_df\": model_cata_df,\n",
    "        \"model_name_list\": model_name_list\n",
    "    }"
   ]
  },
  {
   "cell_type": "code",
   "execution_count": 3,
   "metadata": {},
   "outputs": [
    {
     "data": {
      "text/plain": [
       "'out/libfeatureselection/T6/model/'"
      ]
     },
     "execution_count": 3,
     "metadata": {},
     "output_type": "execute_result"
    }
   ],
   "source": [
    "prot_type = 6\n",
    "fig_output_dir = f\"out/libfeatureselection/T{prot_type}/model/\"\n",
    "fig_output_dir"
   ]
  },
  {
   "cell_type": "code",
   "execution_count": 4,
   "metadata": {},
   "outputs": [],
   "source": [
    "bayes_result_df = pd.read_excel(\n",
    "    f\"out/libfeatureselection/T{prot_type}/model/Bayes/searched_result.xlsx\",\n",
    "    f\"T{prot_type}\",\n",
    "    header=[0, 1],\n",
    "    index_col=[0, 1]\n",
    ")\n",
    "bayes_result_df_decode = decode_total_df(result_df=bayes_result_df)"
   ]
  },
  {
   "cell_type": "code",
   "execution_count": 5,
   "metadata": {},
   "outputs": [],
   "source": [
    "threshold = AttrDict({\n",
    "    \"rocauc\": 0.75,\n",
    "    \"mcc\": 0.5,\n",
    "})"
   ]
  },
  {
   "cell_type": "code",
   "execution_count": 6,
   "metadata": {},
   "outputs": [],
   "source": [
    "dfs_with_index = [ [index, gdf] for index, gdf in bayes_result_df.groupby(level=0) if gdf[((\n",
    "    (gdf[\"Best_Performance\"][\"rocAUC\"] > threshold.rocauc) & (gdf[\"Best_Performance\"][\"mmc\"] > threshold.mcc)\n",
    ") & (\n",
    "    (gdf[\"5FoldCV_Performance\"][\"rocAUC\"] > threshold.rocauc) & (gdf[\"5FoldCV_Performance\"][\"mmc\"] > threshold.mcc)\n",
    "))].shape[0] >=5 ]\n",
    "filted_df = pd.concat([\n",
    "    df[1] for df in dfs_with_index\n",
    "])\n",
    "filted_df = filted_df[~filted_df.index.duplicated()]"
   ]
  },
  {
   "cell_type": "code",
   "execution_count": 7,
   "metadata": {},
   "outputs": [
    {
     "data": {
      "text/plain": [
       "('out/libfeatureselection/FigS6/T6/data.json',\n",
       " 'out/libfeatureselection/FigS6/T6/Feature_Scheme.csv')"
      ]
     },
     "execution_count": 7,
     "metadata": {},
     "output_type": "execute_result"
    }
   ],
   "source": [
    "data_out = f\"out/libfeatureselection/FigS6/T{prot_type}/data.json\"\n",
    "csv_out = f\"out/libfeatureselection/FigS6/T{prot_type}/Feature_Scheme.csv\"\n",
    "data_out, csv_out"
   ]
  },
  {
   "cell_type": "code",
   "execution_count": 8,
   "metadata": {},
   "outputs": [
    {
     "data": {
      "text/plain": [
       "0       Combination_1\n",
       "1       Combination_1\n",
       "2       Combination_1\n",
       "3       Combination_1\n",
       "4       Combination_1\n",
       "            ...      \n",
       "205    Combination_14\n",
       "206    Combination_14\n",
       "207    Combination_14\n",
       "208    Combination_14\n",
       "209    Combination_14\n",
       "Length: 210, dtype: object"
      ]
     },
     "execution_count": 8,
     "metadata": {},
     "output_type": "execute_result"
    }
   ],
   "source": [
    "feature_col = pd.Series([ i[0] for i in filted_df.index ]).replace(\n",
    "    { i[0]:f\"Combination_{index}\" for index,i in enumerate(dfs_with_index, start=1) }\n",
    ")\n",
    "feature_col"
   ]
  },
  {
   "cell_type": "code",
   "execution_count": 9,
   "metadata": {},
   "outputs": [],
   "source": [
    "import json\n",
    "\n",
    "feature_col = pd.Series([ i[0] for i in filted_df.index ]).replace(\n",
    "    { i[0]:f\"Combination_{index}\" for index,i in enumerate(dfs_with_index, start=1) }\n",
    ")\n",
    "model_col = filted_df[\"Model_Information\"]['Classifier_Name'].values\n",
    "tt_mcc = filted_df['Best_Performance']['mmc'].values\n",
    "tt_auc = filted_df['Best_Performance']['rocAUC'].values\n",
    "cv_mcc = filted_df['5FoldCV_Performance']['mmc'].values\n",
    "cv_auc = filted_df['5FoldCV_Performance']['rocAUC'].values\n",
    "\n",
    "\n",
    "os.makedirs(os.path.dirname(data_out), exist_ok=True)\n",
    "\n",
    "with open(\n",
    "    data_out,\n",
    "    \"w+\",\n",
    "    encoding=\"UTF-8\"\n",
    ") as f:\n",
    "    json.dump({\n",
    "        \"Feature_Name\": feature_col.tolist(),\n",
    "        \"Model_Type\": model_col.tolist(),\n",
    "        \"TT_MCC\": tt_mcc.tolist(),\n",
    "        \"TT_rocAUC\": tt_auc.tolist(),\n",
    "        \"CV_MCC\": cv_mcc.tolist(),\n",
    "        \"CV_rocAUC\": cv_auc.tolist(),\n",
    "        \"Title\": f\"T{prot_type} Model Performance of Single Feature\",\n",
    "        \"ProtType\": prot_type\n",
    "    }, f)"
   ]
  },
  {
   "cell_type": "code",
   "execution_count": 10,
   "metadata": {},
   "outputs": [],
   "source": [
    "with open(f\"out/libfeatureselection/bubble_plot/Feature_name_Fix.json\", \"r\", encoding=\"UTF-8\") as f:\n",
    "    Feature_name_Fix_Feature = json.load(f)['Feature']"
   ]
  },
  {
   "cell_type": "code",
   "execution_count": 11,
   "metadata": {},
   "outputs": [],
   "source": [
    "scheme_filted_df = filted_df[\"Feature_Selected\"].drop_duplicates().reset_index(level=1, drop=1)\n",
    "scheme_filted_df.index = scheme_filted_df.index.to_series().replace(\n",
    "    { i[0]:f\"Combination_{index}\" for index,i in enumerate(dfs_with_index, start=1) }\n",
    ")\n",
    "scheme_filted_df.apply(\n",
    "    lambda row:\", \".join(filted_df[\"Feature_Selected\"].columns[row == 1].to_series().replace(\n",
    "        Feature_name_Fix_Feature\n",
    "    ).to_list()),\n",
    "    axis=1\n",
    ").to_csv(csv_out)"
   ]
  },
  {
   "cell_type": "code",
   "execution_count": null,
   "metadata": {},
   "outputs": [],
   "source": []
  }
 ],
 "metadata": {
  "kernelspec": {
   "display_name": "TxSEml_Backend",
   "language": "python",
   "name": "python3"
  },
  "language_info": {
   "codemirror_mode": {
    "name": "ipython",
    "version": 3
   },
   "file_extension": ".py",
   "mimetype": "text/x-python",
   "name": "python",
   "nbconvert_exporter": "python",
   "pygments_lexer": "ipython3",
   "version": "3.10.12"
  },
  "orig_nbformat": 4
 },
 "nbformat": 4,
 "nbformat_minor": 2
}

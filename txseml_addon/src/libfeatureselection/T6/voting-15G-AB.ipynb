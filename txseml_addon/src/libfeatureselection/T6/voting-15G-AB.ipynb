{
 "cells": [
  {
   "attachments": {},
   "cell_type": "markdown",
   "metadata": {},
   "source": [
    "# T6 Voting 15G AB"
   ]
  },
  {
   "attachments": {},
   "cell_type": "markdown",
   "metadata": {},
   "source": [
    "> 对于T6，我们也采用两个，一是15特征的模型，算法去掉LPA、GP、ERT和DT，用剩余11个算法集成；二是AAC特征的模型，算法去掉LPA、LGBM、MLP、DT和ERT，用余下10算法集成。"
   ]
  },
  {
   "cell_type": "code",
   "execution_count": 1,
   "metadata": {},
   "outputs": [],
   "source": [
    "# T6-AB-15G\n",
    "prot_type = 6\n",
    "job_name = \"T6-AB-15G_Voting\"\n",
    "path_to_score_dir = \"out/libfeatureselection/A_feature_research/model/1698039127349260/ab/\"\n",
    "path_to_model_score_path = f\"out/libfeatureselection/voting/T{prot_type}/\""
   ]
  },
  {
   "attachments": {},
   "cell_type": "markdown",
   "metadata": {},
   "source": [
    "## 按模型顺序加载预测分数"
   ]
  },
  {
   "cell_type": "code",
   "execution_count": 2,
   "metadata": {},
   "outputs": [
    {
     "name": "stderr",
     "output_type": "stream",
     "text": [
      "2023-07-23 15:38:57.688198: I tensorflow/core/util/util.cc:169] oneDNN custom operations are on. You may see slightly different numerical results due to floating-point round-off errors from different computation orders. To turn them off, set the environment variable `TF_ENABLE_ONEDNN_OPTS=0`.\n",
      "2023-07-23 15:38:57.691282: W tensorflow/stream_executor/platform/default/dso_loader.cc:64] Could not load dynamic library 'libcudart.so.11.0'; dlerror: libcudart.so.11.0: cannot open shared object file: No such file or directory\n",
      "2023-07-23 15:38:57.691296: I tensorflow/stream_executor/cuda/cudart_stub.cc:29] Ignore above cudart dlerror if you do not have a GPU set up on your machine.\n",
      "2023-07-23 15:38:58.725082: W tensorflow/stream_executor/platform/default/dso_loader.cc:64] Could not load dynamic library 'libcuda.so.1'; dlerror: libcuda.so.1: cannot open shared object file: No such file or directory\n",
      "2023-07-23 15:38:58.725114: W tensorflow/stream_executor/cuda/cuda_driver.cc:269] failed call to cuInit: UNKNOWN ERROR (303)\n",
      "2023-07-23 15:38:58.725133: I tensorflow/stream_executor/cuda/cuda_diagnostics.cc:156] kernel driver does not appear to be running on this host (A7LAB): /proc/driver/nvidia/version does not exist\n"
     ]
    }
   ],
   "source": [
    "import os\n",
    "import sys\n",
    "sys.path.append(\"src\")\n",
    "os.environ['CUDA_VISIBLE_DEVICES'] = '-1'\n",
    "\n",
    "import warnings\n",
    "warnings.filterwarnings('ignore')\n",
    "\n",
    "from libfeatureselection import model_space"
   ]
  },
  {
   "cell_type": "code",
   "execution_count": 3,
   "metadata": {},
   "outputs": [],
   "source": [
    "model_allname_list = [\n",
    "    item['name']\n",
    "    for item in model_space.find_space\n",
    "]\n",
    "model_list_dict = { item['name']:item for item in model_space.find_space }"
   ]
  },
  {
   "cell_type": "code",
   "execution_count": 4,
   "metadata": {},
   "outputs": [],
   "source": [
    "import gzip\n",
    "import pickle\n",
    "import numpy as np"
   ]
  },
  {
   "cell_type": "code",
   "execution_count": 5,
   "metadata": {},
   "outputs": [],
   "source": [
    "from sklearn.metrics import roc_curve\n",
    "def get_optimal_threshold(target: np.ndarray, predict: np.ndarray):\n",
    "\n",
    "    predict = np.nan_to_num(\n",
    "        predict, copy=True, nan=0.0\n",
    "    )\n",
    "    fpr, tpr, thresholds = roc_curve(target, predict)\n",
    "    best_one_optimal_idx = np.argmax(tpr - fpr)\n",
    "    pro_cutoff = thresholds[best_one_optimal_idx]\n",
    "    predict_l = [1 if i >= pro_cutoff else 0 for i in predict]\n",
    "\n",
    "    return pro_cutoff\n",
    "\n",
    "def get_threshold_for_dict(_score_dict: dict):\n",
    "    # best_predicted_pair\n",
    "    _score_dict['best_predicted_pair_pro_cutoff'] = get_optimal_threshold(\n",
    "        target=_score_dict['best_predicted_pair'][1],\n",
    "        predict=_score_dict['best_predicted_pair'][0][:, 1]\n",
    "    )\n",
    "    _score_dict['best_predicted_binary'] = (\n",
    "        _score_dict['best_predicted_pair'][0] >= _score_dict['best_predicted_pair_pro_cutoff']\n",
    "    ).astype(int)\n",
    "\n",
    "    # best_5C_predicted_pair\n",
    "    _score_dict['best_5C_predicted_pair_pro_cutoff'] = [\n",
    "        get_optimal_threshold(\n",
    "            target=fold_item[1],\n",
    "            predict=fold_item[0][:, 1]\n",
    "        )\n",
    "        for fold_item in _score_dict['best_5C_predicted_pair']\n",
    "    ]\n",
    "    _score_dict['best_5C_predicted_binary'] = [\n",
    "        (\n",
    "            _score_dict['best_5C_predicted_pair'][fold_id][0] >= _score_dict['best_5C_predicted_pair_pro_cutoff'][fold_id]\n",
    "        ).astype(int) for fold_id in range(len(_score_dict['best_5C_predicted_pair']))\n",
    "    ]\n",
    "\n",
    "    return _score_dict"
   ]
  },
  {
   "cell_type": "code",
   "execution_count": 6,
   "metadata": {},
   "outputs": [],
   "source": [
    "score_dict = {\n",
    "    model_name: get_threshold_for_dict(\n",
    "        pickle.load(\n",
    "            gzip.open(f\"{path_to_score_dir}/{model_name}_score.pkl\", \"rb\")\n",
    "        )\n",
    "    )\n",
    "    for model_name in model_allname_list\n",
    "}"
   ]
  },
  {
   "attachments": {},
   "cell_type": "markdown",
   "metadata": {},
   "source": [
    "Voting"
   ]
  },
  {
   "cell_type": "code",
   "execution_count": 7,
   "metadata": {},
   "outputs": [],
   "source": [
    "voting_model_name_list = [\n",
    "    'XGBClassifier',\n",
    "    'LGBMClassifier',\n",
    "    'SVC',\n",
    "    'LogisticRegression',\n",
    "    'SGDClassifier',\n",
    "    'ExtraTreesClassifier',\n",
    "    'GradientBoostingClassifier',\n",
    "    'GaussianNB',\n",
    "    'MLPClassifier',\n",
    "    'KNeighborsClassifier',\n",
    "    'RandomForestClassifier'\n",
    "]\n",
    "\n",
    "tt_voting_score_pair = [\n",
    "    np.stack([\n",
    "        score_dict[model_name]['best_predicted_binary'][:, 1] for model_name in voting_model_name_list\n",
    "    ], axis=1).mean(axis=1),\n",
    "    next(iter(score_dict.items()))[1]['best_predicted_pair'][1],\n",
    "]\n",
    "\n",
    "cv_voting_score_pair_list = [\n",
    "    [\n",
    "        np.stack([\n",
    "            score_dict[model_name]['best_5C_predicted_binary'][fold_id][:, 1] for model_name in voting_model_name_list\n",
    "        ], axis=1).mean(axis=1),\n",
    "        next(iter(score_dict.items()))[1]['best_5C_predicted_pair'][fold_id][1],\n",
    "    ]\n",
    "    for fold_id in range(len(next(iter(score_dict.items()))[1]['best_5C_predicted_pair']))\n",
    "]\n",
    "\n",
    "os.makedirs(path_to_model_score_path, exist_ok=True)\n",
    "with gzip.open(f\"{path_to_model_score_path}/{job_name}_score.pkl\", \"wb\") as f:\n",
    "    pickle.dump(\n",
    "        {\n",
    "            \"best_predicted_pair\": tt_voting_score_pair,\n",
    "            \"best_5C_predicted_pair\": cv_voting_score_pair_list,\n",
    "        }, f\n",
    "    )"
   ]
  },
  {
   "cell_type": "code",
   "execution_count": null,
   "metadata": {},
   "outputs": [],
   "source": []
  }
 ],
 "metadata": {
  "kernelspec": {
   "display_name": "TxSEml_Backend",
   "language": "python",
   "name": "python3"
  },
  "language_info": {
   "codemirror_mode": {
    "name": "ipython",
    "version": 3
   },
   "file_extension": ".py",
   "mimetype": "text/x-python",
   "name": "python",
   "nbconvert_exporter": "python",
   "pygments_lexer": "ipython3",
   "version": "3.10.12"
  },
  "orig_nbformat": 4
 },
 "nbformat": 4,
 "nbformat_minor": 2
}

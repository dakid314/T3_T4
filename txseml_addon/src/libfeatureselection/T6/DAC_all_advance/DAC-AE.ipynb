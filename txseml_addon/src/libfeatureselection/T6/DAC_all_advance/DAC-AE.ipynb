{
 "cells": [
  {
   "attachments": {},
   "cell_type": "markdown",
   "metadata": {},
   "source": [
    "# DAC分组问题"
   ]
  },
  {
   "cell_type": "code",
   "execution_count": 1,
   "metadata": {},
   "outputs": [],
   "source": [
    "import sys\n",
    "sys.path.append(\"src\")\n",
    "import os\n",
    "import json\n",
    "\n",
    "import libpybiofeature\n",
    "\n",
    "import utils\n",
    "work_Dir = utils.workdir.workdir(os.getcwd(), 4)\n",
    "\n",
    "import numpy as np\n",
    "import pandas as pd"
   ]
  },
  {
   "cell_type": "code",
   "execution_count": 2,
   "metadata": {},
   "outputs": [],
   "source": [
    "from Bio import SeqIO\n",
    "def load_DAC_feature(TxSE_args: dict):\n",
    "\n",
    "    # DAC\n",
    "    DAC_feature = {\n",
    "        \"name\": \"DAC\",\n",
    "        \"p\": libpybiofeature.featurebuilder.build_dac_feature(\n",
    "            path_to_fasta=TxSE_args['fasta']['p'],\n",
    "            seq_id_list=[ seq.id for seq in SeqIO.parse(TxSE_args['fasta']['p'], \"fasta\") ],\n",
    "            desc='p'\n",
    "        ),\n",
    "        \"n\": libpybiofeature.featurebuilder.build_dac_feature(\n",
    "            path_to_fasta=TxSE_args['fasta']['n'],\n",
    "            seq_id_list=[ seq.id for seq in SeqIO.parse(TxSE_args['fasta']['n'], \"fasta\") ],\n",
    "            desc='n'\n",
    "        ),\n",
    "    }\n",
    "\n",
    "    print(DAC_feature['n'].shape[0], DAC_feature['p'].shape[0])\n",
    "\n",
    "    return DAC_feature"
   ]
  },
  {
   "cell_type": "code",
   "execution_count": 3,
   "metadata": {},
   "outputs": [],
   "source": [
    "prot_type = 6\n",
    "cter_bool = False\n",
    "Tx_arg = {\n",
    "    \"type\": f'T{prot_type}',\n",
    "    'fasta': {\n",
    "        'cter': cter_bool,\n",
    "        'p': \"data/T6SE/anti-eukaryotic-effector_p.fasta\",\n",
    "        'n': \"data/T6SE/anti-eukaryotic-effector_n.fasta\"\n",
    "    },\n",
    "}\n",
    "save_dir = \"out/libfeatureselection/Six_feature_research/dac/ae\""
   ]
  },
  {
   "cell_type": "code",
   "execution_count": 4,
   "metadata": {},
   "outputs": [
    {
     "name": "stderr",
     "output_type": "stream",
     "text": [
      "p_DAC: 100%|██████████| 33/33 [00:00<00:00, 5830.82it/s]\n",
      "n_DAC: 100%|██████████| 33/33 [00:00<00:00, 11206.54it/s]"
     ]
    },
    {
     "name": "stdout",
     "output_type": "stream",
     "text": [
      "33 33\n"
     ]
    },
    {
     "name": "stderr",
     "output_type": "stream",
     "text": [
      "\n"
     ]
    }
   ],
   "source": [
    "aac_data = load_DAC_feature(\n",
    "    TxSE_args=Tx_arg\n",
    ")\n",
    "aa_type = list(aac_data['p'].columns)"
   ]
  },
  {
   "cell_type": "code",
   "execution_count": 5,
   "metadata": {},
   "outputs": [],
   "source": [
    "import matplotlib as mpl\n",
    "\n",
    "mpl.rcParams['pdf.fonttype'] = 42\n",
    "mpl.rcParams['ps.fonttype'] = 42\n",
    "mpl.rcParams['svg.fonttype'] = 'none'\n",
    "mpl.rcParams['pdf.use14corefonts'] = False\n",
    "# mpl.rcParams['pdf.usecorefonts'] = True\n",
    "mpl.rcParams['pdf.compression'] = 9\n",
    "\n",
    "import matplotlib.pyplot as plt\n",
    "import scienceplots\n",
    "\n",
    "plt.style.use(['science', 'nature'])\n",
    "\n",
    "from matplotlib.ticker import MaxNLocator\n",
    "\n",
    "import seaborn as sns"
   ]
  },
  {
   "cell_type": "code",
   "execution_count": 6,
   "metadata": {},
   "outputs": [],
   "source": [
    "aac_data_transformed = pd.concat([aac_data['p'], aac_data['n']], keys=['T6SP-AE', 'non-T6SP']).reset_index(level=0).rename({\n",
    "    \"level_0\": \"Type\"\n",
    "}, axis=1, inplace=False).melt(id_vars=\"Type\", value_vars=aa_type, ignore_index=False).rename({\n",
    "    \"variable\": \"Amino acid\",\n",
    "    \"value\": \"DAC\"\n",
    "}, axis=1, inplace=False)"
   ]
  },
  {
   "cell_type": "code",
   "execution_count": 7,
   "metadata": {},
   "outputs": [
    {
     "data": {
      "text/html": [
       "<div>\n",
       "<style scoped>\n",
       "    .dataframe tbody tr th:only-of-type {\n",
       "        vertical-align: middle;\n",
       "    }\n",
       "\n",
       "    .dataframe tbody tr th {\n",
       "        vertical-align: top;\n",
       "    }\n",
       "\n",
       "    .dataframe thead th {\n",
       "        text-align: right;\n",
       "    }\n",
       "</style>\n",
       "<table border=\"1\" class=\"dataframe\">\n",
       "  <thead>\n",
       "    <tr style=\"text-align: right;\">\n",
       "      <th></th>\n",
       "      <th>Type</th>\n",
       "      <th>Amino acid</th>\n",
       "      <th>DAC</th>\n",
       "    </tr>\n",
       "  </thead>\n",
       "  <tbody>\n",
       "    <tr>\n",
       "      <th>PTC37822.1</th>\n",
       "      <td>T6SP-AE</td>\n",
       "      <td>A,A</td>\n",
       "      <td>0.011885</td>\n",
       "    </tr>\n",
       "    <tr>\n",
       "      <th>NP_252177.1</th>\n",
       "      <td>T6SP-AE</td>\n",
       "      <td>A,A</td>\n",
       "      <td>0.009116</td>\n",
       "    </tr>\n",
       "    <tr>\n",
       "      <th>VUY43860.1</th>\n",
       "      <td>T6SP-AE</td>\n",
       "      <td>A,A</td>\n",
       "      <td>0.017026</td>\n",
       "    </tr>\n",
       "    <tr>\n",
       "      <th>GAD68163.1</th>\n",
       "      <td>T6SP-AE</td>\n",
       "      <td>A,A</td>\n",
       "      <td>0.006656</td>\n",
       "    </tr>\n",
       "    <tr>\n",
       "      <th>GAD68164.1</th>\n",
       "      <td>T6SP-AE</td>\n",
       "      <td>A,A</td>\n",
       "      <td>0.006791</td>\n",
       "    </tr>\n",
       "    <tr>\n",
       "      <th>...</th>\n",
       "      <td>...</td>\n",
       "      <td>...</td>\n",
       "      <td>...</td>\n",
       "    </tr>\n",
       "    <tr>\n",
       "      <th>lcl|NC_004463.1_prot_NP_770049.1_3409</th>\n",
       "      <td>non-T6SP</td>\n",
       "      <td>Y,Y</td>\n",
       "      <td>0.000000</td>\n",
       "    </tr>\n",
       "    <tr>\n",
       "      <th>lcl|NC_012779.2_prot_WP_015871331.1_1773</th>\n",
       "      <td>non-T6SP</td>\n",
       "      <td>Y,Y</td>\n",
       "      <td>0.003876</td>\n",
       "    </tr>\n",
       "    <tr>\n",
       "      <th>lcl|NZ_CP009322.1_prot_WP_036056218.1_1105</th>\n",
       "      <td>non-T6SP</td>\n",
       "      <td>Y,Y</td>\n",
       "      <td>0.002551</td>\n",
       "    </tr>\n",
       "    <tr>\n",
       "      <th>lcl|NZ_CP011279.2_prot_WP_042115644.1_567</th>\n",
       "      <td>non-T6SP</td>\n",
       "      <td>Y,Y</td>\n",
       "      <td>0.000000</td>\n",
       "    </tr>\n",
       "    <tr>\n",
       "      <th>lcl|NC_009675.1_prot_WP_083777039.1_4510</th>\n",
       "      <td>non-T6SP</td>\n",
       "      <td>Y,Y</td>\n",
       "      <td>0.000000</td>\n",
       "    </tr>\n",
       "  </tbody>\n",
       "</table>\n",
       "<p>26400 rows × 3 columns</p>\n",
       "</div>"
      ],
      "text/plain": [
       "                                                Type Amino acid       DAC\n",
       "PTC37822.1                                   T6SP-AE        A,A  0.011885\n",
       "NP_252177.1                                  T6SP-AE        A,A  0.009116\n",
       "VUY43860.1                                   T6SP-AE        A,A  0.017026\n",
       "GAD68163.1                                   T6SP-AE        A,A  0.006656\n",
       "GAD68164.1                                   T6SP-AE        A,A  0.006791\n",
       "...                                              ...        ...       ...\n",
       "lcl|NC_004463.1_prot_NP_770049.1_3409       non-T6SP        Y,Y  0.000000\n",
       "lcl|NC_012779.2_prot_WP_015871331.1_1773    non-T6SP        Y,Y  0.003876\n",
       "lcl|NZ_CP009322.1_prot_WP_036056218.1_1105  non-T6SP        Y,Y  0.002551\n",
       "lcl|NZ_CP011279.2_prot_WP_042115644.1_567   non-T6SP        Y,Y  0.000000\n",
       "lcl|NC_009675.1_prot_WP_083777039.1_4510    non-T6SP        Y,Y  0.000000\n",
       "\n",
       "[26400 rows x 3 columns]"
      ]
     },
     "execution_count": 7,
     "metadata": {},
     "output_type": "execute_result"
    }
   ],
   "source": [
    "aac_data_transformed"
   ]
  },
  {
   "cell_type": "code",
   "execution_count": 8,
   "metadata": {},
   "outputs": [
    {
     "name": "stderr",
     "output_type": "stream",
     "text": [
      "/home/georgezhao/.pyvirtualenvs/TxSEml_Backend/lib/python3.10/site-packages/scipy/stats/_morestats.py:3159: UserWarning: Sample size too small for normal approximation.\n",
      "  warnings.warn(\"Sample size too small for normal approximation.\")\n"
     ]
    }
   ],
   "source": [
    "def get_star(p:float):\n",
    "    if p <= 0.0001:\n",
    "        return \"****\"\n",
    "    elif p <= 0.001:\n",
    "        return \"***\"\n",
    "    elif p <= 0.01:\n",
    "        return \"**\"\n",
    "    elif p <= 0.05:\n",
    "        return \"*\"\n",
    "    else:\n",
    "        return \"\"\n",
    "from scipy.stats import wilcoxon\n",
    "grouped = aac_data_transformed.groupby(\"Amino acid\")\n",
    "wilcoxon_result = {}\n",
    "for name, group in grouped:\n",
    "    x = group[group['Type'] == 'T6SP-AE']['DAC']\n",
    "    y = group[group['Type'] == 'non-T6SP']['DAC']\n",
    "    stat, p = wilcoxon(x, y)\n",
    "    wilcoxon_result[name] = {\n",
    "        \"statistic\": stat,\n",
    "        \"p-value\": p\n",
    "    }\n",
    "    # print(f'Type: {name}, Wilcoxon rank-sum statistic: {stat:.2f}, p-value: {p:.3f}')\n",
    "with open(f\"{save_dir}/wilcoxon_result.json\", \"w+\", encoding=\"UTF-8\") as f:\n",
    "    json.dump(wilcoxon_result, f)\n",
    "aac_data_transformed.to_csv(f\"{save_dir}/aac_data_transformed.csv\", index_label=\"Seq_ID\")"
   ]
  },
  {
   "attachments": {},
   "cell_type": "markdown",
   "metadata": {},
   "source": [
    "处理一下，选择出显著的"
   ]
  },
  {
   "cell_type": "code",
   "execution_count": 9,
   "metadata": {},
   "outputs": [
    {
     "data": {
      "text/plain": [
       "['L,P',\n",
       " 'A,L',\n",
       " 'H,Q',\n",
       " 'I,P',\n",
       " 'K,Q',\n",
       " 'D,Y',\n",
       " 'F,I',\n",
       " 'E,Q',\n",
       " 'G,W',\n",
       " 'I,L',\n",
       " 'I,Y',\n",
       " 'V,Y',\n",
       " 'H,I',\n",
       " 'N,N',\n",
       " 'A,V',\n",
       " 'K,Y',\n",
       " 'E,N',\n",
       " 'L,N',\n",
       " 'D,M',\n",
       " 'N,S',\n",
       " 'K,L',\n",
       " 'K,N',\n",
       " 'T,Y',\n",
       " 'D,N',\n",
       " 'P,P',\n",
       " 'G,K',\n",
       " 'I,N',\n",
       " 'D,I',\n",
       " 'D,S',\n",
       " 'F,K',\n",
       " 'I,K',\n",
       " 'L,R',\n",
       " 'R,R',\n",
       " 'E,K',\n",
       " 'A,S',\n",
       " 'Q,Y',\n",
       " 'E,I',\n",
       " 'S,S',\n",
       " 'A,T',\n",
       " 'N,Y',\n",
       " 'A,R',\n",
       " 'K,T',\n",
       " 'D,D',\n",
       " 'D,K',\n",
       " 'F,N',\n",
       " 'G,S',\n",
       " 'H,N',\n",
       " 'I,S',\n",
       " 'E,Y',\n",
       " 'G,N',\n",
       " 'E,F']"
      ]
     },
     "execution_count": 9,
     "metadata": {},
     "output_type": "execute_result"
    }
   ],
   "source": [
    "p_values_series = pd.Series({\n",
    "    k:v['p-value'] for k, v in wilcoxon_result.items()\n",
    "}).to_frame().rename({0: \"p-value\"}, axis=1)\n",
    "def swap_char(str_: str):\n",
    "    str_ = list(str_)\n",
    "    if str_[0] > str_[2]:\n",
    "        tmp = str_[2]\n",
    "        str_[2] = str_[0]\n",
    "        str_[0] = tmp\n",
    "    return \"\".join(str_)\n",
    "list(set([ swap_char(item) for item in p_values_series[p_values_series['p-value'] <= 0.05].index.to_list()]))"
   ]
  },
  {
   "cell_type": "code",
   "execution_count": null,
   "metadata": {},
   "outputs": [],
   "source": []
  }
 ],
 "metadata": {
  "kernelspec": {
   "display_name": "TxSEml_Backend",
   "language": "python",
   "name": "python3"
  },
  "language_info": {
   "codemirror_mode": {
    "name": "ipython",
    "version": 3
   },
   "file_extension": ".py",
   "mimetype": "text/x-python",
   "name": "python",
   "nbconvert_exporter": "python",
   "pygments_lexer": "ipython3",
   "version": "3.10.12"
  },
  "orig_nbformat": 4
 },
 "nbformat": 4,
 "nbformat_minor": 2
}

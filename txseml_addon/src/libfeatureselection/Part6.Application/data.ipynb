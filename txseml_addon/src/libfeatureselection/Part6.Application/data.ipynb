{
 "cells": [
  {
   "cell_type": "code",
   "execution_count": 1,
   "metadata": {},
   "outputs": [],
   "source": [
    "import pandas as pd\n",
    "from Bio import SeqIO, SeqRecord, Seq\n",
    "\n",
    "def dual_with_X(seq:SeqRecord):\n",
    "    seq.seq = Seq.Seq(str(seq.seq).replace(\"X\", \"A\").replace(\"Z\", \"A\").replace(\"*\", \"A\").replace(\"-\", \"A\").replace(\"B\", \"A\").replace(\"U\", \"A\") + \"A\" * (50 - len(seq.seq)))\n",
    "    return seq"
   ]
  },
  {
   "cell_type": "code",
   "execution_count": 2,
   "metadata": {},
   "outputs": [],
   "source": [
    "import pandas as pd\n",
    "import random\n",
    "random.seed(42)"
   ]
  },
  {
   "cell_type": "code",
   "execution_count": 3,
   "metadata": {},
   "outputs": [
    {
     "name": "stderr",
     "output_type": "stream",
     "text": [
      "/home/georgezhao/.pyvirtualenvs/TxSEml_Backend/lib/python3.10/site-packages/openpyxl/worksheet/_reader.py:312: UserWarning: Unknown extension is not supported and will be removed\n",
      "  warn(msg)\n"
     ]
    }
   ],
   "source": [
    "def func(r:pd.Series):\n",
    "\n",
    "    if r.iat[4] != '-':\n",
    "        return r.iat[4]\n",
    "    elif r.iat[10] != '-':\n",
    "        return r.iat[10]\n",
    "    elif r.iat[11] != '-':\n",
    "        return r.iat[11]\n",
    "    elif r.iat[14] != '-':\n",
    "        return r.iat[14]\n",
    "    elif r.iat[8] != '-':\n",
    "        return r.iat[8]\n",
    "    elif r.iat[7] != '-':\n",
    "        return r.iat[7]\n",
    "    elif r.iat[22] != '-':\n",
    "        return r.iat[22]\n",
    "    elif r.iat[24] != '-':\n",
    "        return r.iat[24]\n",
    "    elif r.iat[6] != '-':\n",
    "        return r.iat[6]\n",
    "\n",
    "    _r = r.iloc[[1, 2, 3, 12, 13, 15, 16, 17, 18, 19, 20, 21, 23], ]\n",
    "    _rr = _r[_r != \"-\"]\n",
    "    if _rr.shape[0] != 0:\n",
    "        return random.choice(_rr.to_list())\n",
    "\n",
    "    _r = r.iloc[[0, 5, 9, 25], ]\n",
    "    _rr = _r[_r != \"-\"]\n",
    "    return random.choice(_rr.to_list())\n",
    "\n",
    "uid_df = pd.read_excel(\"data/Salmonellosis/26-Salmonella-PG-ann.xlsx\", index_col=[0,], header=[0,]).apply(\n",
    "    func, axis=1\n",
    ")\n",
    "uid_df = uid_df.reset_index()\n",
    "uid_df.columns = [\"UID\", \"SeqID\"]\n",
    "uid_df.to_csv(\"data/Salmonellosis/uid_df.csv\", index=False)"
   ]
  },
  {
   "cell_type": "code",
   "execution_count": 4,
   "metadata": {},
   "outputs": [
    {
     "data": {
      "text/html": [
       "<div>\n",
       "<style scoped>\n",
       "    .dataframe tbody tr th:only-of-type {\n",
       "        vertical-align: middle;\n",
       "    }\n",
       "\n",
       "    .dataframe tbody tr th {\n",
       "        vertical-align: top;\n",
       "    }\n",
       "\n",
       "    .dataframe thead th {\n",
       "        text-align: right;\n",
       "    }\n",
       "</style>\n",
       "<table border=\"1\" class=\"dataframe\">\n",
       "  <thead>\n",
       "    <tr style=\"text-align: right;\">\n",
       "      <th></th>\n",
       "      <th>UID</th>\n",
       "      <th>SeqID</th>\n",
       "    </tr>\n",
       "  </thead>\n",
       "  <tbody>\n",
       "    <tr>\n",
       "      <th>0</th>\n",
       "      <td>26CG0001</td>\n",
       "      <td>STM14_RS01660</td>\n",
       "    </tr>\n",
       "    <tr>\n",
       "      <th>1</th>\n",
       "      <td>26CG0002</td>\n",
       "      <td>STM14_RS05320</td>\n",
       "    </tr>\n",
       "    <tr>\n",
       "      <th>2</th>\n",
       "      <td>26CG0003</td>\n",
       "      <td>STM14_RS18335</td>\n",
       "    </tr>\n",
       "    <tr>\n",
       "      <th>3</th>\n",
       "      <td>26CG0004</td>\n",
       "      <td>STM14_RS15940</td>\n",
       "    </tr>\n",
       "    <tr>\n",
       "      <th>4</th>\n",
       "      <td>26CG0005</td>\n",
       "      <td>STM14_RS03105</td>\n",
       "    </tr>\n",
       "  </tbody>\n",
       "</table>\n",
       "</div>"
      ],
      "text/plain": [
       "        UID          SeqID\n",
       "0  26CG0001  STM14_RS01660\n",
       "1  26CG0002  STM14_RS05320\n",
       "2  26CG0003  STM14_RS18335\n",
       "3  26CG0004  STM14_RS15940\n",
       "4  26CG0005  STM14_RS03105"
      ]
     },
     "execution_count": 4,
     "metadata": {},
     "output_type": "execute_result"
    }
   ],
   "source": [
    "uid_df.head(5)"
   ]
  },
  {
   "cell_type": "code",
   "execution_count": 5,
   "metadata": {},
   "outputs": [
    {
     "data": {
      "text/plain": [
       "array([['26CG0001', 'STM14_RS01660'],\n",
       "       ['26CG0002', 'STM14_RS05320'],\n",
       "       ['26CG0003', 'STM14_RS18335'],\n",
       "       ['26CG0004', 'STM14_RS15940'],\n",
       "       ['26CG0005', 'STM14_RS03105']], dtype=object)"
      ]
     },
     "execution_count": 5,
     "metadata": {},
     "output_type": "execute_result"
    }
   ],
   "source": [
    "uid_df.head(5).values"
   ]
  },
  {
   "cell_type": "code",
   "execution_count": 6,
   "metadata": {},
   "outputs": [],
   "source": [
    "from Bio import SeqIO, Seq, SeqRecord"
   ]
  },
  {
   "cell_type": "code",
   "execution_count": 7,
   "metadata": {},
   "outputs": [],
   "source": [
    "seq_db = list(SeqIO.parse(\"data/Salmonellosis/sal26.faa\", \"fasta\"))\n",
    "seq_dict = {\n",
    "    seq.id: seq for seq in seq_db\n",
    "}"
   ]
  },
  {
   "cell_type": "code",
   "execution_count": 8,
   "metadata": {},
   "outputs": [],
   "source": [
    "with open(f\"data/Salmonellosis/extracted.fasta\", \"w+\", encoding=\"UTF-8\") as f:\n",
    "    SeqIO.write(\n",
    "        sequences=[\n",
    "            dual_with_X(SeqRecord.SeqRecord(\n",
    "                seq=seq_dict[seqid].seq,\n",
    "                id=uid,\n",
    "                description=f\"[OriginSeqID={seqid}]\"\n",
    "            ))\n",
    "            for uid, seqid in uid_df.values\n",
    "        ],\n",
    "        handle=f,\n",
    "        format=\"fasta\"\n",
    "    )"
   ]
  },
  {
   "attachments": {},
   "cell_type": "markdown",
   "metadata": {},
   "source": [
    "# 统计数目"
   ]
  },
  {
   "cell_type": "code",
   "execution_count": 1,
   "metadata": {},
   "outputs": [],
   "source": [
    "from Bio import SeqIO"
   ]
  },
  {
   "cell_type": "code",
   "execution_count": 2,
   "metadata": {},
   "outputs": [
    {
     "data": {
      "text/plain": [
       "11320"
      ]
     },
     "execution_count": 2,
     "metadata": {},
     "output_type": "execute_result"
    }
   ],
   "source": [
    "len(list(SeqIO.parse(\"data/Salmonellosis/extracted.fasta\", \"fasta\")))"
   ]
  },
  {
   "cell_type": "code",
   "execution_count": null,
   "metadata": {},
   "outputs": [],
   "source": []
  }
 ],
 "metadata": {
  "kernelspec": {
   "display_name": "TxSEml_Backend",
   "language": "python",
   "name": "python3"
  },
  "language_info": {
   "codemirror_mode": {
    "name": "ipython",
    "version": 3
   },
   "file_extension": ".py",
   "mimetype": "text/x-python",
   "name": "python",
   "nbconvert_exporter": "python",
   "pygments_lexer": "ipython3",
   "version": "3.10.12"
  },
  "orig_nbformat": 4
 },
 "nbformat": 4,
 "nbformat_minor": 2
}

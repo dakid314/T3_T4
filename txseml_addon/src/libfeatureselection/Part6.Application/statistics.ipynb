{
 "cells": [
  {
   "attachments": {},
   "cell_type": "markdown",
   "metadata": {},
   "source": [
    "# 要做的事情\n",
    "1. 用TxSEml在26个沙门氏菌染色体上扫描所有的T1/2/6型分泌蛋白；\n",
    "2. 尽可能保障并证明这些分泌蛋白是准确的；\n",
    "3. 观察这些分泌蛋白在沙门氏菌中的分布和进化。\n",
    "\n",
    "# 需要的图\n",
    "## 图8A\n",
    "I、II、VI型分泌蛋白直系家族的总体总结：一个柱状图，三个柱子，分别表述I、II、VI型分泌蛋白家族的数目\n",
    "> 图8A主要反映细菌中I/II/VI型分泌蛋白可能的数量\n",
    "\n",
    "## 图8B\n",
    "也做柱状图，反映26个菌，每个菌中I、II、VI型分泌蛋白的数量\n",
    "\n",
    "26*3个柱子，还是26个柱子（叠加）或者撕开三个小图（I/II/VI）？\n",
    "\n",
    "> 图8B主要反映I/II/VI型分泌蛋白在沙门氏菌中的数量波动\n",
    "\n",
    "## 图8C\n",
    "聚类热图，聚类 - 按照26个菌的进化树；每个菌一行，每个T1/2/6基因（家族）一列，相应的菌有相应的T1/2/6基因（家族）就用颜色表示，没有相应的基因就不标颜色。T1/2/6做成三个小图"
   ]
  },
  {
   "attachments": {},
   "cell_type": "markdown",
   "metadata": {},
   "source": [
    "# 代码部份"
   ]
  },
  {
   "attachments": {},
   "cell_type": "markdown",
   "metadata": {},
   "source": [
    "## 定义阈值"
   ]
  },
  {
   "cell_type": "code",
   "execution_count": 1,
   "metadata": {},
   "outputs": [],
   "source": [
    "class AttrDict(dict):\n",
    "    def __init__(self, *args, **kwargs):\n",
    "        super(AttrDict, self).__init__(*args, **kwargs)\n",
    "        self.__dict__ = self\n",
    "\n",
    "threshold = AttrDict(\n",
    "    T1=1,\n",
    "    T2=0.9,\n",
    "    T6=1\n",
    ")"
   ]
  },
  {
   "attachments": {},
   "cell_type": "markdown",
   "metadata": {},
   "source": [
    "## 加载数据"
   ]
  },
  {
   "cell_type": "code",
   "execution_count": 2,
   "metadata": {},
   "outputs": [],
   "source": [
    "import pandas as pd\n",
    "import numpy as np"
   ]
  },
  {
   "cell_type": "code",
   "execution_count": 3,
   "metadata": {},
   "outputs": [],
   "source": [
    "predict_result_path = \"out/libfeatureselection/Part6.Application/TxSEml_data/table.xlsx\"\n",
    "family_df_path = \"data/Salmonellosis/26-Salmonella-PG-ann.xlsx\""
   ]
  },
  {
   "cell_type": "code",
   "execution_count": 4,
   "metadata": {},
   "outputs": [
    {
     "name": "stderr",
     "output_type": "stream",
     "text": [
      "/home/georgezhao/.pyvirtualenvs/TxSEml_Backend/lib/python3.10/site-packages/openpyxl/worksheet/_reader.py:312: UserWarning: Unknown extension is not supported and will be removed\n",
      "  warn(msg)\n"
     ]
    }
   ],
   "source": [
    "family_df = pd.read_excel(family_df_path, index_col=[0,], header=[0,])\n",
    "predict_result_df_T1 = pd.read_excel(predict_result_path, \"T1\", index_col=[0,], header=[0,])\n",
    "predict_result_df_T2 = pd.read_excel(predict_result_path, \"T2\", index_col=[0,], header=[0,])\n",
    "predict_result_df_T6 = pd.read_excel(predict_result_path, \"T6\", index_col=[0,], header=[0,])"
   ]
  },
  {
   "cell_type": "code",
   "execution_count": 5,
   "metadata": {},
   "outputs": [
    {
     "data": {
      "text/html": [
       "<div>\n",
       "<style scoped>\n",
       "    .dataframe tbody tr th:only-of-type {\n",
       "        vertical-align: middle;\n",
       "    }\n",
       "\n",
       "    .dataframe tbody tr th {\n",
       "        vertical-align: top;\n",
       "    }\n",
       "\n",
       "    .dataframe thead th {\n",
       "        text-align: right;\n",
       "    }\n",
       "</style>\n",
       "<table border=\"1\" class=\"dataframe\">\n",
       "  <thead>\n",
       "    <tr style=\"text-align: right;\">\n",
       "      <th></th>\n",
       "      <th>T1</th>\n",
       "      <th>T2</th>\n",
       "      <th>T6</th>\n",
       "    </tr>\n",
       "  </thead>\n",
       "  <tbody>\n",
       "    <tr>\n",
       "      <th>26CG0001</th>\n",
       "      <td>0.000000</td>\n",
       "      <td>0.1</td>\n",
       "      <td>0.545455</td>\n",
       "    </tr>\n",
       "    <tr>\n",
       "      <th>26CG0002</th>\n",
       "      <td>0.090909</td>\n",
       "      <td>0.0</td>\n",
       "      <td>0.000000</td>\n",
       "    </tr>\n",
       "    <tr>\n",
       "      <th>26CG0003</th>\n",
       "      <td>0.000000</td>\n",
       "      <td>0.0</td>\n",
       "      <td>0.000000</td>\n",
       "    </tr>\n",
       "    <tr>\n",
       "      <th>26CG0004</th>\n",
       "      <td>0.000000</td>\n",
       "      <td>0.0</td>\n",
       "      <td>0.909091</td>\n",
       "    </tr>\n",
       "    <tr>\n",
       "      <th>26CG0005</th>\n",
       "      <td>0.000000</td>\n",
       "      <td>0.0</td>\n",
       "      <td>0.000000</td>\n",
       "    </tr>\n",
       "  </tbody>\n",
       "</table>\n",
       "</div>"
      ],
      "text/plain": [
       "                T1   T2        T6\n",
       "26CG0001  0.000000  0.1  0.545455\n",
       "26CG0002  0.090909  0.0  0.000000\n",
       "26CG0003  0.000000  0.0  0.000000\n",
       "26CG0004  0.000000  0.0  0.909091\n",
       "26CG0005  0.000000  0.0  0.000000"
      ]
     },
     "execution_count": 5,
     "metadata": {},
     "output_type": "execute_result"
    }
   ],
   "source": [
    "predict_result_df = pd.DataFrame(\n",
    "    {\n",
    "        \"T1\": predict_result_df_T1.iloc[:, 0].to_list(),\n",
    "        \"T2\": predict_result_df_T2.iloc[:, 0].to_list(),\n",
    "        \"T6\": predict_result_df_T6.iloc[:, 0].to_list(),\n",
    "    },\n",
    "    index=predict_result_df_T1.index\n",
    ")\n",
    "predict_result_df.head(5)"
   ]
  },
  {
   "attachments": {},
   "cell_type": "markdown",
   "metadata": {},
   "source": [
    "## FigA 用阈值去Cutoff"
   ]
  },
  {
   "cell_type": "code",
   "execution_count": 6,
   "metadata": {},
   "outputs": [
    {
     "data": {
      "text/plain": [
       "T1    344\n",
       "T2    285\n",
       "T6    365\n",
       "dtype: int64"
      ]
     },
     "execution_count": 6,
     "metadata": {},
     "output_type": "execute_result"
    }
   ],
   "source": [
    "predict_result_binary_df = (predict_result_df >= np.array([threshold.T1, threshold.T2, threshold.T6])).astype(int)\n",
    "predict_result_binary_df.sum()"
   ]
  },
  {
   "cell_type": "code",
   "execution_count": 7,
   "metadata": {},
   "outputs": [],
   "source": [
    "predict_result_text_df = predict_result_binary_df.apply(\n",
    "    lambda col: col.replace({\n",
    "        1: f\"T{col.name[1]}SP\",\n",
    "        0: f\"non-T{col.name[1]}SP\",\n",
    "    }), axis=0\n",
    ")"
   ]
  },
  {
   "cell_type": "code",
   "execution_count": 8,
   "metadata": {},
   "outputs": [],
   "source": [
    "predict_result_binary_df.to_csv(\"out/libfeatureselection/Part6.Application/out/data/predict_result_binary_df.csv\", index_label=\"UID\")\n",
    "predict_result_text_df.to_csv(\"out/libfeatureselection/Part6.Application/out/data/predict_result_text_df.csv\", index_label=\"UID\")"
   ]
  },
  {
   "attachments": {},
   "cell_type": "markdown",
   "metadata": {},
   "source": [
    "## FigB 用阈值去Cutoff，并在菌种中分别研究"
   ]
  },
  {
   "cell_type": "code",
   "execution_count": 9,
   "metadata": {},
   "outputs": [],
   "source": [
    "predict_result_text_count_df = pd.melt(predict_result_text_df).groupby(by=[\"variable\", \"value\"]).apply(\n",
    "    lambda gdb: gdb.shape[0]\n",
    ").to_frame().rename({\n",
    "    0: \"num\",\n",
    "}, axis=1)\n",
    "predict_result_text_count_df.to_csv(\"out/libfeatureselection/Part6.Application/out/data/predict_result_text_count_df.csv\")"
   ]
  },
  {
   "cell_type": "code",
   "execution_count": 10,
   "metadata": {},
   "outputs": [
    {
     "data": {
      "text/html": [
       "<div>\n",
       "<style scoped>\n",
       "    .dataframe tbody tr th:only-of-type {\n",
       "        vertical-align: middle;\n",
       "    }\n",
       "\n",
       "    .dataframe tbody tr th {\n",
       "        vertical-align: top;\n",
       "    }\n",
       "\n",
       "    .dataframe thead th {\n",
       "        text-align: right;\n",
       "    }\n",
       "</style>\n",
       "<table border=\"1\" class=\"dataframe\">\n",
       "  <thead>\n",
       "    <tr style=\"text-align: right;\">\n",
       "      <th></th>\n",
       "      <th>1121</th>\n",
       "      <th>11_01853</th>\n",
       "      <th>11_01854</th>\n",
       "      <th>11_01855</th>\n",
       "      <th>14028S</th>\n",
       "      <th>2439-64</th>\n",
       "      <th>287_91</th>\n",
       "      <th>ATCC9120</th>\n",
       "      <th>ATCC9150</th>\n",
       "      <th>ATCC_BAA_1581</th>\n",
       "      <th>...</th>\n",
       "      <th>RKS2983</th>\n",
       "      <th>RKS2986</th>\n",
       "      <th>RKS3013</th>\n",
       "      <th>RKS3027</th>\n",
       "      <th>RKS3044</th>\n",
       "      <th>RKS3057</th>\n",
       "      <th>RKS4594</th>\n",
       "      <th>RSK2980</th>\n",
       "      <th>SPB7</th>\n",
       "      <th>ST114</th>\n",
       "    </tr>\n",
       "    <tr>\n",
       "      <th>UID</th>\n",
       "      <th></th>\n",
       "      <th></th>\n",
       "      <th></th>\n",
       "      <th></th>\n",
       "      <th></th>\n",
       "      <th></th>\n",
       "      <th></th>\n",
       "      <th></th>\n",
       "      <th></th>\n",
       "      <th></th>\n",
       "      <th></th>\n",
       "      <th></th>\n",
       "      <th></th>\n",
       "      <th></th>\n",
       "      <th></th>\n",
       "      <th></th>\n",
       "      <th></th>\n",
       "      <th></th>\n",
       "      <th></th>\n",
       "      <th></th>\n",
       "      <th></th>\n",
       "    </tr>\n",
       "  </thead>\n",
       "  <tbody>\n",
       "    <tr>\n",
       "      <th>26CG0001</th>\n",
       "      <td>SEI61121_RS35145</td>\n",
       "      <td>UQ48_RS05315</td>\n",
       "      <td>UQ49_RS05315</td>\n",
       "      <td>UQ50_RS05310</td>\n",
       "      <td>STM14_RS01660</td>\n",
       "      <td>AJH72_RS07810</td>\n",
       "      <td>SG_RS01100</td>\n",
       "      <td>SEEP9120_RS05265</td>\n",
       "      <td>SPA_RS01115</td>\n",
       "      <td>SEHO0A_RS07950</td>\n",
       "      <td>...</td>\n",
       "      <td>N898_RS13290</td>\n",
       "      <td>RKS2986_RS02630</td>\n",
       "      <td>RKS3013_RS02285</td>\n",
       "      <td>RKS3027_RS02400</td>\n",
       "      <td>N643_RS01015</td>\n",
       "      <td>RKS3057_RS02295</td>\n",
       "      <td>SPC_RS01095</td>\n",
       "      <td>SARI_RS13030</td>\n",
       "      <td>SPAB_RS01115</td>\n",
       "      <td>LFZ92_RS18560</td>\n",
       "    </tr>\n",
       "    <tr>\n",
       "      <th>26CG0002</th>\n",
       "      <td>SEI61121_RS34855</td>\n",
       "      <td>UQ48_RS08685</td>\n",
       "      <td>UQ49_RS08685</td>\n",
       "      <td>UQ50_RS08675</td>\n",
       "      <td>STM14_RS05320</td>\n",
       "      <td>AJH72_RS12190</td>\n",
       "      <td>SG_RS04640</td>\n",
       "      <td>SEEP9120_RS13965</td>\n",
       "      <td>SPA_RS09160</td>\n",
       "      <td>SEHO0A_RS11055</td>\n",
       "      <td>...</td>\n",
       "      <td>N898_RS09575</td>\n",
       "      <td>RKS2986_RS22495</td>\n",
       "      <td>RKS3013_RS21185</td>\n",
       "      <td>RKS3027_RS21445</td>\n",
       "      <td>N643_RS04115</td>\n",
       "      <td>RKS3057_RS22465</td>\n",
       "      <td>SPC_RS04815</td>\n",
       "      <td>SARI_RS09285</td>\n",
       "      <td>SPAB_RS10335</td>\n",
       "      <td>LFZ92_RS14600</td>\n",
       "    </tr>\n",
       "    <tr>\n",
       "      <th>26CG0003</th>\n",
       "      <td>SEI61121_RS27365</td>\n",
       "      <td>UQ48_RS21295</td>\n",
       "      <td>UQ49_RS21295</td>\n",
       "      <td>UQ50_RS21260</td>\n",
       "      <td>STM14_RS18335</td>\n",
       "      <td>AJH72_RS04430</td>\n",
       "      <td>SG_RS20135</td>\n",
       "      <td>SEEP9120_RS01895</td>\n",
       "      <td>SPA_RS16835</td>\n",
       "      <td>SEHO0A_RS22495</td>\n",
       "      <td>...</td>\n",
       "      <td>N898_RS19370</td>\n",
       "      <td>RKS2986_RS09725</td>\n",
       "      <td>RKS3013_RS09240</td>\n",
       "      <td>RKS3027_RS08930</td>\n",
       "      <td>N643_RS15140</td>\n",
       "      <td>RKS3057_RS09200</td>\n",
       "      <td>SPC_RS17520</td>\n",
       "      <td>SARI_RS19510</td>\n",
       "      <td>SPAB_RS17505</td>\n",
       "      <td>LFZ92_RS02080</td>\n",
       "    </tr>\n",
       "  </tbody>\n",
       "</table>\n",
       "<p>3 rows × 26 columns</p>\n",
       "</div>"
      ],
      "text/plain": [
       "                      1121      11_01853      11_01854      11_01855  \\\n",
       "UID                                                                    \n",
       "26CG0001  SEI61121_RS35145  UQ48_RS05315  UQ49_RS05315  UQ50_RS05310   \n",
       "26CG0002  SEI61121_RS34855  UQ48_RS08685  UQ49_RS08685  UQ50_RS08675   \n",
       "26CG0003  SEI61121_RS27365  UQ48_RS21295  UQ49_RS21295  UQ50_RS21260   \n",
       "\n",
       "                 14028S        2439-64      287_91          ATCC9120  \\\n",
       "UID                                                                    \n",
       "26CG0001  STM14_RS01660  AJH72_RS07810  SG_RS01100  SEEP9120_RS05265   \n",
       "26CG0002  STM14_RS05320  AJH72_RS12190  SG_RS04640  SEEP9120_RS13965   \n",
       "26CG0003  STM14_RS18335  AJH72_RS04430  SG_RS20135  SEEP9120_RS01895   \n",
       "\n",
       "             ATCC9150   ATCC_BAA_1581  ...       RKS2983          RKS2986  \\\n",
       "UID                                    ...                                  \n",
       "26CG0001  SPA_RS01115  SEHO0A_RS07950  ...  N898_RS13290  RKS2986_RS02630   \n",
       "26CG0002  SPA_RS09160  SEHO0A_RS11055  ...  N898_RS09575  RKS2986_RS22495   \n",
       "26CG0003  SPA_RS16835  SEHO0A_RS22495  ...  N898_RS19370  RKS2986_RS09725   \n",
       "\n",
       "                  RKS3013          RKS3027       RKS3044          RKS3057  \\\n",
       "UID                                                                         \n",
       "26CG0001  RKS3013_RS02285  RKS3027_RS02400  N643_RS01015  RKS3057_RS02295   \n",
       "26CG0002  RKS3013_RS21185  RKS3027_RS21445  N643_RS04115  RKS3057_RS22465   \n",
       "26CG0003  RKS3013_RS09240  RKS3027_RS08930  N643_RS15140  RKS3057_RS09200   \n",
       "\n",
       "              RKS4594       RSK2980          SPB7          ST114  \n",
       "UID                                                               \n",
       "26CG0001  SPC_RS01095  SARI_RS13030  SPAB_RS01115  LFZ92_RS18560  \n",
       "26CG0002  SPC_RS04815  SARI_RS09285  SPAB_RS10335  LFZ92_RS14600  \n",
       "26CG0003  SPC_RS17520  SARI_RS19510  SPAB_RS17505  LFZ92_RS02080  \n",
       "\n",
       "[3 rows x 26 columns]"
      ]
     },
     "execution_count": 10,
     "metadata": {},
     "output_type": "execute_result"
    }
   ],
   "source": [
    "family_df.head(3)"
   ]
  },
  {
   "cell_type": "code",
   "execution_count": 11,
   "metadata": {},
   "outputs": [],
   "source": [
    "ordered_col_name = open(\"out/libfeatureselection/Part6.Application/out/data/26Order.txt\", \"r\", encoding=\"UTF-8\").read().splitlines()"
   ]
  },
  {
   "cell_type": "code",
   "execution_count": 12,
   "metadata": {},
   "outputs": [],
   "source": [
    "family_sp_dict = {\n",
    "    sp_name: set(family_df[sp_name][family_df[sp_name] != \"-\"].index.to_list())\n",
    "    for sp_name in family_df.columns\n",
    "}"
   ]
  },
  {
   "cell_type": "code",
   "execution_count": 13,
   "metadata": {},
   "outputs": [],
   "source": [
    "result = list()\n",
    "for prottype_str in predict_result_binary_df.columns:\n",
    "    prottype_str\n",
    "    pred_pos_uid = set(predict_result_binary_df[predict_result_binary_df[prottype_str] == 1].index.to_list())\n",
    "\n",
    "    for sp_name in ordered_col_name:\n",
    "        if sp_name == '1121':\n",
    "            sp_name = 1121\n",
    "        result.append([prottype_str, f\"{prottype_str}SP\" ,sp_name, len(family_sp_dict[sp_name] & pred_pos_uid)])\n",
    "        # result.append([prottype_str, f\"non-{prottype_str}SP\" ,sp_name, len(family_sp_dict[sp_name] - pred_pos_uid)])"
   ]
  },
  {
   "cell_type": "code",
   "execution_count": 14,
   "metadata": {},
   "outputs": [],
   "source": [
    "pd.DataFrame(result, columns=[\n",
    "    \"ProtType\", \"Type\", \"Strain\", \"Count\"\n",
    "]).to_csv(\"out/libfeatureselection/Part6.Application/out/data/Strain_sp_col.csv\", index=False)"
   ]
  },
  {
   "attachments": {},
   "cell_type": "markdown",
   "metadata": {},
   "source": [
    "## FigC 热图绘制"
   ]
  },
  {
   "cell_type": "code",
   "execution_count": 31,
   "metadata": {},
   "outputs": [],
   "source": [
    "pred_pos_uid_list_all = {}\n",
    "for prottype_str in predict_result_binary_df.columns:\n",
    "    pred_pos_uid_list = predict_result_binary_df[predict_result_binary_df[prottype_str] == 1].index.to_list()\n",
    "    pred_pos_uid_list_all[prottype_str] = pd.DataFrame(\n",
    "        np.zeros(\n",
    "            (len(ordered_col_name), len(pred_pos_uid_list))\n",
    "        ),\n",
    "        index=ordered_col_name,\n",
    "        columns=pred_pos_uid_list,\n",
    "    )\n",
    "\n",
    "    for sp_name in ordered_col_name:\n",
    "        if sp_name == '1121':\n",
    "            sp_name = 1121\n",
    "        pred_pos_uid_list_all[prottype_str].loc[str(sp_name), list(family_sp_dict[sp_name] & set(pred_pos_uid_list))] = 1\n",
    "        # result.append([prottype_str, f\"non-{prottype_str}SP\" ,sp_name, len(family_sp_dict[sp_name] - pred_pos_uid)])\n",
    "\n",
    "    pred_pos_uid_list_all[prottype_str].to_csv(f\"out/libfeatureselection/Part6.Application/out/data/FigC/{prottype_str}.csv\")"
   ]
  },
  {
   "cell_type": "code",
   "execution_count": null,
   "metadata": {},
   "outputs": [],
   "source": []
  }
 ],
 "metadata": {
  "kernelspec": {
   "display_name": "TxSEml_Backend",
   "language": "python",
   "name": "python3"
  },
  "language_info": {
   "codemirror_mode": {
    "name": "ipython",
    "version": 3
   },
   "file_extension": ".py",
   "mimetype": "text/x-python",
   "name": "python",
   "nbconvert_exporter": "python",
   "pygments_lexer": "ipython3",
   "version": "3.10.12"
  },
  "orig_nbformat": 4
 },
 "nbformat": 4,
 "nbformat_minor": 2
}

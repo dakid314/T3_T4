{
 "cells": [
  {
   "cell_type": "code",
   "execution_count": 2,
   "metadata": {},
   "outputs": [],
   "source": [
    "import sys\n",
    "sys.path.append(r'/mnt/md0/Public/T3_T4/txseml_addon/src')\n",
    "import os\n",
    "import json\n",
    "\n",
    "import libpybiofeature\n",
    "\n",
    "import utils\n",
    "work_Dir = utils.workdir.workdir(os.getcwd(), 4)\n",
    "\n",
    "import numpy as np\n",
    "import pandas as pd\n",
    "from Bio import SeqIO\n"
   ]
  },
  {
   "cell_type": "code",
   "execution_count": 3,
   "metadata": {},
   "outputs": [],
   "source": [
    "def load_AAC_feature(TxSE_args: dict):\n",
    "\n",
    "    # AAC\n",
    "    AAC_feature = {\n",
    "        \"name\": \"AAC\",\n",
    "        \"p\": libpybiofeature.featurebuilder.build_acc_feature(\n",
    "            path_to_fasta=TxSE_args['fasta']['p'],\n",
    "            seq_id_list=[ seq.id for seq in SeqIO.parse(TxSE_args['fasta']['p'], \"fasta\") ],\n",
    "            desc='p'\n",
    "        ),\n",
    "        \"n\": libpybiofeature.featurebuilder.build_acc_feature(\n",
    "            path_to_fasta=TxSE_args['fasta']['n'],\n",
    "            seq_id_list=[ seq.id for seq in SeqIO.parse(TxSE_args['fasta']['n'], \"fasta\") ],\n",
    "            desc='n'\n",
    "        ),\n",
    "    }\n",
    "\n",
    "    print(AAC_feature['n'].shape[0], AAC_feature['p'].shape[0])\n",
    "\n",
    "    return AAC_feature"
   ]
  },
  {
   "cell_type": "code",
   "execution_count": 4,
   "metadata": {},
   "outputs": [],
   "source": [
    "def load_DPC_feature(TxSE_args: dict):\n",
    "\n",
    "    # DPC\n",
    "    DAC_feature = {\n",
    "        \"name\": \"DAC\",\n",
    "        \"p\": libpybiofeature.featurebuilder.build_dac_feature(\n",
    "            path_to_fasta=TxSE_args['fasta']['p'],\n",
    "            seq_id_list=[ seq.id for seq in SeqIO.parse(TxSE_args['fasta']['p'], \"fasta\") ],\n",
    "            desc='p'\n",
    "        ),\n",
    "        \"n\": libpybiofeature.featurebuilder.build_dac_feature(\n",
    "            path_to_fasta=TxSE_args['fasta']['n'],\n",
    "            seq_id_list=[ seq.id for seq in SeqIO.parse(TxSE_args['fasta']['n'], \"fasta\") ],\n",
    "            desc='n'\n",
    "        ),\n",
    "    }\n",
    "\n",
    "    print(DAC_feature['n'].shape[0], DAC_feature['p'].shape[0])\n",
    "\n",
    "    return DAC_feature"
   ]
  },
  {
   "cell_type": "code",
   "execution_count": 8,
   "metadata": {},
   "outputs": [
    {
     "name": "stderr",
     "output_type": "stream",
     "text": [
      "p_AAC: 100%|██████████| 236/236 [00:00<00:00, 98650.16it/s]\n"
     ]
    },
    {
     "ename": "FileNotFoundError",
     "evalue": "[Errno 2] No such file or directory: '/mnt/md0/Public/T3_T4/data/30/0/all_nT3_30_1_1.fasta'",
     "output_type": "error",
     "traceback": [
      "\u001b[0;31m---------------------------------------------------------------------------\u001b[0m",
      "\u001b[0;31mFileNotFoundError\u001b[0m                         Traceback (most recent call last)",
      "\u001b[1;32m/mnt/md0/Public/T3_T4/txseml_addon/src/libfeatureselection/cx_try.ipynb 单元格 4\u001b[0m line \u001b[0;36m1\n\u001b[1;32m      <a href='vscode-notebook-cell://ssh-remote%2B7b22686f73744e616d65223a2241374c41422d4a756d70227d/mnt/md0/Public/T3_T4/txseml_addon/src/libfeatureselection/cx_try.ipynb#W3sdnNjb2RlLXJlbW90ZQ%3D%3D?line=2'>3</a>\u001b[0m Tx_arg_aac \u001b[39m=\u001b[39m {\n\u001b[1;32m      <a href='vscode-notebook-cell://ssh-remote%2B7b22686f73744e616d65223a2241374c41422d4a756d70227d/mnt/md0/Public/T3_T4/txseml_addon/src/libfeatureselection/cx_try.ipynb#W3sdnNjb2RlLXJlbW90ZQ%3D%3D?line=3'>4</a>\u001b[0m     \u001b[39m\"\u001b[39m\u001b[39mtype\u001b[39m\u001b[39m\"\u001b[39m: \u001b[39mf\u001b[39m\u001b[39m'\u001b[39m\u001b[39mT\u001b[39m\u001b[39m{\u001b[39;00mprot_type\u001b[39m}\u001b[39;00m\u001b[39m'\u001b[39m,\n\u001b[1;32m      <a href='vscode-notebook-cell://ssh-remote%2B7b22686f73744e616d65223a2241374c41422d4a756d70227d/mnt/md0/Public/T3_T4/txseml_addon/src/libfeatureselection/cx_try.ipynb#W3sdnNjb2RlLXJlbW90ZQ%3D%3D?line=4'>5</a>\u001b[0m     \u001b[39m'\u001b[39m\u001b[39mfasta\u001b[39m\u001b[39m'\u001b[39m: {\n\u001b[0;32m   (...)\u001b[0m\n\u001b[1;32m      <a href='vscode-notebook-cell://ssh-remote%2B7b22686f73744e616d65223a2241374c41422d4a756d70227d/mnt/md0/Public/T3_T4/txseml_addon/src/libfeatureselection/cx_try.ipynb#W3sdnNjb2RlLXJlbW90ZQ%3D%3D?line=8'>9</a>\u001b[0m     },\n\u001b[1;32m     <a href='vscode-notebook-cell://ssh-remote%2B7b22686f73744e616d65223a2241374c41422d4a756d70227d/mnt/md0/Public/T3_T4/txseml_addon/src/libfeatureselection/cx_try.ipynb#W3sdnNjb2RlLXJlbW90ZQ%3D%3D?line=9'>10</a>\u001b[0m }\n\u001b[1;32m     <a href='vscode-notebook-cell://ssh-remote%2B7b22686f73744e616d65223a2241374c41422d4a756d70227d/mnt/md0/Public/T3_T4/txseml_addon/src/libfeatureselection/cx_try.ipynb#W3sdnNjb2RlLXJlbW90ZQ%3D%3D?line=10'>11</a>\u001b[0m save_dir \u001b[39m=\u001b[39m \u001b[39mr\u001b[39m\u001b[39m\"\u001b[39m\u001b[39m/mnt/md0/Public/T3_T4/txseml_addon/new_out/aac\u001b[39m\u001b[39m\"\u001b[39m\n\u001b[0;32m---> <a href='vscode-notebook-cell://ssh-remote%2B7b22686f73744e616d65223a2241374c41422d4a756d70227d/mnt/md0/Public/T3_T4/txseml_addon/src/libfeatureselection/cx_try.ipynb#W3sdnNjb2RlLXJlbW90ZQ%3D%3D?line=11'>12</a>\u001b[0m aac_data \u001b[39m=\u001b[39m load_AAC_feature(\n\u001b[1;32m     <a href='vscode-notebook-cell://ssh-remote%2B7b22686f73744e616d65223a2241374c41422d4a756d70227d/mnt/md0/Public/T3_T4/txseml_addon/src/libfeatureselection/cx_try.ipynb#W3sdnNjb2RlLXJlbW90ZQ%3D%3D?line=12'>13</a>\u001b[0m     TxSE_args\u001b[39m=\u001b[39;49mTx_arg_aac\n\u001b[1;32m     <a href='vscode-notebook-cell://ssh-remote%2B7b22686f73744e616d65223a2241374c41422d4a756d70227d/mnt/md0/Public/T3_T4/txseml_addon/src/libfeatureselection/cx_try.ipynb#W3sdnNjb2RlLXJlbW90ZQ%3D%3D?line=13'>14</a>\u001b[0m )\n",
      "\u001b[1;32m/mnt/md0/Public/T3_T4/txseml_addon/src/libfeatureselection/cx_try.ipynb 单元格 4\u001b[0m line \u001b[0;36m1\n\u001b[1;32m      <a href='vscode-notebook-cell://ssh-remote%2B7b22686f73744e616d65223a2241374c41422d4a756d70227d/mnt/md0/Public/T3_T4/txseml_addon/src/libfeatureselection/cx_try.ipynb#W3sdnNjb2RlLXJlbW90ZQ%3D%3D?line=0'>1</a>\u001b[0m \u001b[39mdef\u001b[39;00m \u001b[39mload_AAC_feature\u001b[39m(TxSE_args: \u001b[39mdict\u001b[39m):\n\u001b[1;32m      <a href='vscode-notebook-cell://ssh-remote%2B7b22686f73744e616d65223a2241374c41422d4a756d70227d/mnt/md0/Public/T3_T4/txseml_addon/src/libfeatureselection/cx_try.ipynb#W3sdnNjb2RlLXJlbW90ZQ%3D%3D?line=1'>2</a>\u001b[0m \n\u001b[1;32m      <a href='vscode-notebook-cell://ssh-remote%2B7b22686f73744e616d65223a2241374c41422d4a756d70227d/mnt/md0/Public/T3_T4/txseml_addon/src/libfeatureselection/cx_try.ipynb#W3sdnNjb2RlLXJlbW90ZQ%3D%3D?line=2'>3</a>\u001b[0m     \u001b[39m# AAC\u001b[39;00m\n\u001b[1;32m      <a href='vscode-notebook-cell://ssh-remote%2B7b22686f73744e616d65223a2241374c41422d4a756d70227d/mnt/md0/Public/T3_T4/txseml_addon/src/libfeatureselection/cx_try.ipynb#W3sdnNjb2RlLXJlbW90ZQ%3D%3D?line=3'>4</a>\u001b[0m     AAC_feature \u001b[39m=\u001b[39m {\n\u001b[1;32m      <a href='vscode-notebook-cell://ssh-remote%2B7b22686f73744e616d65223a2241374c41422d4a756d70227d/mnt/md0/Public/T3_T4/txseml_addon/src/libfeatureselection/cx_try.ipynb#W3sdnNjb2RlLXJlbW90ZQ%3D%3D?line=4'>5</a>\u001b[0m         \u001b[39m\"\u001b[39m\u001b[39mname\u001b[39m\u001b[39m\"\u001b[39m: \u001b[39m\"\u001b[39m\u001b[39mAAC\u001b[39m\u001b[39m\"\u001b[39m,\n\u001b[1;32m      <a href='vscode-notebook-cell://ssh-remote%2B7b22686f73744e616d65223a2241374c41422d4a756d70227d/mnt/md0/Public/T3_T4/txseml_addon/src/libfeatureselection/cx_try.ipynb#W3sdnNjb2RlLXJlbW90ZQ%3D%3D?line=5'>6</a>\u001b[0m         \u001b[39m\"\u001b[39m\u001b[39mp\u001b[39m\u001b[39m\"\u001b[39m: libpybiofeature\u001b[39m.\u001b[39mfeaturebuilder\u001b[39m.\u001b[39mbuild_acc_feature(\n\u001b[1;32m      <a href='vscode-notebook-cell://ssh-remote%2B7b22686f73744e616d65223a2241374c41422d4a756d70227d/mnt/md0/Public/T3_T4/txseml_addon/src/libfeatureselection/cx_try.ipynb#W3sdnNjb2RlLXJlbW90ZQ%3D%3D?line=6'>7</a>\u001b[0m             path_to_fasta\u001b[39m=\u001b[39mTxSE_args[\u001b[39m'\u001b[39m\u001b[39mfasta\u001b[39m\u001b[39m'\u001b[39m][\u001b[39m'\u001b[39m\u001b[39mp\u001b[39m\u001b[39m'\u001b[39m],\n\u001b[1;32m      <a href='vscode-notebook-cell://ssh-remote%2B7b22686f73744e616d65223a2241374c41422d4a756d70227d/mnt/md0/Public/T3_T4/txseml_addon/src/libfeatureselection/cx_try.ipynb#W3sdnNjb2RlLXJlbW90ZQ%3D%3D?line=7'>8</a>\u001b[0m             seq_id_list\u001b[39m=\u001b[39m[ seq\u001b[39m.\u001b[39mid \u001b[39mfor\u001b[39;00m seq \u001b[39min\u001b[39;00m SeqIO\u001b[39m.\u001b[39mparse(TxSE_args[\u001b[39m'\u001b[39m\u001b[39mfasta\u001b[39m\u001b[39m'\u001b[39m][\u001b[39m'\u001b[39m\u001b[39mp\u001b[39m\u001b[39m'\u001b[39m], \u001b[39m\"\u001b[39m\u001b[39mfasta\u001b[39m\u001b[39m\"\u001b[39m) ],\n\u001b[1;32m      <a href='vscode-notebook-cell://ssh-remote%2B7b22686f73744e616d65223a2241374c41422d4a756d70227d/mnt/md0/Public/T3_T4/txseml_addon/src/libfeatureselection/cx_try.ipynb#W3sdnNjb2RlLXJlbW90ZQ%3D%3D?line=8'>9</a>\u001b[0m             desc\u001b[39m=\u001b[39m\u001b[39m'\u001b[39m\u001b[39mp\u001b[39m\u001b[39m'\u001b[39m\n\u001b[1;32m     <a href='vscode-notebook-cell://ssh-remote%2B7b22686f73744e616d65223a2241374c41422d4a756d70227d/mnt/md0/Public/T3_T4/txseml_addon/src/libfeatureselection/cx_try.ipynb#W3sdnNjb2RlLXJlbW90ZQ%3D%3D?line=9'>10</a>\u001b[0m         ),\n\u001b[1;32m     <a href='vscode-notebook-cell://ssh-remote%2B7b22686f73744e616d65223a2241374c41422d4a756d70227d/mnt/md0/Public/T3_T4/txseml_addon/src/libfeatureselection/cx_try.ipynb#W3sdnNjb2RlLXJlbW90ZQ%3D%3D?line=10'>11</a>\u001b[0m         \u001b[39m\"\u001b[39m\u001b[39mn\u001b[39m\u001b[39m\"\u001b[39m: libpybiofeature\u001b[39m.\u001b[39mfeaturebuilder\u001b[39m.\u001b[39mbuild_acc_feature(\n\u001b[1;32m     <a href='vscode-notebook-cell://ssh-remote%2B7b22686f73744e616d65223a2241374c41422d4a756d70227d/mnt/md0/Public/T3_T4/txseml_addon/src/libfeatureselection/cx_try.ipynb#W3sdnNjb2RlLXJlbW90ZQ%3D%3D?line=11'>12</a>\u001b[0m             path_to_fasta\u001b[39m=\u001b[39mTxSE_args[\u001b[39m'\u001b[39m\u001b[39mfasta\u001b[39m\u001b[39m'\u001b[39m][\u001b[39m'\u001b[39m\u001b[39mn\u001b[39m\u001b[39m'\u001b[39m],\n\u001b[0;32m---> <a href='vscode-notebook-cell://ssh-remote%2B7b22686f73744e616d65223a2241374c41422d4a756d70227d/mnt/md0/Public/T3_T4/txseml_addon/src/libfeatureselection/cx_try.ipynb#W3sdnNjb2RlLXJlbW90ZQ%3D%3D?line=12'>13</a>\u001b[0m             seq_id_list\u001b[39m=\u001b[39m[ seq\u001b[39m.\u001b[39mid \u001b[39mfor\u001b[39;00m seq \u001b[39min\u001b[39;00m SeqIO\u001b[39m.\u001b[39;49mparse(TxSE_args[\u001b[39m'\u001b[39;49m\u001b[39mfasta\u001b[39;49m\u001b[39m'\u001b[39;49m][\u001b[39m'\u001b[39;49m\u001b[39mn\u001b[39;49m\u001b[39m'\u001b[39;49m], \u001b[39m\"\u001b[39;49m\u001b[39mfasta\u001b[39;49m\u001b[39m\"\u001b[39;49m) ],\n\u001b[1;32m     <a href='vscode-notebook-cell://ssh-remote%2B7b22686f73744e616d65223a2241374c41422d4a756d70227d/mnt/md0/Public/T3_T4/txseml_addon/src/libfeatureselection/cx_try.ipynb#W3sdnNjb2RlLXJlbW90ZQ%3D%3D?line=13'>14</a>\u001b[0m             desc\u001b[39m=\u001b[39m\u001b[39m'\u001b[39m\u001b[39mn\u001b[39m\u001b[39m'\u001b[39m\n\u001b[1;32m     <a href='vscode-notebook-cell://ssh-remote%2B7b22686f73744e616d65223a2241374c41422d4a756d70227d/mnt/md0/Public/T3_T4/txseml_addon/src/libfeatureselection/cx_try.ipynb#W3sdnNjb2RlLXJlbW90ZQ%3D%3D?line=14'>15</a>\u001b[0m         ),\n\u001b[1;32m     <a href='vscode-notebook-cell://ssh-remote%2B7b22686f73744e616d65223a2241374c41422d4a756d70227d/mnt/md0/Public/T3_T4/txseml_addon/src/libfeatureselection/cx_try.ipynb#W3sdnNjb2RlLXJlbW90ZQ%3D%3D?line=15'>16</a>\u001b[0m     }\n\u001b[1;32m     <a href='vscode-notebook-cell://ssh-remote%2B7b22686f73744e616d65223a2241374c41422d4a756d70227d/mnt/md0/Public/T3_T4/txseml_addon/src/libfeatureselection/cx_try.ipynb#W3sdnNjb2RlLXJlbW90ZQ%3D%3D?line=17'>18</a>\u001b[0m     \u001b[39mprint\u001b[39m(AAC_feature[\u001b[39m'\u001b[39m\u001b[39mn\u001b[39m\u001b[39m'\u001b[39m]\u001b[39m.\u001b[39mshape[\u001b[39m0\u001b[39m], AAC_feature[\u001b[39m'\u001b[39m\u001b[39mp\u001b[39m\u001b[39m'\u001b[39m]\u001b[39m.\u001b[39mshape[\u001b[39m0\u001b[39m])\n\u001b[1;32m     <a href='vscode-notebook-cell://ssh-remote%2B7b22686f73744e616d65223a2241374c41422d4a756d70227d/mnt/md0/Public/T3_T4/txseml_addon/src/libfeatureselection/cx_try.ipynb#W3sdnNjb2RlLXJlbW90ZQ%3D%3D?line=19'>20</a>\u001b[0m     \u001b[39mreturn\u001b[39;00m AAC_feature\n",
      "File \u001b[0;32m~/miniconda3/envs/caoxin_env2/lib/python3.9/site-packages/Bio/SeqIO/__init__.py:607\u001b[0m, in \u001b[0;36mparse\u001b[0;34m(handle, format, alphabet)\u001b[0m\n\u001b[1;32m    605\u001b[0m iterator_generator \u001b[39m=\u001b[39m _FormatToIterator\u001b[39m.\u001b[39mget(\u001b[39mformat\u001b[39m)\n\u001b[1;32m    606\u001b[0m \u001b[39mif\u001b[39;00m iterator_generator:\n\u001b[0;32m--> 607\u001b[0m     \u001b[39mreturn\u001b[39;00m iterator_generator(handle)\n\u001b[1;32m    608\u001b[0m \u001b[39mif\u001b[39;00m \u001b[39mformat\u001b[39m \u001b[39min\u001b[39;00m AlignIO\u001b[39m.\u001b[39m_FormatToIterator:\n\u001b[1;32m    609\u001b[0m     \u001b[39m# Use Bio.AlignIO to read in the alignments\u001b[39;00m\n\u001b[1;32m    610\u001b[0m     \u001b[39mreturn\u001b[39;00m (r \u001b[39mfor\u001b[39;00m alignment \u001b[39min\u001b[39;00m AlignIO\u001b[39m.\u001b[39mparse(handle, \u001b[39mformat\u001b[39m) \u001b[39mfor\u001b[39;00m r \u001b[39min\u001b[39;00m alignment)\n",
      "File \u001b[0;32m~/miniconda3/envs/caoxin_env2/lib/python3.9/site-packages/Bio/SeqIO/FastaIO.py:183\u001b[0m, in \u001b[0;36mFastaIterator.__init__\u001b[0;34m(self, source, alphabet, title2ids)\u001b[0m\n\u001b[1;32m    181\u001b[0m     \u001b[39mraise\u001b[39;00m \u001b[39mValueError\u001b[39;00m(\u001b[39m\"\u001b[39m\u001b[39mThe alphabet argument is no longer supported\u001b[39m\u001b[39m\"\u001b[39m)\n\u001b[1;32m    182\u001b[0m \u001b[39mself\u001b[39m\u001b[39m.\u001b[39mtitle2ids \u001b[39m=\u001b[39m title2ids\n\u001b[0;32m--> 183\u001b[0m \u001b[39msuper\u001b[39;49m()\u001b[39m.\u001b[39;49m\u001b[39m__init__\u001b[39;49m(source, mode\u001b[39m=\u001b[39;49m\u001b[39m\"\u001b[39;49m\u001b[39mt\u001b[39;49m\u001b[39m\"\u001b[39;49m, fmt\u001b[39m=\u001b[39;49m\u001b[39m\"\u001b[39;49m\u001b[39mFasta\u001b[39;49m\u001b[39m\"\u001b[39;49m)\n",
      "File \u001b[0;32m~/miniconda3/envs/caoxin_env2/lib/python3.9/site-packages/Bio/SeqIO/Interfaces.py:47\u001b[0m, in \u001b[0;36mSequenceIterator.__init__\u001b[0;34m(self, source, alphabet, mode, fmt)\u001b[0m\n\u001b[1;32m     45\u001b[0m     \u001b[39mraise\u001b[39;00m \u001b[39mValueError\u001b[39;00m(\u001b[39m\"\u001b[39m\u001b[39mThe alphabet argument is no longer supported\u001b[39m\u001b[39m\"\u001b[39m)\n\u001b[1;32m     46\u001b[0m \u001b[39mtry\u001b[39;00m:\n\u001b[0;32m---> 47\u001b[0m     \u001b[39mself\u001b[39m\u001b[39m.\u001b[39mstream \u001b[39m=\u001b[39m \u001b[39mopen\u001b[39;49m(source, \u001b[39m\"\u001b[39;49m\u001b[39mr\u001b[39;49m\u001b[39m\"\u001b[39;49m \u001b[39m+\u001b[39;49m mode)\n\u001b[1;32m     48\u001b[0m     \u001b[39mself\u001b[39m\u001b[39m.\u001b[39mshould_close_stream \u001b[39m=\u001b[39m \u001b[39mTrue\u001b[39;00m\n\u001b[1;32m     49\u001b[0m \u001b[39mexcept\u001b[39;00m \u001b[39mTypeError\u001b[39;00m:  \u001b[39m# not a path, assume we received a stream\u001b[39;00m\n",
      "\u001b[0;31mFileNotFoundError\u001b[0m: [Errno 2] No such file or directory: '/mnt/md0/Public/T3_T4/data/30/0/all_nT3_30_1_1.fasta'"
     ]
    }
   ],
   "source": [
    "prot_type = 3\n",
    "cter_bool = False\n",
    "Tx_arg_aac = {\n",
    "    \"type\": f'T{prot_type}',\n",
    "    'fasta': {\n",
    "        'cter': cter_bool,\n",
    "        'p': r\"/mnt/md0/Public/T3_T4/data/pos/T3_training_30.fasta\",\n",
    "        'n': r\"/mnt/md0/Public/T3_T4/data/30/0/all_nT3_30_1_1.fasta\"\n",
    "    },\n",
    "}\n",
    "save_dir = r\"/mnt/md0/Public/T3_T4/txseml_addon/new_out/aac\"\n",
    "aac_data = load_AAC_feature(\n",
    "    TxSE_args=Tx_arg_aac\n",
    ")"
   ]
  },
  {
   "cell_type": "code",
   "execution_count": null,
   "metadata": {},
   "outputs": [],
   "source": [
    "prot_type = 3\n",
    "cter_bool = False\n",
    "Tx_arg_dpc = {\n",
    "    \"type\": f'T{prot_type}',\n",
    "    'fasta': {\n",
    "        'cter': cter_bool,\n",
    "        'p': \"/mnt/md0/Public/T3_T4/data/pos/T3_training_30.fasta\",\n",
    "        'n': \"/mnt/md0/Public/T3_T4/data/30/0/all_nT3_30_1_1.fasta\"\n",
    "    },\n",
    "}\n",
    "save_dir = \"/mnt/md0/Public/T3_T4/txseml_addon/new_out/dpc\"\n",
    "dpc_data = load_DPC_feature(\n",
    "    TxSE_args=Tx_arg_dpc\n",
    ")\n"
   ]
  }
 ],
 "metadata": {
  "kernelspec": {
   "display_name": "caoxin_env2",
   "language": "python",
   "name": "python3"
  },
  "language_info": {
   "codemirror_mode": {
    "name": "ipython",
    "version": 3
   },
   "file_extension": ".py",
   "mimetype": "text/x-python",
   "name": "python",
   "nbconvert_exporter": "python",
   "pygments_lexer": "ipython3",
   "version": "3.9.18"
  },
  "orig_nbformat": 4
 },
 "nbformat": 4,
 "nbformat_minor": 2
}

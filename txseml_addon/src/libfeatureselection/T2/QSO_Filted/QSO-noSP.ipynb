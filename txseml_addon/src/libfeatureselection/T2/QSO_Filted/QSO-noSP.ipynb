{
 "cells": [
  {
   "attachments": {},
   "cell_type": "markdown",
   "metadata": {},
   "source": [
    "# QSO 在RTX亚型中问题"
   ]
  },
  {
   "attachments": {},
   "cell_type": "markdown",
   "metadata": {},
   "source": [
    "## 开始干正事：画图"
   ]
  },
  {
   "cell_type": "code",
   "execution_count": 1,
   "metadata": {},
   "outputs": [],
   "source": [
    "import sys\n",
    "sys.path.append(\"src\")\n",
    "import os\n",
    "import json\n",
    "\n",
    "import libpybiofeature\n",
    "\n",
    "import utils\n",
    "work_Dir = utils.workdir.workdir(os.getcwd(), 4)\n",
    "\n",
    "import numpy as np\n",
    "import pandas as pd\n",
    "\n",
    "from Bio import SeqIO, Seq\n",
    "\n",
    "random_seed = 42\n",
    "np.random.seed(random_seed)"
   ]
  },
  {
   "cell_type": "code",
   "execution_count": 2,
   "metadata": {},
   "outputs": [],
   "source": [
    "def load_QSO_feature(TxSE_args: dict):\n",
    "\n",
    "    # QSO\n",
    "    QSO_feature = {\n",
    "        \"name\": \"QSO\",\n",
    "        \"p\": libpybiofeature.featurebuilder.build_qso_feature(\n",
    "            path_to_fasta=TxSE_args['fasta']['p'],\n",
    "            seq_id_list=[ seq.id for seq in SeqIO.parse(TxSE_args['fasta']['p'], \"fasta\") ],\n",
    "            desc='p',\n",
    "            cter=TxSE_args['fasta']['cter']\n",
    "        ),\n",
    "        \"n\": libpybiofeature.featurebuilder.build_qso_feature(\n",
    "            path_to_fasta=TxSE_args['fasta']['n'],\n",
    "            seq_id_list=[ seq.id for seq in SeqIO.parse(TxSE_args['fasta']['n'], \"fasta\") ],\n",
    "            desc='n',\n",
    "            cter=TxSE_args['fasta']['cter']\n",
    "        ),\n",
    "    }\n",
    "\n",
    "    print(QSO_feature['n'].shape[0], QSO_feature['p'].shape[0])\n",
    "\n",
    "    return QSO_feature"
   ]
  },
  {
   "cell_type": "code",
   "execution_count": 3,
   "metadata": {},
   "outputs": [],
   "source": [
    "prot_type = 2\n",
    "cter_bool = False\n",
    "Tx_arg = {\n",
    "    \"type\": f'T{prot_type}',\n",
    "    'fasta': {\n",
    "        'cter': cter_bool,\n",
    "        'p': \"data/T2SE/nospT2SE.fasta\",\n",
    "        'n': \"data/T2SE/nosp_paired_non_t2se.fasta\"\n",
    "    },\n",
    "}\n",
    "save_dir = \"out/libfeatureselection/Second_feature_research/qso_filted/nosp\"\n",
    "os.makedirs(save_dir, exist_ok=True)"
   ]
  },
  {
   "cell_type": "code",
   "execution_count": 4,
   "metadata": {},
   "outputs": [
    {
     "name": "stderr",
     "output_type": "stream",
     "text": [
      "p_QSO: 100%|██████████| 11/11 [00:00<00:00, 76.50it/s]\n",
      "n_QSO: 100%|██████████| 11/11 [00:00<00:00, 122.15it/s]"
     ]
    },
    {
     "name": "stdout",
     "output_type": "stream",
     "text": [
      "11 11\n"
     ]
    },
    {
     "name": "stderr",
     "output_type": "stream",
     "text": [
      "\n"
     ]
    }
   ],
   "source": [
    "qso_data = load_QSO_feature(\n",
    "    TxSE_args=Tx_arg\n",
    ")\n",
    "columns_type = list(qso_data['p'].columns)"
   ]
  },
  {
   "cell_type": "code",
   "execution_count": 5,
   "metadata": {},
   "outputs": [],
   "source": [
    "import matplotlib as mpl\n",
    "\n",
    "mpl.rcParams['pdf.fonttype'] = 42\n",
    "mpl.rcParams['ps.fonttype'] = 42\n",
    "mpl.rcParams['svg.fonttype'] = 'none'\n",
    "mpl.rcParams['pdf.use14corefonts'] = False\n",
    "# mpl.rcParams['pdf.usecorefonts'] = True\n",
    "mpl.rcParams['pdf.compression'] = 9\n",
    "\n",
    "import matplotlib.pyplot as plt\n",
    "import scienceplots\n",
    "\n",
    "plt.style.use(['science', 'nature'])\n",
    "\n",
    "from matplotlib.ticker import MaxNLocator\n",
    "from matplotlib.gridspec import GridSpec\n",
    "\n",
    "import seaborn as sns"
   ]
  },
  {
   "cell_type": "code",
   "execution_count": 10,
   "metadata": {},
   "outputs": [],
   "source": [
    "qso_data_transformed = pd.concat([qso_data['p'], qso_data['n']], keys=['no_SP', 'non-T2SP']).reset_index(level=0).rename({\n",
    "    \"level_0\": \"Type\"\n",
    "}, axis=1, inplace=False).melt(id_vars=\"Type\", value_vars=columns_type, ignore_index=False).rename({\n",
    "    \"variable\": \"Columns\",\n",
    "    \"value\": \"QSO\"\n",
    "}, axis=1, inplace=False)\n",
    "qso_data_transformed['Columns'] = qso_data_transformed['Columns'].str.replace(r'Schneider', 'S', regex=True).replace(r'Grantham', 'G', regex=True)"
   ]
  },
  {
   "cell_type": "code",
   "execution_count": 11,
   "metadata": {},
   "outputs": [
    {
     "data": {
      "text/html": [
       "<div>\n",
       "<style scoped>\n",
       "    .dataframe tbody tr th:only-of-type {\n",
       "        vertical-align: middle;\n",
       "    }\n",
       "\n",
       "    .dataframe tbody tr th {\n",
       "        vertical-align: top;\n",
       "    }\n",
       "\n",
       "    .dataframe thead th {\n",
       "        text-align: right;\n",
       "    }\n",
       "</style>\n",
       "<table border=\"1\" class=\"dataframe\">\n",
       "  <thead>\n",
       "    <tr style=\"text-align: right;\">\n",
       "      <th></th>\n",
       "      <th>Type</th>\n",
       "      <th>Columns</th>\n",
       "      <th>QSO</th>\n",
       "    </tr>\n",
       "  </thead>\n",
       "  <tbody>\n",
       "    <tr>\n",
       "      <th>CAA77606.1</th>\n",
       "      <td>no_SP</td>\n",
       "      <td>S.Xr.A</td>\n",
       "      <td>0.117829</td>\n",
       "    </tr>\n",
       "    <tr>\n",
       "      <th>CAG68016.1</th>\n",
       "      <td>no_SP</td>\n",
       "      <td>S.Xr.A</td>\n",
       "      <td>0.077196</td>\n",
       "    </tr>\n",
       "    <tr>\n",
       "      <th>AAF96061.1</th>\n",
       "      <td>no_SP</td>\n",
       "      <td>S.Xr.A</td>\n",
       "      <td>0.056127</td>\n",
       "    </tr>\n",
       "    <tr>\n",
       "      <th>YP_620695.1</th>\n",
       "      <td>no_SP</td>\n",
       "      <td>S.Xr.A</td>\n",
       "      <td>0.130272</td>\n",
       "    </tr>\n",
       "    <tr>\n",
       "      <th>YP_441710.1</th>\n",
       "      <td>no_SP</td>\n",
       "      <td>S.Xr.A</td>\n",
       "      <td>0.176832</td>\n",
       "    </tr>\n",
       "    <tr>\n",
       "      <th>...</th>\n",
       "      <td>...</td>\n",
       "      <td>...</td>\n",
       "      <td>...</td>\n",
       "    </tr>\n",
       "    <tr>\n",
       "      <th>lcl|NC_007645.1_prot_WP_011394659.1_622</th>\n",
       "      <td>non-T2SP</td>\n",
       "      <td>G.Xd.30</td>\n",
       "      <td>0.030307</td>\n",
       "    </tr>\n",
       "    <tr>\n",
       "      <th>lcl|NC_017731.1_prot_WP_014656537.1_929</th>\n",
       "      <td>non-T2SP</td>\n",
       "      <td>G.Xd.30</td>\n",
       "      <td>0.035374</td>\n",
       "    </tr>\n",
       "    <tr>\n",
       "      <th>lcl|NC_007712.1_prot_309</th>\n",
       "      <td>non-T2SP</td>\n",
       "      <td>G.Xd.30</td>\n",
       "      <td>0.032922</td>\n",
       "    </tr>\n",
       "    <tr>\n",
       "      <th>lcl|NC_002516.2_prot_NP_250303.1_1613</th>\n",
       "      <td>non-T2SP</td>\n",
       "      <td>G.Xd.30</td>\n",
       "      <td>0.031509</td>\n",
       "    </tr>\n",
       "    <tr>\n",
       "      <th>lcl|NC_005861.1_prot_WP_011176540.1_1901</th>\n",
       "      <td>non-T2SP</td>\n",
       "      <td>G.Xd.30</td>\n",
       "      <td>0.032281</td>\n",
       "    </tr>\n",
       "  </tbody>\n",
       "</table>\n",
       "<p>2200 rows × 3 columns</p>\n",
       "</div>"
      ],
      "text/plain": [
       "                                              Type  Columns       QSO\n",
       "CAA77606.1                                   no_SP   S.Xr.A  0.117829\n",
       "CAG68016.1                                   no_SP   S.Xr.A  0.077196\n",
       "AAF96061.1                                   no_SP   S.Xr.A  0.056127\n",
       "YP_620695.1                                  no_SP   S.Xr.A  0.130272\n",
       "YP_441710.1                                  no_SP   S.Xr.A  0.176832\n",
       "...                                            ...      ...       ...\n",
       "lcl|NC_007645.1_prot_WP_011394659.1_622   non-T2SP  G.Xd.30  0.030307\n",
       "lcl|NC_017731.1_prot_WP_014656537.1_929   non-T2SP  G.Xd.30  0.035374\n",
       "lcl|NC_007712.1_prot_309                  non-T2SP  G.Xd.30  0.032922\n",
       "lcl|NC_002516.2_prot_NP_250303.1_1613     non-T2SP  G.Xd.30  0.031509\n",
       "lcl|NC_005861.1_prot_WP_011176540.1_1901  non-T2SP  G.Xd.30  0.032281\n",
       "\n",
       "[2200 rows x 3 columns]"
      ]
     },
     "execution_count": 11,
     "metadata": {},
     "output_type": "execute_result"
    }
   ],
   "source": [
    "qso_data_transformed"
   ]
  },
  {
   "cell_type": "code",
   "execution_count": 12,
   "metadata": {},
   "outputs": [
    {
     "name": "stderr",
     "output_type": "stream",
     "text": [
      "/home/georgezhao/.pyvirtualenvs/TxSEml_Backend/lib/python3.10/site-packages/scipy/stats/_morestats.py:3145: UserWarning: Exact p-value calculation does not work if there are ties. Switching to normal approximation.\n",
      "  warnings.warn(\"Exact p-value calculation does not work if there are \"\n"
     ]
    }
   ],
   "source": [
    "def get_star(p:float):\n",
    "    if p <= 0.0001:\n",
    "        return \"****\"\n",
    "    elif p <= 0.001:\n",
    "        return \"***\"\n",
    "    elif p <= 0.01:\n",
    "        return \"**\"\n",
    "    elif p <= 0.05:\n",
    "        return \"*\"\n",
    "    else:\n",
    "        return \"\"\n",
    "from scipy.stats import wilcoxon\n",
    "grouped = qso_data_transformed.groupby(\"Columns\")\n",
    "wilcoxon_result = {}\n",
    "for name, group in grouped:\n",
    "    x = group[group['Type'] == 'no_SP']['QSO']\n",
    "    y = group[group['Type'] == 'non-T2SP']['QSO']\n",
    "    stat, p = wilcoxon(x, y)\n",
    "    wilcoxon_result[name] = {\n",
    "        \"statistic\": stat,\n",
    "        \"p-value\": p\n",
    "    }\n",
    "    # print(f'Type: {name}, Wilcoxon rank-sum statistic: {stat:.2f}, p-value: {p:.3f}')\n",
    "with open(f\"{save_dir}/wilcoxon_result.json\", \"w+\", encoding=\"UTF-8\") as f:\n",
    "    json.dump(wilcoxon_result, f)\n",
    "qso_data_transformed.to_csv(f\"{save_dir}/qso_data_transformed.csv\", index_label=\"Seq_ID\")"
   ]
  },
  {
   "cell_type": "code",
   "execution_count": 13,
   "metadata": {},
   "outputs": [],
   "source": [
    "p_values_series = pd.Series({\n",
    "    k:v['p-value'] for k, v in wilcoxon_result.items()\n",
    "}).to_frame().rename({0: \"p-value\"}, axis=1)\n",
    "qso_data_transformed = qso_data_transformed[qso_data_transformed['Columns'].isin(\n",
    "    p_values_series[p_values_series['p-value'] <= 0.05].index.to_list()\n",
    ")]"
   ]
  },
  {
   "cell_type": "code",
   "execution_count": 19,
   "metadata": {},
   "outputs": [
    {
     "data": {
      "image/png": "[encoded data removed]",
      "text/plain": [
       "<Figure size 190x250 with 1 Axes>"
      ]
     },
     "metadata": {},
     "output_type": "display_data"
    }
   ],
   "source": [
    "ncols = 4\n",
    "nrow = 4\n",
    "fig = plt.figure(\n",
    "    figsize=(1.9, 2.5)\n",
    ")\n",
    "ax1_Schneider = fig.add_subplot()\n",
    "\n",
    "# Schneider.Xr\n",
    "qso_data_transformed_Schneider = qso_data_transformed\n",
    "\n",
    "\n",
    "sns.violinplot(\n",
    "    data=qso_data_transformed_Schneider,\n",
    "    x=\"Columns\",\n",
    "    y=\"QSO\",\n",
    "    hue=\"Type\",\n",
    "    split=True,\n",
    "    linewidth=0.5,\n",
    "    palette=[\"#dd1940\", \"#1f4aec\"],\n",
    "    ax=ax1_Schneider\n",
    ")\n",
    "ax1_Schneider.set_ylim([qso_data_transformed_Schneider['QSO'].min() - 0.075, qso_data_transformed_Schneider['QSO'].max() + 0.1])\n",
    "ax_xticklabel_origin = ax1_Schneider.get_xticklabels()\n",
    "ax_xticklabel = [ item._text for item in ax_xticklabel_origin ]\n",
    "ax1_Schneider.tick_params(axis='x', length=2, top=False, rotation=90)\n",
    "ax1_Schneider.xaxis.set_minor_locator(mpl.ticker.AutoMinorLocator(1))\n",
    "ax1_Schneider.set_xlabel(\"\")\n",
    "\n",
    "for i, (violin_1, violin_2) in enumerate(zip(ax1_Schneider.collections[0::3], ax1_Schneider.collections[2::3])):\n",
    "    center = violin_1.get_paths()[0].vertices[:, 0].mean()\n",
    "    height = max(violin_1.get_paths()[0].vertices[:, 1].max(), violin_2.get_paths()[0].vertices[:, 1].max())\n",
    "    ax1_Schneider.text(i, height, get_star(\n",
    "        p = wilcoxon_result[ax_xticklabel[i]][\"p-value\"]\n",
    "    ), fontsize=12, color=\"#9b324c\", ha='center', va='center')\n",
    "\n",
    "# plt.title(\"AAC Training-Testing Wilcoxon Signed Ranks Test\")\n",
    "plt.savefig(f\"{save_dir}/diff.pdf\", transparent=True)\n",
    "plt.tight_layout()\n",
    "plt.show()"
   ]
  },
  {
   "cell_type": "code",
   "execution_count": null,
   "metadata": {},
   "outputs": [],
   "source": []
  }
 ],
 "metadata": {
  "kernelspec": {
   "display_name": "TxSEml_Backend",
   "language": "python",
   "name": "python3"
  },
  "language_info": {
   "codemirror_mode": {
    "name": "ipython",
    "version": 3
   },
   "file_extension": ".py",
   "mimetype": "text/x-python",
   "name": "python",
   "nbconvert_exporter": "python",
   "pygments_lexer": "ipython3",
   "version": "3.10.12"
  },
  "orig_nbformat": 4
 },
 "nbformat": 4,
 "nbformat_minor": 2
}

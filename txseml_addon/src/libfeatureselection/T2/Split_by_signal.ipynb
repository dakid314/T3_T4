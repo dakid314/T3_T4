{
 "cells": [
  {
   "attachments": {},
   "cell_type": "markdown",
   "metadata": {},
   "source": [
    "# 按信号肽的存在切割数据集"
   ]
  },
  {
   "cell_type": "code",
   "execution_count": 4,
   "metadata": {},
   "outputs": [],
   "source": [
    "t2se_data_path = \"data/T2SE/T2SE.fasta\"\n",
    "non_t2se_data_path = \"data/T2SE/noT2SE_GDB.fasta\"\n",
    "\n",
    "dataset_out_path = \"data/T2SE/\""
   ]
  },
  {
   "cell_type": "code",
   "execution_count": 45,
   "metadata": {},
   "outputs": [],
   "source": [
    "import json\n",
    "import pandas as pd\n",
    "import itertools\n",
    "\n",
    "import numpy as np\n",
    "random_seed = 42\n",
    "np.random.seed(random_seed)\n",
    "\n",
    "from Bio import SeqIO, SeqRecord, Seq"
   ]
  },
  {
   "cell_type": "code",
   "execution_count": 31,
   "metadata": {},
   "outputs": [],
   "source": [
    "t2se_data = list(SeqIO.parse(t2se_data_path, \"fasta\"))\n",
    "t2se_data_dict = {\n",
    "    seq.id: seq for seq in t2se_data\n",
    "}"
   ]
  },
  {
   "cell_type": "code",
   "execution_count": 21,
   "metadata": {},
   "outputs": [],
   "source": [
    "pred_result = pd.read_csv(\"data/T2SE/prediction_results.txt\", header=0, comment=\"#\", sep=\"\\t\")"
   ]
  },
  {
   "cell_type": "code",
   "execution_count": 30,
   "metadata": {},
   "outputs": [],
   "source": [
    "with_nosp = pred_result[pred_result['Prediction'] == \"OTHER\"]['ID'].to_list()\n",
    "with_sp = pred_result[pred_result['Prediction'] != \"OTHER\"]['ID'].to_list()"
   ]
  },
  {
   "attachments": {},
   "cell_type": "markdown",
   "metadata": {},
   "source": [
    "保存序列"
   ]
  },
  {
   "cell_type": "code",
   "execution_count": 37,
   "metadata": {},
   "outputs": [],
   "source": [
    "with open(f\"{dataset_out_path}/spT2SE.fasta\", \"w+\", encoding=\"UTF-8\") as f:\n",
    "    SeqIO.write(\n",
    "        [\n",
    "            t2se_data_dict[seq_id]\n",
    "            for seq_id in with_sp\n",
    "        ],\n",
    "        f,\n",
    "        \"fasta\"\n",
    "    )"
   ]
  },
  {
   "cell_type": "code",
   "execution_count": 38,
   "metadata": {},
   "outputs": [],
   "source": [
    "with open(f\"{dataset_out_path}/nospT2SE.fasta\", \"w+\", encoding=\"UTF-8\") as f:\n",
    "    SeqIO.write(\n",
    "        [\n",
    "            t2se_data_dict[seq_id]\n",
    "            for seq_id in with_nosp\n",
    "        ],\n",
    "        f,\n",
    "        \"fasta\"\n",
    "    )"
   ]
  },
  {
   "attachments": {},
   "cell_type": "markdown",
   "metadata": {},
   "source": [
    "获取相关特征"
   ]
  },
  {
   "cell_type": "code",
   "execution_count": 42,
   "metadata": {},
   "outputs": [],
   "source": [
    "def dual_with_X(seq:SeqRecord):\n",
    "    seq.seq = Seq.Seq(str(seq.seq).replace(\"X\", \"A\").replace(\"Z\", \"A\").replace(\"*\", \"A\").replace(\"-\", \"A\").replace(\"B\", \"A\").replace(\"U\", \"A\"))\n",
    "    return seq"
   ]
  },
  {
   "cell_type": "code",
   "execution_count": 43,
   "metadata": {},
   "outputs": [],
   "source": [
    "def make_neg_dataset(\n",
    "    need_size:int,\n",
    "    non_t2se_data_path:str\n",
    "):\n",
    "\n",
    "    non_t2se_data = list(\n",
    "        SeqIO.parse(non_t2se_data_path, \"fasta\")\n",
    "    )\n",
    "    choised_index_list = np.random.choice(\n",
    "        np.arange(len(non_t2se_data)),\n",
    "        size=need_size,\n",
    "        replace=False\n",
    "    )\n",
    "\n",
    "    return [\n",
    "        dual_with_X(non_t2se_data[choised_index])\n",
    "        for choised_index in choised_index_list\n",
    "    ]"
   ]
  },
  {
   "cell_type": "code",
   "execution_count": 46,
   "metadata": {},
   "outputs": [],
   "source": [
    "with open(f\"{dataset_out_path}/sp_paired_non_t2se.fasta\", \"w+\", encoding=\"UTF-8\") as f:\n",
    "    SeqIO.write(\n",
    "        sequences=make_neg_dataset(\n",
    "            need_size=len(with_sp),\n",
    "            non_t2se_data_path=non_t2se_data_path\n",
    "        ),\n",
    "        handle=f,\n",
    "        format=\"fasta\"\n",
    "    )"
   ]
  },
  {
   "cell_type": "code",
   "execution_count": 47,
   "metadata": {},
   "outputs": [],
   "source": [
    "with open(f\"{dataset_out_path}/nosp_paired_non_t2se.fasta\", \"w+\", encoding=\"UTF-8\") as f:\n",
    "    SeqIO.write(\n",
    "        sequences=make_neg_dataset(\n",
    "            need_size=len(with_nosp),\n",
    "            non_t2se_data_path=non_t2se_data_path\n",
    "        ),\n",
    "        handle=f,\n",
    "        format=\"fasta\"\n",
    "    )"
   ]
  },
  {
   "cell_type": "code",
   "execution_count": null,
   "metadata": {},
   "outputs": [],
   "source": []
  }
 ],
 "metadata": {
  "kernelspec": {
   "display_name": "TxSEml_Backend",
   "language": "python",
   "name": "python3"
  },
  "language_info": {
   "codemirror_mode": {
    "name": "ipython",
    "version": 3
   },
   "file_extension": ".py",
   "mimetype": "text/x-python",
   "name": "python",
   "nbconvert_exporter": "python",
   "pygments_lexer": "ipython3",
   "version": "3.10.12"
  },
  "orig_nbformat": 4
 },
 "nbformat": 4,
 "nbformat_minor": 2
}

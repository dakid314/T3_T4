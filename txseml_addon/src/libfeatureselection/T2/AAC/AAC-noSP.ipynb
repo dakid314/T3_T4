{
 "cells": [
  {
   "attachments": {},
   "cell_type": "markdown",
   "metadata": {},
   "source": [
    "# AAC 在SP亚型中问题"
   ]
  },
  {
   "attachments": {},
   "cell_type": "markdown",
   "metadata": {},
   "source": [
    "## 开始干正事：画图"
   ]
  },
  {
   "cell_type": "code",
   "execution_count": 1,
   "metadata": {},
   "outputs": [],
   "source": [
    "import sys\n",
    "sys.path.append(\"src\")\n",
    "import os\n",
    "import json\n",
    "\n",
    "import libpybiofeature\n",
    "\n",
    "import utils\n",
    "work_Dir = utils.workdir.workdir(os.getcwd(), 4)\n",
    "\n",
    "import numpy as np\n",
    "import pandas as pd\n",
    "\n",
    "from Bio import SeqIO\n",
    "\n",
    "random_seed = 42\n",
    "np.random.seed(random_seed)"
   ]
  },
  {
   "cell_type": "code",
   "execution_count": 2,
   "metadata": {},
   "outputs": [],
   "source": [
    "def load_AAC_feature(TxSE_args: dict):\n",
    "\n",
    "    # AAC\n",
    "    AAC_feature = {\n",
    "        \"name\": \"AAC\",\n",
    "        \"p\": libpybiofeature.featurebuilder.build_acc_feature(\n",
    "            path_to_fasta=TxSE_args['fasta']['p'],\n",
    "            seq_id_list=[ seq.id for seq in SeqIO.parse(TxSE_args['fasta']['p'], \"fasta\") ],\n",
    "            desc='p'\n",
    "        ),\n",
    "        \"n\": libpybiofeature.featurebuilder.build_acc_feature(\n",
    "            path_to_fasta=TxSE_args['fasta']['n'],\n",
    "            seq_id_list=[ seq.id for seq in SeqIO.parse(TxSE_args['fasta']['n'], \"fasta\") ],\n",
    "            desc='n'\n",
    "        ),\n",
    "    }\n",
    "\n",
    "    print(AAC_feature['n'].shape[0], AAC_feature['p'].shape[0])\n",
    "\n",
    "    return AAC_feature"
   ]
  },
  {
   "cell_type": "code",
   "execution_count": 3,
   "metadata": {},
   "outputs": [],
   "source": [
    "prot_type = 2\n",
    "cter_bool = False\n",
    "Tx_arg = {\n",
    "    \"type\": f'T{prot_type}',\n",
    "    'fasta': {\n",
    "        'cter': cter_bool,\n",
    "        'p': \"data/T2SE/nospT2SE.fasta\",\n",
    "        'n': \"data/T2SE/nosp_paired_non_t2se.fasta\"\n",
    "    },\n",
    "}\n",
    "save_dir = \"out/libfeatureselection/Second_feature_research/aac/nosp\""
   ]
  },
  {
   "cell_type": "code",
   "execution_count": 4,
   "metadata": {},
   "outputs": [
    {
     "name": "stderr",
     "output_type": "stream",
     "text": [
      "p_AAC: 100%|██████████| 11/11 [00:00<00:00, 37087.90it/s]\n",
      "n_AAC: 100%|██████████| 11/11 [00:00<00:00, 92831.68it/s]"
     ]
    },
    {
     "name": "stdout",
     "output_type": "stream",
     "text": [
      "11 11\n"
     ]
    },
    {
     "name": "stderr",
     "output_type": "stream",
     "text": [
      "\n"
     ]
    }
   ],
   "source": [
    "aac_data = load_AAC_feature(\n",
    "    TxSE_args=Tx_arg\n",
    ")\n",
    "aa_type = list(aac_data['p'].columns)"
   ]
  },
  {
   "cell_type": "code",
   "execution_count": 5,
   "metadata": {},
   "outputs": [],
   "source": [
    "import matplotlib as mpl\n",
    "\n",
    "mpl.rcParams['pdf.fonttype'] = 42\n",
    "mpl.rcParams['ps.fonttype'] = 42\n",
    "mpl.rcParams['svg.fonttype'] = 'none'\n",
    "mpl.rcParams['pdf.use14corefonts'] = False\n",
    "# mpl.rcParams['pdf.usecorefonts'] = True\n",
    "mpl.rcParams['pdf.compression'] = 9\n",
    "\n",
    "import matplotlib.pyplot as plt\n",
    "import scienceplots\n",
    "\n",
    "plt.style.use(['science', 'nature'])\n",
    "\n",
    "from matplotlib.ticker import MaxNLocator\n",
    "\n",
    "import seaborn as sns"
   ]
  },
  {
   "cell_type": "code",
   "execution_count": 6,
   "metadata": {},
   "outputs": [],
   "source": [
    "aac_data_transformed = pd.concat([aac_data['p'], aac_data['n']], keys=['T1SP', 'non-T1SP']).reset_index(level=0).rename({\n",
    "    \"level_0\": \"Type\"\n",
    "}, axis=1, inplace=False).melt(id_vars=\"Type\", value_vars=aa_type, ignore_index=False).rename({\n",
    "    \"variable\": \"Amino acid\",\n",
    "    \"value\": \"AAC\"\n",
    "}, axis=1, inplace=False)"
   ]
  },
  {
   "cell_type": "code",
   "execution_count": 7,
   "metadata": {},
   "outputs": [
    {
     "data": {
      "text/html": [
       "<div>\n",
       "<style scoped>\n",
       "    .dataframe tbody tr th:only-of-type {\n",
       "        vertical-align: middle;\n",
       "    }\n",
       "\n",
       "    .dataframe tbody tr th {\n",
       "        vertical-align: top;\n",
       "    }\n",
       "\n",
       "    .dataframe thead th {\n",
       "        text-align: right;\n",
       "    }\n",
       "</style>\n",
       "<table border=\"1\" class=\"dataframe\">\n",
       "  <thead>\n",
       "    <tr style=\"text-align: right;\">\n",
       "      <th></th>\n",
       "      <th>Type</th>\n",
       "      <th>Amino acid</th>\n",
       "      <th>AAC</th>\n",
       "    </tr>\n",
       "  </thead>\n",
       "  <tbody>\n",
       "    <tr>\n",
       "      <th>CAA77606.1</th>\n",
       "      <td>T1SP</td>\n",
       "      <td>A</td>\n",
       "      <td>0.120448</td>\n",
       "    </tr>\n",
       "    <tr>\n",
       "      <th>CAG68016.1</th>\n",
       "      <td>T1SP</td>\n",
       "      <td>A</td>\n",
       "      <td>0.078498</td>\n",
       "    </tr>\n",
       "    <tr>\n",
       "      <th>AAF96061.1</th>\n",
       "      <td>T1SP</td>\n",
       "      <td>A</td>\n",
       "      <td>0.059220</td>\n",
       "    </tr>\n",
       "    <tr>\n",
       "      <th>YP_620695.1</th>\n",
       "      <td>T1SP</td>\n",
       "      <td>A</td>\n",
       "      <td>0.133758</td>\n",
       "    </tr>\n",
       "    <tr>\n",
       "      <th>YP_441710.1</th>\n",
       "      <td>T1SP</td>\n",
       "      <td>A</td>\n",
       "      <td>0.134615</td>\n",
       "    </tr>\n",
       "    <tr>\n",
       "      <th>...</th>\n",
       "      <td>...</td>\n",
       "      <td>...</td>\n",
       "      <td>...</td>\n",
       "    </tr>\n",
       "    <tr>\n",
       "      <th>lcl|NC_007645.1_prot_WP_011394659.1_622</th>\n",
       "      <td>non-T1SP</td>\n",
       "      <td>Y</td>\n",
       "      <td>0.020833</td>\n",
       "    </tr>\n",
       "    <tr>\n",
       "      <th>lcl|NC_017731.1_prot_WP_014656537.1_929</th>\n",
       "      <td>non-T1SP</td>\n",
       "      <td>Y</td>\n",
       "      <td>0.035320</td>\n",
       "    </tr>\n",
       "    <tr>\n",
       "      <th>lcl|NC_007712.1_prot_309</th>\n",
       "      <td>non-T1SP</td>\n",
       "      <td>Y</td>\n",
       "      <td>0.020896</td>\n",
       "    </tr>\n",
       "    <tr>\n",
       "      <th>lcl|NC_002516.2_prot_NP_250303.1_1613</th>\n",
       "      <td>non-T1SP</td>\n",
       "      <td>Y</td>\n",
       "      <td>0.019920</td>\n",
       "    </tr>\n",
       "    <tr>\n",
       "      <th>lcl|NC_005861.1_prot_WP_011176540.1_1901</th>\n",
       "      <td>non-T1SP</td>\n",
       "      <td>Y</td>\n",
       "      <td>0.044444</td>\n",
       "    </tr>\n",
       "  </tbody>\n",
       "</table>\n",
       "<p>440 rows × 3 columns</p>\n",
       "</div>"
      ],
      "text/plain": [
       "                                              Type Amino acid       AAC\n",
       "CAA77606.1                                    T1SP          A  0.120448\n",
       "CAG68016.1                                    T1SP          A  0.078498\n",
       "AAF96061.1                                    T1SP          A  0.059220\n",
       "YP_620695.1                                   T1SP          A  0.133758\n",
       "YP_441710.1                                   T1SP          A  0.134615\n",
       "...                                            ...        ...       ...\n",
       "lcl|NC_007645.1_prot_WP_011394659.1_622   non-T1SP          Y  0.020833\n",
       "lcl|NC_017731.1_prot_WP_014656537.1_929   non-T1SP          Y  0.035320\n",
       "lcl|NC_007712.1_prot_309                  non-T1SP          Y  0.020896\n",
       "lcl|NC_002516.2_prot_NP_250303.1_1613     non-T1SP          Y  0.019920\n",
       "lcl|NC_005861.1_prot_WP_011176540.1_1901  non-T1SP          Y  0.044444\n",
       "\n",
       "[440 rows x 3 columns]"
      ]
     },
     "execution_count": 7,
     "metadata": {},
     "output_type": "execute_result"
    }
   ],
   "source": [
    "aac_data_transformed"
   ]
  },
  {
   "cell_type": "code",
   "execution_count": 8,
   "metadata": {},
   "outputs": [
    {
     "name": "stderr",
     "output_type": "stream",
     "text": [
      "/home/georgezhao/.pyvirtualenvs/TxSEml_Backend/lib/python3.10/site-packages/scipy/stats/_morestats.py:3145: UserWarning: Exact p-value calculation does not work if there are ties. Switching to normal approximation.\n",
      "  warnings.warn(\"Exact p-value calculation does not work if there are \"\n"
     ]
    }
   ],
   "source": [
    "def get_star(p:float):\n",
    "    if p <= 0.0001:\n",
    "        return \"****\"\n",
    "    elif p <= 0.001:\n",
    "        return \"***\"\n",
    "    elif p <= 0.01:\n",
    "        return \"**\"\n",
    "    elif p <= 0.05:\n",
    "        return \"*\"\n",
    "    else:\n",
    "        return \"\"\n",
    "from scipy.stats import wilcoxon\n",
    "grouped = aac_data_transformed.groupby(\"Amino acid\")\n",
    "wilcoxon_result = {}\n",
    "for name, group in grouped:\n",
    "    x = group[group['Type'] == 'T1SP']['AAC']\n",
    "    y = group[group['Type'] == 'non-T1SP']['AAC']\n",
    "    stat, p = wilcoxon(x, y)\n",
    "    wilcoxon_result[name] = {\n",
    "        \"statistic\": stat,\n",
    "        \"p-value\": p\n",
    "    }\n",
    "    # print(f'Type: {name}, Wilcoxon rank-sum statistic: {stat:.2f}, p-value: {p:.3f}')\n",
    "with open(f\"{save_dir}/wilcoxon_result.json\", \"w+\", encoding=\"UTF-8\") as f:\n",
    "    json.dump(wilcoxon_result, f)\n",
    "aac_data_transformed.to_csv(f\"{save_dir}/aac_data_transformed.csv\", index_label=\"Seq_ID\")"
   ]
  },
  {
   "cell_type": "code",
   "execution_count": 9,
   "metadata": {},
   "outputs": [
    {
     "data": {
      "image/png": "[encoded data removed]",
      "text/plain": [
       "<Figure size 648x833.143 with 2 Axes>"
      ]
     },
     "metadata": {},
     "output_type": "display_data"
    }
   ],
   "source": [
    "fig, (ax1, ax2) = plt.subplots(2, 1, figsize=(19.2 / 4 * 1.35, 10.8 / 3.5 * 2 * 1.35))\n",
    "\n",
    "sns.violinplot(\n",
    "    data=aac_data_transformed,\n",
    "    x=\"Amino acid\",\n",
    "    y=\"AAC\",\n",
    "    hue=\"Type\",\n",
    "    split=True,\n",
    "    linewidth=0.5,\n",
    "    palette=[\"#dd1940\", \"#1f4aec\"],\n",
    "    ax=ax1\n",
    ")\n",
    "ax1.set_ylim([aac_data_transformed['AAC'].min() - 0.075, aac_data_transformed['AAC'].max() + 0.1])\n",
    "ax_xticklabel_origin = ax1.get_xticklabels()\n",
    "ax_xticklabel = [ item._text for item in ax_xticklabel_origin ]\n",
    "ax1.tick_params(axis='x', length=2, top=False)\n",
    "ax1.xaxis.set_minor_locator(mpl.ticker.AutoMinorLocator(1))\n",
    "\n",
    "for i, (violin_1, violin_2) in enumerate(zip(ax1.collections[0::3], ax1.collections[2::3])):\n",
    "    center = violin_1.get_paths()[0].vertices[:, 0].mean()\n",
    "    height = max(violin_1.get_paths()[0].vertices[:, 1].max(), violin_2.get_paths()[0].vertices[:, 1].max())\n",
    "    ax1.text(i, height, get_star(\n",
    "        p = wilcoxon_result[ax_xticklabel[i]][\"p-value\"]\n",
    "    ), fontsize=12, color=\"#9b324c\", ha='center', va='center')\n",
    "\n",
    "sns.boxplot(\n",
    "    data=aac_data_transformed,\n",
    "    x=\"Amino acid\",\n",
    "    y=\"AAC\",\n",
    "    hue=\"Type\",\n",
    "    linewidth=0.5,\n",
    "    palette=[\"#dd1940\", \"#1f4aec\"],\n",
    "    fliersize=1.5,\n",
    "    ax=ax2\n",
    ")\n",
    "ax2.set_ylim([aac_data_transformed['AAC'].min() - 0.02, aac_data_transformed['AAC'].max() + 0.06])\n",
    "ax_xticklabel_origin = ax2.get_xticklabels()\n",
    "ax_xticklabel = [ item._text for item in ax_xticklabel_origin ]\n",
    "ax2.tick_params(axis='x', length=2, top=False)\n",
    "ax2.xaxis.set_minor_locator(mpl.ticker.AutoMinorLocator(1))\n",
    "\n",
    "for i, aa in enumerate(ax_xticklabel):\n",
    "    center = i\n",
    "    height = max(aac_data_transformed[aac_data_transformed[\"Amino acid\"] == aa]['AAC']) + 0.025\n",
    "    star_str = get_star(\n",
    "        p = wilcoxon_result[aa][\"p-value\"]\n",
    "    )\n",
    "    if \"*\" in star_str:\n",
    "        ax2.text(center, height, star_str, fontsize=12, color=\"#9b324c\", ha='center', va='center')\n",
    "        ax2.hlines(height,center-0.25,center+0.25, color=\"#bbbbbb\")\n",
    "        ax2.vlines(center-0.25,height-0.005, height, color=\"#bbbbbb\")\n",
    "        ax2.vlines(center+0.25,height-0.005, height, color=\"#bbbbbb\")\n",
    "\n",
    "# plt.title(\"AAC Training-Testing Wilcoxon Signed Ranks Test\")\n",
    "plt.savefig(f\"{save_dir}/diff.pdf\")\n",
    "plt.show()"
   ]
  },
  {
   "cell_type": "code",
   "execution_count": null,
   "metadata": {},
   "outputs": [],
   "source": []
  }
 ],
 "metadata": {
  "kernelspec": {
   "display_name": "TxSEml_Backend",
   "language": "python",
   "name": "python3"
  },
  "language_info": {
   "codemirror_mode": {
    "name": "ipython",
    "version": 3
   },
   "file_extension": ".py",
   "mimetype": "text/x-python",
   "name": "python",
   "nbconvert_exporter": "python",
   "pygments_lexer": "ipython3",
   "version": "3.10.12"
  },
  "orig_nbformat": 4
 },
 "nbformat": 4,
 "nbformat_minor": 2
}

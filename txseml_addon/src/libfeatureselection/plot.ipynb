{
 "cells": [
  {
   "attachments": {},
   "cell_type": "markdown",
   "metadata": {},
   "source": [
    "# Plot"
   ]
  },
  {
   "cell_type": "code",
   "execution_count": 1,
   "metadata": {},
   "outputs": [
    {
     "name": "stderr",
     "output_type": "stream",
     "text": [
      "2023-07-18 13:35:24.240219: W tensorflow/stream_executor/platform/default/dso_loader.cc:64] Could not load dynamic library 'libcudart.so.11.0'; dlerror: libcudart.so.11.0: cannot open shared object file: No such file or directory\n",
      "2023-07-18 13:35:24.240234: I tensorflow/stream_executor/cuda/cudart_stub.cc:29] Ignore above cudart dlerror if you do not have a GPU set up on your machine.\n"
     ]
    }
   ],
   "source": [
    "import os\n",
    "os.environ[\"TF_ENABLE_ONEDNN_OPTS\"] = \"0\"\n",
    "import pandas as pd\n",
    "import numpy as np\n",
    "import matplotlib as mpl\n",
    "\n",
    "mpl.rcParams['pdf.fonttype'] = 42\n",
    "mpl.rcParams['ps.fonttype'] = 42\n",
    "mpl.rcParams['svg.fonttype'] = 'none'\n",
    "mpl.rcParams['pdf.use14corefonts'] = False\n",
    "# mpl.rcParams['pdf.usecorefonts'] = True\n",
    "mpl.rcParams['pdf.compression'] = 9\n",
    "\n",
    "from IPython.display import display, HTML\n",
    "\n",
    "import matplotlib.pyplot as plt\n",
    "import scienceplots\n",
    "\n",
    "plt.style.use(['science', 'nature'])\n",
    "\n",
    "from sklearn.manifold import TSNE\n",
    "import umap.umap_ as umap\n",
    "from sklearn.preprocessing import MinMaxScaler\n",
    "\n",
    "class AttrDict(dict):\n",
    "    def __init__(self, *args, **kwargs):\n",
    "        super(AttrDict, self).__init__(*args, **kwargs)\n",
    "        self.__dict__ = self"
   ]
  },
  {
   "attachments": {},
   "cell_type": "markdown",
   "metadata": {},
   "source": [
    "解析xlsx结果文件"
   ]
  },
  {
   "cell_type": "code",
   "execution_count": 2,
   "metadata": {},
   "outputs": [],
   "source": [
    "def decode_total_df(result_df: pd.DataFrame):\n",
    "    model_name_list = result_df.loc[result_df.index.levels[0][0], :][\"Model_Information\"]['Classifier_Name'].to_list()\n",
    "    feature_model_df = result_df['Feature_Selected']\n",
    "    feature_model_df.reset_index(level=1, inplace=True)\n",
    "    feature_df = feature_model_df.iloc[:, 1:].reset_index(drop=True)\n",
    "    model_df = pd.DataFrame(np.eye(feature_model_df['Model_Type'].max()+1)[feature_model_df['Model_Type']], columns=[\n",
    "        f\"model-{i}\"\n",
    "        for i in range(feature_model_df['Model_Type'].max()+1)\n",
    "    ]).reset_index(drop=True)\n",
    "    auc_df = result_df['Best_Performance']['rocAUC'].to_frame().reset_index(drop=True)\n",
    "    mcc_df = result_df['Best_Performance']['mmc'].to_frame().reset_index(drop=True)\n",
    "    model_cata_df = feature_model_df['Model_Type'].to_frame().reset_index(drop=True)\n",
    "    return {\n",
    "        \"feature_df\": feature_df,\n",
    "        \"model_df\": model_df,\n",
    "        \"auc_df\": auc_df,\n",
    "        \"mcc_df\": mcc_df,\n",
    "        \"model_cata_df\": model_cata_df,\n",
    "        \"model_name_list\": model_name_list\n",
    "    }"
   ]
  },
  {
   "cell_type": "code",
   "execution_count": 3,
   "metadata": {},
   "outputs": [],
   "source": [
    "prot_type = 2\n",
    "fig_output_dir = f\"out/libfeatureselection/T{prot_type}/model/\""
   ]
  },
  {
   "attachments": {},
   "cell_type": "markdown",
   "metadata": {},
   "source": [
    "读取xlsx"
   ]
  },
  {
   "cell_type": "code",
   "execution_count": 4,
   "metadata": {},
   "outputs": [],
   "source": [
    "bayes_result_df = pd.read_excel(\n",
    "    f\"out/libfeatureselection/T{prot_type}/model/Bayes/searched_result.xlsx\",\n",
    "    f\"T{prot_type}\",\n",
    "    header=[0, 1],\n",
    "    index_col=[0, 1]\n",
    ")\n",
    "bayes_result_df_decode = decode_total_df(result_df=bayes_result_df)\n",
    "\n",
    "onehot_result_df = pd.read_excel(\n",
    "    f\"out/libfeatureselection/T{prot_type}/model/Onehot/searched_result.xlsx\",\n",
    "    f\"T{prot_type}\",\n",
    "    header=[0, 1],\n",
    "    index_col=[0, 1]\n",
    ")\n",
    "onehot_result_df_decode = decode_total_df(result_df=onehot_result_df)"
   ]
  },
  {
   "attachments": {},
   "cell_type": "markdown",
   "metadata": {},
   "source": [
    "# Fig3a"
   ]
  },
  {
   "cell_type": "code",
   "execution_count": null,
   "metadata": {},
   "outputs": [],
   "source": [
    "n_jobs = (\n",
    "    max(1, os.cpu_count() - 2)\n",
    "    if \"n_jobs\" not in os.environ or os.environ['n_jobs'] == \"\" else\n",
    "    int(os.environ['n_jobs'])\n",
    ")"
   ]
  },
  {
   "cell_type": "code",
   "execution_count": null,
   "metadata": {},
   "outputs": [],
   "source": [
    "def feature_2d_plot(\n",
    "    data: np.ndarray,\n",
    "    auc: np.ndarray,\n",
    "    mcc: np.ndarray,\n",
    "    # scheme_type: np.ndarray,\n",
    "    desc: str,\n",
    "    path_to_out_dir: str,\n",
    "    n_jobs: int = n_jobs\n",
    "):\n",
    "    # desc Need Type and Feature\n",
    "\n",
    "    os.makedirs(path_to_out_dir, exist_ok=True)\n",
    "\n",
    "    tsne = TSNE(\n",
    "        n_components=2,\n",
    "        verbose=0,\n",
    "        n_jobs=n_jobs,\n",
    "        random_state=42\n",
    "    )\n",
    "    z0 = MinMaxScaler().fit_transform(tsne.fit_transform(data))\n",
    "\n",
    "    umaper = umap.UMAP(\n",
    "        n_neighbors=5,\n",
    "        n_components=2,\n",
    "        n_epochs=10000,\n",
    "        min_dist=0.1,\n",
    "        local_connectivity=1,\n",
    "        n_jobs=n_jobs,\n",
    "        random_state=42\n",
    "    )\n",
    "    z1 = MinMaxScaler().fit_transform(umaper.fit_transform(data))\n",
    "\n",
    "    df0 = pd.DataFrame()\n",
    "    df0[\"comp-1\"] = z0[:, 0]\n",
    "    df0[\"comp-2\"] = z0[:, 1]\n",
    "    df0[\"auc\"] = auc\n",
    "    df0[\"mcc\"] = mcc\n",
    "    # df0[\"scheme_type\"] = scheme_type\n",
    "\n",
    "    df1 = pd.DataFrame()\n",
    "    df1[\"comp-1\"] = z1[:, 0]\n",
    "    df1[\"comp-2\"] = z1[:, 1]\n",
    "    df1[\"auc\"] = auc\n",
    "    df1[\"mcc\"] = mcc\n",
    "    # df1[\"scheme_type\"] = scheme_type\n",
    "\n",
    "    fig, ax = plt.subplots(\n",
    "        nrows=1,\n",
    "        ncols=2,\n",
    "        figsize=(19.2 / 2, 10.8 / 4),\n",
    "    )\n",
    "\n",
    "    ax[0].scatter(\n",
    "        df0[\"comp-1\"],\n",
    "        df0[\"comp-2\"],\n",
    "        c=df0[\"auc\"],\n",
    "        s=df0[\"mcc\"],\n",
    "        cmap=\"Reds\",\n",
    "        vmin=0.6,\n",
    "        vmax=1.0,\n",
    "        alpha=0.5,\n",
    "    )\n",
    "    ax[0].set_title(f\"{desc} Feature Combinations T-SNE projection\")\n",
    "    ax[0].set_aspect('equal', adjustable='box')\n",
    "\n",
    "    ax[1].scatter(\n",
    "        df1[\"comp-1\"],\n",
    "        df1[\"comp-2\"],\n",
    "        c=df1[\"auc\"],\n",
    "        s=df1[\"mcc\"],\n",
    "        cmap=\"Reds\",\n",
    "        vmin=0.6,\n",
    "        vmax=1.0,\n",
    "        alpha=0.5,\n",
    "    )\n",
    "    ax[1].set_title(f\"{desc} Feature Combinations UMAP projection\")\n",
    "    ax[1].set_aspect('equal', adjustable='box')\n",
    "\n",
    "    plt.tight_layout()\n",
    "    plt.savefig(os.path.join(path_to_out_dir, f\"{desc}_Feature_Combinations_projection.pdf\"))\n",
    "    plt.close(fig)\n",
    "    return"
   ]
  },
  {
   "cell_type": "code",
   "execution_count": null,
   "metadata": {},
   "outputs": [],
   "source": [
    "feature_2d_plot(\n",
    "    data=bayes_result_df_decode[\"feature_df\"].values,\n",
    "    auc=bayes_result_df_decode[\"auc_df\"].values,\n",
    "    mcc=bayes_result_df_decode[\"mcc_df\"].values,\n",
    "    desc=f\"T{prot_type}\",\n",
    "    path_to_out_dir=f\"{fig_output_dir}/scheme_plot/\"\n",
    ")"
   ]
  },
  {
   "attachments": {},
   "cell_type": "markdown",
   "metadata": {},
   "source": [
    "# Fig 3b"
   ]
  },
  {
   "cell_type": "code",
   "execution_count": 5,
   "metadata": {},
   "outputs": [],
   "source": [
    "import seaborn as sns"
   ]
  },
  {
   "cell_type": "code",
   "execution_count": 6,
   "metadata": {},
   "outputs": [],
   "source": [
    "threshold = AttrDict({\n",
    "    \"rocauc\": 0.9,\n",
    "    \"mcc\": 0.8,\n",
    "})"
   ]
  },
  {
   "attachments": {},
   "cell_type": "markdown",
   "metadata": {},
   "source": [
    "统计两组特征选择算法有效的数目"
   ]
  },
  {
   "attachments": {},
   "cell_type": "markdown",
   "metadata": {},
   "source": [
    "仅仅看两组auc 大于阈值"
   ]
  },
  {
   "cell_type": "code",
   "execution_count": 7,
   "metadata": {},
   "outputs": [
    {
     "data": {
      "text/plain": [
       "'out/libfeatureselection/T2/model//effectiness.pdf'"
      ]
     },
     "execution_count": 7,
     "metadata": {},
     "output_type": "execute_result"
    },
    {
     "data": {
      "text/plain": [
       "<Figure size 330x250 with 0 Axes>"
      ]
     },
     "metadata": {},
     "output_type": "display_data"
    }
   ],
   "source": [
    "fig = plt.figure(\n",
    "    # figsize=(3.5, 5.0)\n",
    ")\n",
    "ax = fig.add_subplot()\n",
    "bayes_effectness_model_count = bayes_result_df.groupby(level=0).apply(\n",
    "    lambda gdf: gdf[((\n",
    "        (gdf[\"Best_Performance\"][\"rocAUC\"] > threshold.rocauc) & (gdf[\"Best_Performance\"][\"mmc\"] > threshold.mcc)\n",
    "    ) & (\n",
    "        (gdf[\"5FoldCV_Performance\"][\"rocAUC\"] > threshold.rocauc) & (gdf[\"5FoldCV_Performance\"][\"mmc\"] > threshold.mcc)\n",
    "    ))].shape[0]\n",
    ")\n",
    "onehot_effectness_model_count = onehot_result_df.groupby(level=0).apply(\n",
    "    lambda gdf: gdf[((\n",
    "        (gdf[\"Best_Performance\"][\"rocAUC\"] > threshold.rocauc) & (gdf[\"Best_Performance\"][\"mmc\"] > threshold.mcc)\n",
    "    ) & (\n",
    "        (gdf[\"5FoldCV_Performance\"][\"rocAUC\"] > threshold.rocauc) & (gdf[\"5FoldCV_Performance\"][\"mmc\"] > threshold.mcc)\n",
    "    ))].shape[0]\n",
    ")\n",
    "sns.histplot(data=bayes_effectness_model_count, stat='probability',discrete=True,label='Comb', color=\"#dd1940aa\")\n",
    "sns.histplot(data=onehot_effectness_model_count, stat='probability',discrete=True,label='Single', color=\"#1f4aecaa\")\n",
    "# plt.axvline(x=0.5, color='#b9975daa', linestyle='--')\n",
    "# plt.axvline(x=1.5, color='#b9975daa', linestyle='--')\n",
    "# plt.axvline(x=2.5, color='#b9975daa', linestyle='--')\n",
    "# plt.axvline(x=3.5, color='#b9975daa', linestyle='--')\n",
    "\n",
    "plt.title(\"Distribution of effective T2SP models\")\n",
    "ax.xaxis.set_minor_locator(mpl.ticker.AutoMinorLocator(1))\n",
    "ax.tick_params(axis='x', length=2, top=False, )\n",
    "plt.xticks(np.arange(0, np.max([np.max(bayes_effectness_model_count), np.max(onehot_effectness_model_count)]) + 2))\n",
    "plt.xlabel(\"The number of effective models\")\n",
    "plt.ylabel(\"Frequency\")\n",
    "plt.legend()\n",
    "plt.tight_layout()\n",
    "plt.savefig(f\"{fig_output_dir}/effectiness.pdf\")\n",
    "plt.clf()\n",
    "f\"{fig_output_dir}/effectiness.pdf\""
   ]
  },
  {
   "cell_type": "code",
   "execution_count": null,
   "metadata": {},
   "outputs": [],
   "source": []
  }
 ],
 "metadata": {
  "kernelspec": {
   "display_name": "TxSEml_Backend",
   "language": "python",
   "name": "python3"
  },
  "language_info": {
   "codemirror_mode": {
    "name": "ipython",
    "version": 3
   },
   "file_extension": ".py",
   "mimetype": "text/x-python",
   "name": "python",
   "nbconvert_exporter": "python",
   "pygments_lexer": "ipython3",
   "version": "3.10.12"
  },
  "orig_nbformat": 4
 },
 "nbformat": 4,
 "nbformat_minor": 2
}

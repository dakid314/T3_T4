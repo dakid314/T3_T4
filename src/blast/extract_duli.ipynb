{
 "cells": [
  {
   "cell_type": "code",
   "execution_count": 16,
   "metadata": {},
   "outputs": [],
   "source": [
    "import pandas as pd\n",
    "from Bio import SeqIO\n"
   ]
  },
  {
   "cell_type": "code",
   "execution_count": 3,
   "metadata": {},
   "outputs": [],
   "source": [
    "t3 = pd.read_csv('t3.csv')\n",
    "Salmonella_strain = []\n",
    "Salmonella_organism = []\n",
    "Ralstonia_strain = []\n",
    "Ralstonia_organism = []"
   ]
  },
  {
   "cell_type": "code",
   "execution_count": 14,
   "metadata": {},
   "outputs": [
    {
     "data": {
      "text/plain": [
       "'Escherichia coli KTE142'"
      ]
     },
     "execution_count": 14,
     "metadata": {},
     "output_type": "execute_result"
    }
   ],
   "source": [
    "for a in range(len(t3)):\n",
    "    tmp = t3.iloc[a,a]\n",
    "    string_ = tmp.split('\\t')\n",
    "    if 'Salmonella' in string_[3]:\n",
    "        Salmonella_strain.append(string_[2])\n",
    "        Salmonella_organism.append(string_[3])\n",
    "    elif 'Ralstonia' in string_[3]:\n",
    "        Ralstonia_strain.append(string_[2])\n",
    "        Ralstonia_organism.append(string_[3])\n",
    "fasta_sequences = list(SeqIO.parse('T3SE.fasta', \"fasta\"))   \n"
   ]
  },
  {
   "cell_type": "code",
   "execution_count": 3,
   "metadata": {},
   "outputs": [
    {
     "name": "stdout",
     "output_type": "stream",
     "text": [
      "完成！已将选定的蛋白质序列保存到 75neg.fasta\n"
     ]
    }
   ],
   "source": [
    "from Bio import SeqIO\n",
    "from Bio.Seq import Seq\n",
    "import random\n",
    "import os\n",
    "\n",
    "def count_protein_sequences(pos_fasta_file):\n",
    "    protein_count = 0\n",
    "    for record in SeqIO.parse(pos_fasta_file, \"fasta\"):\n",
    "        protein_count += 1\n",
    "    return protein_count\n",
    "\n",
    "def select_protein_sequences(neg_fasta_file,pos_fasta_file, seed,num):\n",
    "    random.seed(seed)\n",
    "    protein_count = count_protein_sequences(pos_fasta_file)\n",
    "    total_selected = num * protein_count\n",
    "\n",
    "    selected_proteins = random.sample(list(SeqIO.parse(neg_fasta_file, \"fasta\")), total_selected)\n",
    "    return selected_proteins\n",
    "\n",
    "def write_selected_proteins(selected_proteins, output_file):\n",
    "    with open(output_file, \"w\") as f:\n",
    "        for record in selected_proteins:\n",
    "            seq = str(record.seq)\n",
    "            seq = seq.replace('X', 'A')\n",
    "            seq = seq.replace('U', 'A')\n",
    "            seq = seq.replace('B', 'A')\n",
    "            seq = seq.replace('J', 'A')\n",
    "            record.seq = Seq(seq)\n",
    "            SeqIO.write(record, f, \"fasta\")\n",
    "\n",
    "rate = 70\n",
    "\n",
    "pos_fasta_file = f\"blast_out/T3/Ralstonia_pseudosolanacearum_GMI1000/strict/strict_Ralstonia_pseudosolanacearum_GMI1000_blast.fasta\"\n",
    "a = 10\n",
    "neg_fasta_file = f\"data/new_T3/neg/all_nT3_70.fasta\"\n",
    "\n",
    "while a < 11: \n",
    "    lst = [7]\n",
    "    for num in  lst:          \n",
    "        seed = 12345324\n",
    "        selected_proteins = select_protein_sequences(neg_fasta_file,pos_fasta_file, seed,num)\n",
    "        \n",
    "       \n",
    "        output_file = f'75neg.fasta'\n",
    "        write_selected_proteins(selected_proteins, output_file)\n",
    "    a+=2\n",
    "        \n",
    "\n",
    "print(\"完成！已将选定的蛋白质序列保存到\", output_file)"
   ]
  }
 ],
 "metadata": {
  "kernelspec": {
   "display_name": "wujiam",
   "language": "python",
   "name": "python3"
  },
  "language_info": {
   "codemirror_mode": {
    "name": "ipython",
    "version": 3
   },
   "file_extension": ".py",
   "mimetype": "text/x-python",
   "name": "python",
   "nbconvert_exporter": "python",
   "pygments_lexer": "ipython3",
   "version": "3.10.13"
  }
 },
 "nbformat": 4,
 "nbformat_minor": 2
}

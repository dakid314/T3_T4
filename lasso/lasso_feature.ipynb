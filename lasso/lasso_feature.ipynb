{
 "cells": [
  {
   "cell_type": "code",
   "execution_count": null,
   "metadata": {},
   "outputs": [],
   "source": [
    "import pandas as pd"
   ]
  },
  {
   "cell_type": "code",
   "execution_count": null,
   "metadata": {},
   "outputs": [],
   "source": [
    "import pandas as pd\n",
    "\n",
    "df1 = pd.read_csv('scc_results.csv')\n",
    "p = df1['p_value']\n",
    "out = df1['OTU']\n",
    "df2 = pd.read_excel('otu.xlsx')\n",
    "cui = list(df2['feature'])\n",
    "new_df = pd.DataFrame(columns=df2.columns)\n",
    "\n",
    "for a in range(len(p)):\n",
    "    if p[a] < 0.05:\n",
    "        new_row = df2.loc[cui.index(out[a])]\n",
    "        new_df = pd.concat([new_df, pd.DataFrame(new_row).T], ignore_index=True)\n",
    "\n",
    "new_df.to_csv('fit1.csv',index=False)"
   ]
  },
  {
   "cell_type": "code",
   "execution_count": null,
   "metadata": {},
   "outputs": [],
   "source": [
    "df = pd.read_csv('fit1.csv')\n",
    "df_transposed = df.transpose()\n",
    "df_transposed.to_csv('newfit1.csv')\n"
   ]
  },
  {
   "cell_type": "code",
   "execution_count": null,
   "metadata": {},
   "outputs": [],
   "source": [
    "n = pd.read_csv('newfit1.csv')\n",
    "n['label'] = ''\n",
    "g = pd.read_csv('group.csv')\n",
    "gs = list(g['Sample'])\n",
    "gg = list(g['Group'])\n",
    "s = list(n['Sample'])\n",
    "for b in range(len(s)):\n",
    "    i = gs.index(s[b])\n",
    "    n.loc[b,'label'] = gg[i]"
   ]
  },
  {
   "cell_type": "code",
   "execution_count": null,
   "metadata": {},
   "outputs": [],
   "source": [
    "import pandas as pd\n",
    "from sklearn.linear_model import Lasso\n",
    "from sklearn.feature_selection import SelectFromModel\n",
    "n.to_csv('lfit1.csv',index=False)\n",
    "# 创建示例数据\n",
    "X = n.iloc[:, 1:51]  # 特征\n",
    "y = n.iloc[:, 51]  # 标签\n",
    "\n",
    "# 创建并拟合 Lasso 回归模型\n",
    "lasso = Lasso(alpha=0.0005)  # 调整 alpha 参数来控制正则化强度\n",
    "lasso.fit(X, y)\n",
    "\n",
    "sfm = SelectFromModel(lasso)\n",
    "X_selected = sfm.transform(X)\n",
    "\n",
    "# 获取选择的特征索引\n",
    "selected_feature_indices = sfm.get_support(indices=True)\n",
    "\n",
    "selected_features = X.iloc[:, selected_feature_indices]\n",
    "selected_features['label'] = y.values  # 将标签数据转换为数组形式\n",
    "# 获取选择的特征的系数\n",
    "selected_feature_contributions = lasso.coef_[selected_feature_indices]\n",
    "selected_features.to_csv('feature.csv')\n",
    "# 打印选择的特征的贡献度\n",
    "print(\"Selected Feature Contributions:\")\n",
    "for i, idx in enumerate(selected_feature_indices):\n",
    "    print(f\"Feature {X.columns[idx]}: {selected_feature_contributions[i]}\")"
   ]
  },
  {
   "cell_type": "code",
   "execution_count": null,
   "metadata": {},
   "outputs": [],
   "source": [
    "import pandas as pd\n",
    "f = pd.read_csv('/mnt/md0/Public/T3_T4/lasso/feature.csv')\n",
    "fea = f.iloc[0:,1:-1]\n",
    "feature_ = fea.astype(\"float\").values\n",
    "la = f.loc[0:,'label']\n",
    "target_ = la.values"
   ]
  }
 ],
 "metadata": {
  "kernelspec": {
   "display_name": "wujiam",
   "language": "python",
   "name": "python3"
  },
  "language_info": {
   "codemirror_mode": {
    "name": "ipython",
    "version": 3
   },
   "file_extension": ".py",
   "mimetype": "text/x-python",
   "name": "python",
   "nbconvert_exporter": "python",
   "pygments_lexer": "ipython3",
   "version": "3.10.13"
  }
 },
 "nbformat": 4,
 "nbformat_minor": 2
}

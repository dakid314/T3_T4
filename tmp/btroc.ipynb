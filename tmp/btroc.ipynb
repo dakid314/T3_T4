{
 "cells": [
  {
   "attachments": {},
   "cell_type": "markdown",
   "metadata": {},
   "source": [
    "# 加载模型并画图"
   ]
  },
  {
   "cell_type": "code",
   "execution_count": 17,
   "metadata": {},
   "outputs": [],
   "source": [
    "import os\n",
    "from tqdm import tqdm\n",
    "import pickle\n",
    "import numpy as np\n",
    "import pandas as pd\n",
    "\n",
    "from sklearn.base import ClassifierMixin\n",
    "from sklearn.svm import SVC\n",
    "from sklearn.linear_model import LogisticRegression\n",
    "from sklearn.tree import DecisionTreeClassifier, ExtraTreeClassifier\n",
    "from sklearn.ensemble import ExtraTreesClassifier, RandomForestClassifier, GradientBoostingClassifier\n",
    "from sklearn.gaussian_process import GaussianProcessClassifier\n",
    "from sklearn.naive_bayes import GaussianNB\n",
    "from sklearn.neighbors import KNeighborsClassifier\n",
    "from sklearn.neural_network import MLPClassifier\n",
    "from xgboost import XGBClassifier\n",
    "from lightgbm import LGBMClassifier\n",
    "\n",
    "from sklearn.ensemble import BaggingClassifier, AdaBoostClassifier\n",
    "from sklearn.calibration import CalibratedClassifierCV\n",
    "\n",
    "from skopt.space import Real, Categorical\n",
    "from skopt import BayesSearchCV\n",
    "from sklearn.model_selection import cross_val_score, GridSearchCV, RepeatedStratifiedKFold\n",
    "from sklearn.metrics import roc_curve, confusion_matrix, precision_score, accuracy_score, f1_score, matthews_corrcoef, auc\n",
    "\n",
    "import matplotlib.pyplot as plt\n",
    "from sklearn.metrics import roc_curve, auc\n",
    "\n",
    "import warnings\n",
    "warnings.filterwarnings(\"ignore\")\n",
    "\n",
    "from sklearn.model_selection import StratifiedKFold\n",
    "from sklearn.metrics import confusion_matrix"
   ]
  },
  {
   "cell_type": "code",
   "execution_count": 18,
   "metadata": {},
   "outputs": [],
   "source": [
    "import matplotlib as mpl\n",
    "\n",
    "mpl.rcParams['pdf.fonttype'] = 42\n",
    "mpl.rcParams['ps.fonttype'] = 42\n",
    "mpl.rcParams['svg.fonttype'] = 'none'\n",
    "mpl.rcParams['pdf.use14corefonts'] = False\n",
    "# mpl.rcParams['pdf.usecorefonts'] = True\n",
    "mpl.rcParams['pdf.compression'] = 9\n",
    "\n",
    "import matplotlib.pyplot as plt\n",
    "import scienceplots\n",
    "\n",
    "plt.style.use(['science', 'nature'])"
   ]
  },
  {
   "cell_type": "code",
   "execution_count": 19,
   "metadata": {},
   "outputs": [],
   "source": [
    "model_name = [\"LogisticRegression\"][0]\n",
    "\n",
    "a = 1\n",
    "f = pd.read_excel(f'/mnt/md0/Public/T3_T4/feature.xlsx')\n",
    "feature = f.iloc[0:,1:-1]\n",
    "feature_ = feature.astype(\"float\").values\n",
    "target = f.loc[0:,'拔管成功']\n",
    "\n",
    "target_ = target.values\n",
    "# auc PDF的输出\n",
    "plot_output_pdf_general_path = f\"5FV/2_5FV/{a}\""
   ]
  },
  {
   "attachments": {},
   "cell_type": "markdown",
   "metadata": {},
   "source": [
    "定义常用变量"
   ]
  },
  {
   "cell_type": "code",
   "execution_count": 20,
   "metadata": {},
   "outputs": [],
   "source": [
    "predict_result_list_30 = []\n",
    "\n",
    "for Kfold_id, (train_id, test_id) in enumerate(\n",
    "    StratifiedKFold(\n",
    "        n_splits=5, \n",
    "        shuffle=True, \n",
    "        random_state=42\n",
    "    ).split(feature_, target_)\n",
    "):\n",
    "    test_feature_ = feature_[test_id]\n",
    "    test_target_ = target_[test_id]\n",
    "\n",
    "    model = pickle.load(\n",
    "        open(f\"5FV/2_5FV/{a}/{Kfold_id}/{model_name}.pkl\", \"br\")\n",
    "    )\n",
    "\n",
    "    predict_result_list_30.append([\n",
    "        model.predict_proba(X=test_feature_)[:, 1],\n",
    "        test_target_\n",
    "    ])\n"
   ]
  },
  {
   "cell_type": "code",
   "execution_count": 21,
   "metadata": {},
   "outputs": [],
   "source": [
    "def plot_roc_curve(\n",
    "    list1,\n",
    "    path_to_: str\n",
    "):\n",
    "    plt.figure(figsize=(19.2 / 4, 10.8 / 4))\n",
    "    plt.axis('square')\n",
    "\n",
    "    \n",
    "    base_fpr = np.linspace(0, 1, 101)\n",
    "    \n",
    "    colors = [\"red\"]  # 定义颜色列表，可以根据需要进行扩展\n",
    "\n",
    "    for i, predict_result_list in enumerate(list1):\n",
    "        color = colors[i % len(colors)] \n",
    "        tprs = []\n",
    "        \n",
    "        for item in predict_result_list:\n",
    "            target, pred = item[1], item[0]\n",
    "            fpr, tpr, thresholds = roc_curve(target, pred)\n",
    "            roc_auc = auc(fpr, tpr)\n",
    "            \n",
    "            tpr = np.interp(base_fpr, fpr, tpr)\n",
    "            tpr[0] = 0.0\n",
    "            tprs.append(tpr)\n",
    "            \n",
    "        tprs = np.array(tprs)\n",
    "        mean_tprs = tprs.mean(axis=0)\n",
    "        std = tprs.std(axis=0)\n",
    "    \n",
    "        plt.plot(\n",
    "                base_fpr, mean_tprs, color=color, lw=1,\n",
    "                \n",
    "                label= f'LR ROC = %0.2f' % auc(base_fpr, mean_tprs)\n",
    "            )\n",
    "            \n",
    "        \n",
    "\n",
    "    \n",
    "    plt.xlim([0.0, 1.0])\n",
    "    plt.ylim([0.0, 1.0])\n",
    "    plt.xlabel('False Positive Rate')\n",
    "    plt.ylabel('True Positive Rate')\n",
    "    plt.title('Receiver operating characteristic (ROC) curve')\n",
    "    plt.legend(loc=\"lower right\")\n",
    "\n",
    "    plt.savefig(f\"{path_to_}\", transparent=True)\n",
    "    plt.clf()"
   ]
  },
  {
   "cell_type": "code",
   "execution_count": 22,
   "metadata": {},
   "outputs": [
    {
     "data": {
      "text/plain": [
       "<Figure size 480x270 with 0 Axes>"
      ]
     },
     "metadata": {},
     "output_type": "display_data"
    }
   ],
   "source": [
    "plot_roc_curve(\n",
    "    [ predict_result_list_30],\n",
    "    path_to_=f\"{plot_output_pdf_general_path}5FCV_roc.pdf\"\n",
    ")"
   ]
  }
 ],
 "metadata": {
  "kernelspec": {
   "display_name": "wujiam",
   "language": "python",
   "name": "python3"
  },
  "language_info": {
   "codemirror_mode": {
    "name": "ipython",
    "version": 3
   },
   "file_extension": ".py",
   "mimetype": "text/x-python",
   "name": "python",
   "nbconvert_exporter": "python",
   "pygments_lexer": "ipython3",
   "version": "3.10.13"
  },
  "orig_nbformat": 4
 },
 "nbformat": 4,
 "nbformat_minor": 2
}
